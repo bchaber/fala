{
 "cells": [
  {
   "cell_type": "markdown",
   "id": "collective-rotation",
   "metadata": {},
   "source": [
    "#### A circuit model of an LC bandpass filter\n",
    "Originally implemnted in PLECS, then compared with Julia ACME.jl package.\n",
    "This model determines the current drawn from the voltage source for a Gaussian\n",
    "voltage pulse aplied as an input to the filter.\n",
    "\n",
    "The goal is to use automatic differentiation to calculate $\\partial i/\\partial v$ which is needed\n",
    "for the nonlinear Finite Element Method."
   ]
  },
  {
   "cell_type": "code",
   "execution_count": 1,
   "id": "meaning-methodology",
   "metadata": {},
   "outputs": [],
   "source": [
    "using ACME\n",
    "\n",
    "cir = @circuit begin\n",
    "    v  = voltagesource(), [-] == gnd\n",
    "    i  = currentprobe(),  [-] == gnd\n",
    "    r1 = resistor(5.0),   [1] == v[+]\n",
    "    c1 = capacitor(1e-9), [1] == r1[2], [2] == i[+]\n",
    "    r2 = resistor(0.05),  [1] == v[+]\n",
    "    l1 = inductor(10e-9), [1] == r2[2], [2] == i[+]\n",
    "end\n",
    "nothing"
   ]
  },
  {
   "cell_type": "code",
   "execution_count": 2,
   "id": "white-tyler",
   "metadata": {},
   "outputs": [],
   "source": [
    "Δt = 0.01e-9\n",
    "model = DiscreteModel(cir, Δt)\n",
    "nothing"
   ]
  },
  {
   "cell_type": "code",
   "execution_count": 3,
   "id": "abroad-washer",
   "metadata": {},
   "outputs": [
    {
     "data": {
      "text/plain": [
       "1×150001 Array{Float64,2}:\n",
       " 6.6865e-16  6.75127e-16  6.81651e-16  …  0.00280499  0.00280485  0.00280471"
      ]
     },
     "execution_count": 3,
     "metadata": {},
     "output_type": "execute_result"
    }
   ],
   "source": [
    "t = range(0.0, 1.5e-6, step=Δt)\n",
    "u = [exp(-(ti - 1e-7)^2 / 3e-16) for ti in t]\n",
    "y = run!(model, [ui for c in 1:1, ui in u])"
   ]
  },
  {
   "cell_type": "code",
   "execution_count": 4,
   "id": "false-minutes",
   "metadata": {},
   "outputs": [
    {
     "data": {
      "image/png": "[encoded data removed]",
      "text/plain": [
       "Figure(PyObject <Figure size 640x480 with 1 Axes>)"
      ]
     },
     "metadata": {},
     "output_type": "display_data"
    },
    {
     "name": "stderr",
     "output_type": "stream",
     "text": [
      "┌ Warning: PyPlot is using tkagg backend, which is known to cause crashes on MacOS (#410); use the MPLBACKEND environment variable to request a different backend.\n",
      "└ @ PyPlot /Users/bach/.julia/packages/PyPlot/XHEG0/src/init.jl:192\n"
     ]
    }
   ],
   "source": [
    "using PyPlot\n",
    "plot(y[:]);"
   ]
  },
  {
   "cell_type": "markdown",
   "id": "aboriginal-briefing",
   "metadata": {},
   "source": [
    "#### Custom and naive dual number implementation\n",
    "We are defining a basic set of operations on dual numbers which allow for easy automatic differentiation."
   ]
  },
  {
   "cell_type": "code",
   "execution_count": 5,
   "id": "digital-token",
   "metadata": {},
   "outputs": [
    {
     "data": {
      "text/plain": [
       "(0.0) + [1.0ε]"
      ]
     },
     "execution_count": 5,
     "metadata": {},
     "output_type": "execute_result"
    }
   ],
   "source": [
    "struct Dual{T <:Number} <:Number\n",
    "     v::T\n",
    "    dv::T\n",
    "end\n",
    "\n",
    "import Base: +, -, *, /\n",
    "-(x::Dual)          = Dual(-x.v,       -x.dv)\n",
    "+(x::Dual, y::Dual) = Dual( x.v + y.v,  x.dv + y.dv)\n",
    "-(x::Dual, y::Dual) = Dual( x.v - y.v,  x.dv - y.dv)\n",
    "*(x::Dual, y::Dual) = Dual( x.v * y.v,  x.dv * y.v + x.v * y.dv)\n",
    "/(x::Dual, y::Dual) = Dual( x.v / y.v, (x.dv * y.v - x.v * y.dv)/y.v^2)\n",
    "\n",
    "import Base: abs, sin, cos, tan, exp, log, sqrt, isless\n",
    "abs(x::Dual)  = Dual(abs(x.v),sign(x.v)*x.dv)\n",
    "sin(x::Dual)  = Dual(sin(x.v), cos(x.v)*x.dv)\n",
    "cos(x::Dual)  = Dual(cos(x.v),-sin(x.v)*x.dv)\n",
    "tan(x::Dual)  = Dual(tan(x.v), one(x.v)*x.dv + tan(x.v)^2*x.dv)\n",
    "exp(x::Dual)  = Dual(exp(x.v), exp(x.v)*x.dv)\n",
    "log(x::Dual)  = Dual(log(x.v), x.dv/x.v)\n",
    "sqrt(x::Dual) = Dual(sqrt(x.v),.5/sqrt(x.v) * x.dv)\n",
    "isless(x::Dual, y::Dual) = x.v < y.v;\n",
    "\n",
    "import Base: convert, promote_rule\n",
    "convert(::Type{Dual{T}}, x::Dual) where T = Dual(convert(T, x.v), convert(T, x.dv))\n",
    "convert(::Type{Dual{T}}, x::Number) where T = Dual(convert(T, x), zero(T))\n",
    "promote_rule(::Type{Dual{T}}, ::Type{R}) where {T,R} = Dual{promote_type(T,R)}\n",
    "\n",
    "import Base: show\n",
    "show(io::IO, x::Dual) = print(io, \"(\", x.v, \") + [\", x.dv, \"ε]\");\n",
    "value(x::Dual) = x.v;\n",
    "partials(x::Dual) = x.dv;\n",
    "\n",
    "ε = Dual(0., 1.)"
   ]
  },
  {
   "cell_type": "markdown",
   "id": "senior-influence",
   "metadata": {},
   "source": [
    "#### Automatic Differentiation of ACME.jl model\n",
    "Let's try to differentiate the circuit using ACME.jl."
   ]
  },
  {
   "cell_type": "code",
   "execution_count": 6,
   "id": "deadly-image",
   "metadata": {},
   "outputs": [
    {
     "ename": "LoadError",
     "evalue": "MethodError: no method matching run!(::DiscreteModel{Tuple{}}, ::Array{Dual{Float64},2})\nClosest candidates are:\n  run!(::DiscreteModel, !Matched::AbstractArray{Float64,2}; showprogress) at /Users/bach/.julia/packages/ACME/UHz8S/src/ACME.jl:542",
     "output_type": "error",
     "traceback": [
      "MethodError: no method matching run!(::DiscreteModel{Tuple{}}, ::Array{Dual{Float64},2})\nClosest candidates are:\n  run!(::DiscreteModel, !Matched::AbstractArray{Float64,2}; showprogress) at /Users/bach/.julia/packages/ACME/UHz8S/src/ACME.jl:542",
      "",
      "Stacktrace:",
      " [1] top-level scope at In[6]:6",
      " [2] include_string(::Function, ::Module, ::String, ::String) at ./loading.jl:1091"
     ]
    }
   ],
   "source": [
    "Δt = 0.01e-9\n",
    "model = DiscreteModel(cir, Δt)\n",
    "\n",
    "t = range(0.0, 0.5e-6, step=Δt)\n",
    "u = [exp(-(ti - 1e-7)^2 / 3e-16) for ti in t]\n",
    "y = run!(model, [(ui + ε) for c in 1:1, ui in u])"
   ]
  },
  {
   "cell_type": "code",
   "execution_count": null,
   "id": "grand-arlington",
   "metadata": {},
   "outputs": [],
   "source": []
  }
 ],
 "metadata": {
  "kernelspec": {
   "display_name": "Julia 1.5.3",
   "language": "julia",
   "name": "julia-1.5"
  },
  "language_info": {
   "file_extension": ".jl",
   "mimetype": "application/julia",
   "name": "julia",
   "version": "1.5.3"
  }
 },
 "nbformat": 4,
 "nbformat_minor": 5
}

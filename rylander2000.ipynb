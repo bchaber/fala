{
 "cells": [
  {
   "cell_type": "code",
   "execution_count": 1,
   "id": "destroyed-carroll",
   "metadata": {},
   "outputs": [],
   "source": [
    "using LinearAlgebra\n",
    "include(\"plotting.jl\")\n",
    "include(\"meshing.jl\")\n",
    "nothing"
   ]
  },
  {
   "cell_type": "markdown",
   "id": "liable-happiness",
   "metadata": {},
   "source": [
    "### Edge elements on triangles\n",
    "This is based on $2 \\times 2$-element resonator example from \"Computational Electromagnetics\", 2000\n",
    "but solved with code from Davidson (\"Computational Electromagnetics for RF and Microwave Engineering\", 2011)"
   ]
  },
  {
   "cell_type": "code",
   "execution_count": 2,
   "id": "economic-touch",
   "metadata": {},
   "outputs": [
    {
     "data": {
      "text/plain": [
       "SandT (generic function with 1 method)"
      ]
     },
     "execution_count": 2,
     "metadata": {},
     "output_type": "execute_result"
    }
   ],
   "source": [
    "function SandT(x1, y1, x2, y2, x3, y3)\n",
    "    global LOCALEDGENODES\n",
    "\n",
    "    area = .5abs(det([1. x1 y1\n",
    "                      1. x2 y2\n",
    "                      1. x3 y3]))\n",
    "    temp = inv([x1 x2 x3\n",
    "                y1 y2 y3\n",
    "                1. 1. 1.])\n",
    "    b = temp[:,1]\n",
    "    c = temp[:,2]\n",
    "    a = temp[:,3]\n",
    "    ∇λ = [[b[1], c[1]],\n",
    "          [b[2], c[2]],\n",
    "          [b[3], c[3]]]\n",
    "    φ = zeros(3, 3) # φij = ∇λi ⋅ ∇λj = (bi⋅ci + bj⋅cj)\n",
    "    v = zeros(3, 3) # vij = ∇λi × ∇λj = (bi⋅cj - bj⋅ci)ẑ\n",
    "    for ii = 1:3\n",
    "       for jj = 1:3\n",
    "           φ[ii, jj] = b[ii] * b[jj] + c[ii] * c[jj]\n",
    "           v[ii, jj] = b[ii] * c[jj] - b[jj] * c[ii]\n",
    "       end \n",
    "    end\n",
    "\n",
    "    M = [2. 1. 1.\n",
    "         1. 2. 1.\n",
    "         1. 1. 2.] / 12.0\n",
    "\n",
    "    # Compute S and T\n",
    "    S = zeros(3, 3)\n",
    "    T = zeros(3, 3)\n",
    "    for ii = 1:3\n",
    "       for jj = 1:3\n",
    "         i1 = LOCALEDGENODES[ii,1]\n",
    "         i2 = LOCALEDGENODES[ii,2]\n",
    "         j1 = LOCALEDGENODES[jj,1]\n",
    "         j2 = LOCALEDGENODES[jj,2]\n",
    "         S[ii,jj] = 4area*v[i1, i2] * v[j1, j2]\n",
    "         T[ii,jj] = area*(φ[i2, j2] * M[i1, j1] +\n",
    "                        - φ[i2, j1] * M[i1, j2] +\n",
    "                        - φ[i1, j2] * M[i2, j1] +\n",
    "                        + φ[i1, j1] * M[i2, j2])\n",
    "       end \n",
    "    end\n",
    "    \n",
    "    return S, T\n",
    "end"
   ]
  },
  {
   "cell_type": "code",
   "execution_count": 3,
   "id": "designing-newark",
   "metadata": {},
   "outputs": [
    {
     "data": {
      "text/plain": [
       "simplex2D (generic function with 1 method)"
      ]
     },
     "execution_count": 3,
     "metadata": {},
     "output_type": "execute_result"
    }
   ],
   "source": [
    "function simplex2D(elem_num, xp, yp)\n",
    "    global ELEMENTS\n",
    "    global NODE_COORD \n",
    "\n",
    "    trinodes = ELEMENTS[elem_num, :]; \n",
    "    x1 = NODE_COORD[trinodes[1],1];\n",
    "    y1 = NODE_COORD[trinodes[1],2];\n",
    "    x2 = NODE_COORD[trinodes[2],1];\n",
    "    y2 = NODE_COORD[trinodes[2],2];\n",
    "    x3 = NODE_COORD[trinodes[3],1];\n",
    "    y3 = NODE_COORD[trinodes[3],2];\n",
    "\n",
    "    σ0 = det([1. x1 y1; 1. x2 y2; 1. x3 y3]);\n",
    "    σ1 = det([1. xp yp; 1. x2 y2; 1. x3 y3]);\n",
    "    σ2 = det([1. x1 y1; 1. xp yp; 1. x3 y3]);\n",
    "    σ3 = det([1. x1 y1; 1. x2 y2; 1. xp yp]);\n",
    "    λ  = [σ1/σ0, σ2/σ0, σ3/σ0]\n",
    "    return λ\n",
    "end"
   ]
  },
  {
   "cell_type": "code",
   "execution_count": 4,
   "id": "north-coast",
   "metadata": {},
   "outputs": [],
   "source": [
    "# Parameters\n",
    "ε0 = 1.\n",
    "μ0 = 1.\n",
    "εr = 1.\n",
    "μr = 1.\n",
    "σ  = 0.\n",
    "ε  = ε0 * εr\n",
    "μ  = μ0 * μr\n",
    "\n",
    "# Meshing\n",
    "a = 2.\n",
    "b = 2.\n",
    "nothing"
   ]
  },
  {
   "cell_type": "code",
   "execution_count": 5,
   "id": "southeast-combine",
   "metadata": {},
   "outputs": [
    {
     "name": "stderr",
     "output_type": "stream",
     "text": [
      "┌ Warning: PyPlot is using tkagg backend, which is known to cause crashes on MacOS (#410); use the MPLBACKEND environment variable to request a different backend.\n",
      "└ @ PyPlot /Users/bach/.julia/packages/PyPlot/XHEG0/src/init.jl:192\n"
     ]
    },
    {
     "data": {
      "image/png": "[encoded data removed]",
      "text/plain": [
       "Figure(PyObject <Figure size 500x100 with 1 Axes>)"
      ]
     },
     "metadata": {},
     "output_type": "display_data"
    }
   ],
   "source": [
    "using PyPlot\n",
    "\n",
    "LOCALEDGENODES = [1 2; 1 3; 2 3]\n",
    "trimesh(a, b, 2, 2)\n",
    "triedgemake()\n",
    "\n",
    "figure(figsize=(5,1))\n",
    "triplot(NODE_COORD[:,1], NODE_COORD[:,2], triangles=(ELEMENTS .- 1)); # subtract 1 as we go into Python-world\n",
    "axis(\"equal\");"
   ]
  },
  {
   "cell_type": "code",
   "execution_count": 6,
   "id": "worthy-parallel",
   "metadata": {},
   "outputs": [
    {
     "data": {
      "text/plain": [
       "dof_type (generic function with 1 method)"
      ]
     },
     "execution_count": 6,
     "metadata": {},
     "output_type": "execute_result"
    }
   ],
   "source": [
    "DOF_NONE = 0\n",
    "DOF_PEC  = 1\n",
    "\n",
    "function dof_type(a, b)\n",
    "    global NUM_EDGES\n",
    "    global EDGES\n",
    "    global NODE_COORD\n",
    "    dof_flag = zeros(Int64, NUM_EDGES)\n",
    "    \n",
    "    for i_edge = 1:NUM_EDGES\n",
    "       node1 = EDGES[i_edge, 1]\n",
    "       node2 = EDGES[i_edge, 2]\n",
    "       if NODE_COORD[node1, 2] ≈ 0. && NODE_COORD[node2, 2] ≈ 0. # ie y=0\n",
    "           dof_flag[i_edge] = DOF_PEC\n",
    "       end\n",
    "       if NODE_COORD[node1, 2] ≈ b  && NODE_COORD[node2, 2] ≈ b  # ie y=b\n",
    "           dof_flag[i_edge] = DOF_PEC\n",
    "       end\n",
    "       if NODE_COORD[node1, 1] ≈ 0. && NODE_COORD[node2, 1] ≈ 0. # ie x=0\n",
    "           dof_flag[i_edge] = DOF_PEC\n",
    "       end\n",
    "       if NODE_COORD[node1, 1] ≈ a  && NODE_COORD[node2, 1] ≈ a  # ie x=a\n",
    "           dof_flag[i_edge] = DOF_PEC\n",
    "       end\n",
    "    end\n",
    "    return dof_flag\n",
    "end"
   ]
  },
  {
   "cell_type": "code",
   "execution_count": 7,
   "id": "excess-scanning",
   "metadata": {},
   "outputs": [
    {
     "data": {
      "text/plain": [
       "dof_renumber! (generic function with 1 method)"
      ]
     },
     "execution_count": 7,
     "metadata": {},
     "output_type": "execute_result"
    }
   ],
   "source": [
    "function dof_renumber!(dof, Γ)\n",
    "    global NUM_EDGES\n",
    "    global NUM_DOFS\n",
    "    last = 0\n",
    "    for i_edge = 1:NUM_EDGES\n",
    "       if Γ[i_edge] == 0\n",
    "         dof[i_edge] = last + 1\n",
    "         last += 1\n",
    "       else\n",
    "         dof[i_edge] = 0\n",
    "       end\n",
    "    end\n",
    "    NUM_DOFS = last\n",
    "    return dof\n",
    "end"
   ]
  },
  {
   "cell_type": "code",
   "execution_count": 8,
   "id": "republican-cyprus",
   "metadata": {},
   "outputs": [],
   "source": [
    "dof = collect(1:NUM_EDGES)\n",
    "\n",
    "Γ = dof_type(a, b)\n",
    "dof_renumber!(dof, Γ);"
   ]
  },
  {
   "cell_type": "code",
   "execution_count": 9,
   "id": "exciting-alberta",
   "metadata": {},
   "outputs": [],
   "source": [
    "# ASSUMPTION: Waveguide is homogenous\n",
    "# Assemble stiffness and mass matrices\n",
    "S = zeros(NUM_DOFS, NUM_DOFS) # 1/μr ∫( ∇Ni × ∇Nj )dΩ\n",
    "T = zeros(NUM_DOFS, NUM_DOFS) # μ0 ε ∫( ∇Ni ⋅ ∇Nj )dΩ\n",
    "\n",
    "for ielem = 1:NUM_ELEMS # Assemble by elements\n",
    "  trinodes = ELEMENTS[ielem, :]\n",
    "  Se, Te = SandT(NODE_COORD[trinodes[1],1], NODE_COORD[trinodes[1],2],\n",
    "                 NODE_COORD[trinodes[2],1], NODE_COORD[trinodes[2],2],\n",
    "                 NODE_COORD[trinodes[3],1], NODE_COORD[trinodes[3],2])\n",
    "  \n",
    "  for jedge = 1:3\n",
    "    jj = dof[ELEMENT_EDGES[ielem, jedge]]\n",
    "    if jj == 0 continue end\n",
    "    for kedge = 1:3\n",
    "      kk = dof[ELEMENT_EDGES[ielem, kedge]]\n",
    "      if kk == 0 continue end\n",
    "      S[jj, kk] = S[jj, kk] + (1/μr) * Se[jedge, kedge]\n",
    "      T[jj, kk] = T[jj, kk] + (μ0*ε) * Te[jedge, kedge]\n",
    "    end\n",
    "  end\n",
    "end"
   ]
  },
  {
   "cell_type": "code",
   "execution_count": 10,
   "id": "painful-mambo",
   "metadata": {},
   "outputs": [
    {
     "data": {
      "image/png": "[encoded data removed]",
      "text/plain": [
       "Figure(PyObject <Figure size 500x200 with 2 Axes>)"
      ]
     },
     "metadata": {},
     "output_type": "display_data"
    }
   ],
   "source": [
    "figure(figsize=(5, 2))\n",
    "subplot(1, 2, 1); spy(S); title(\"S\"); xticks([]); yticks([]);\n",
    "subplot(1, 2, 2); spy(T); title(\"T\"); xticks([]); yticks([]);\n",
    "tight_layout()"
   ]
  },
  {
   "cell_type": "code",
   "execution_count": 11,
   "id": "single-disease",
   "metadata": {},
   "outputs": [
    {
     "data": {
      "text/plain": [
       "8-element Array{Float64,1}:\n",
       " -3.761075313495586e-15\n",
       "  2.20204102886729\n",
       "  2.399999999999998\n",
       "  5.071796769724493\n",
       " 12.0\n",
       " 14.399999999999999\n",
       " 18.92820323027551\n",
       " 21.797958971132708"
      ]
     },
     "execution_count": 11,
     "metadata": {},
     "output_type": "execute_result"
    }
   ],
   "source": [
    "using LinearAlgebra\n",
    "\n",
    "k², e = eigen(S, T)\n",
    "k²"
   ]
  },
  {
   "cell_type": "code",
   "execution_count": 12,
   "id": "floppy-prescription",
   "metadata": {},
   "outputs": [
    {
     "data": {
      "text/plain": [
       "8×8 Array{Float64,2}:\n",
       "  3.84593e-16  -0.612372  5.72081e-15  …  -0.866025      0.612372\n",
       "  0.5          -0.5       0.547723         0.5          -0.5\n",
       "  0.5          -0.612372  5.8181e-15      -5.71688e-16   0.612372\n",
       "  0.5           0.5       0.547723        -0.5           0.5\n",
       " -0.5           0.5       0.547723         0.5           0.5\n",
       " -0.5          -0.612372  5.31254e-15  …  -7.37062e-16   0.612372\n",
       " -0.5          -0.5       0.547723        -0.5          -0.5\n",
       "  2.48656e-16  -0.612372  5.77193e-15      0.866025      0.612372"
      ]
     },
     "execution_count": 12,
     "metadata": {},
     "output_type": "execute_result"
    }
   ],
   "source": [
    "e"
   ]
  },
  {
   "cell_type": "code",
   "execution_count": 13,
   "id": "inclusive-rings",
   "metadata": {},
   "outputs": [
    {
     "data": {
      "image/png": "[encoded data removed]",
      "text/plain": [
       "Figure(PyObject <Figure size 500x500 with 1 Axes>)"
      ]
     },
     "metadata": {},
     "output_type": "display_data"
    }
   ],
   "source": [
    "x = 0.1:0.2:1.9\n",
    "y = 0.1:0.2:1.9\n",
    "E = evaluate(WhitneyTriangleElement(), e[:, 4], dof, x, y)\n",
    "normE  = @. sqrt(E[:, :, 1]^2 + E[:, :, 2]^2)\n",
    "xx, yy = meshgrid(x, y);\n",
    "\n",
    "figure(figsize=(5, 5))\n",
    "contourf(xx', yy', normE, levels=20)\n",
    "quiver(xx', yy', E[:, :, 1], E[:, :, 2])\n",
    "xlim([-0.1, +2.1])\n",
    "ylim([-0.1, +2.1]); \n",
    "axis(\"equal\"); xticks([]); yticks([]);"
   ]
  },
  {
   "cell_type": "markdown",
   "id": "tribal-composite",
   "metadata": {},
   "source": [
    "### Edge elements on cartesian grids\n",
    "This is based on $2 \\times 2$-element resonator example from \"Computational Electromagnetics\", 2000"
   ]
  },
  {
   "cell_type": "code",
   "execution_count": 14,
   "id": "operational-wages",
   "metadata": {},
   "outputs": [
    {
     "data": {
      "text/plain": [
       "dof_type (generic function with 2 methods)"
      ]
     },
     "execution_count": 14,
     "metadata": {},
     "output_type": "execute_result"
    }
   ],
   "source": [
    "function dof_type(el2ed)\n",
    "    global NUM_EDGES\n",
    "    global EDGES\n",
    "    dof_flag = zeros(Int64, NUM_EDGES)\n",
    "    \n",
    "    for i_edge = 1:NUM_EDGES\n",
    "        if sum(el2ed .== i_edge) == 1\n",
    "            dof_flag[i_edge] = 1\n",
    "        end\n",
    "    end\n",
    "    return dof_flag\n",
    "end"
   ]
  },
  {
   "cell_type": "code",
   "execution_count": 15,
   "id": "biological-audio",
   "metadata": {},
   "outputs": [],
   "source": [
    "n, m = 2, 2\n",
    "lx = 2. / n\n",
    "ly = 2. / m\n",
    "el2ed, el2edd = quadmesh(a, b, n, m);"
   ]
  },
  {
   "cell_type": "code",
   "execution_count": 16,
   "id": "isolated-pulse",
   "metadata": {},
   "outputs": [],
   "source": [
    "dof = collect(1:NUM_EDGES)\n",
    "\n",
    "Γ = dof_type(el2ed)\n",
    "dof_renumber!(dof, Γ);\n",
    "dof = [0,0,0,1,0,3,4,0,2,0,0,0]; # override the natural order to align with Rylander's results"
   ]
  },
  {
   "cell_type": "code",
   "execution_count": 17,
   "id": "complex-ordinance",
   "metadata": {},
   "outputs": [],
   "source": [
    "S = zeros(NUM_DOFS, NUM_DOFS) # 1/μr ∫( ∇Ni × ∇Nj )dΩ\n",
    "T = zeros(NUM_DOFS, NUM_DOFS) # μ0 ε ∫( ∇Ni ⋅ ∇Nj )dΩ\n",
    "stiffness_element(lx, ly) =\n",
    "[lx/ly  1  lx/ly  1\n",
    "   1  ly/lx  1  ly/lx\n",
    " lx/ly  1  lx/ly  1\n",
    "   1  ly/lx  1  ly/lx]\n",
    "\n",
    "mass_element(lx, ly) = (lx * ly) / 6.0 *\n",
    "[ 2  0 -1  0\n",
    "  0  2  0 -1\n",
    " -1  0  2  0\n",
    "  0 -1  0  2]\n",
    "\n",
    "# ASSUMPTION: Waveguide is homogenous\n",
    "for ielem = 1:4 # Assemble by elements\n",
    "  Se = stiffness_element(a/2, b/2)\n",
    "  Te = mass_element(a/2, b/2)\n",
    "  for jedge = 1:4\n",
    "    dj = el2edd[ielem, jedge]\n",
    "    jj = dof[el2ed[ielem, jedge]]\n",
    "    if jj == 0\n",
    "      continue\n",
    "    end\n",
    "    \n",
    "    for kedge = 1:4\n",
    "      dk = el2edd[ielem, kedge]\n",
    "      kk = dof[el2ed[ielem, kedge]]\n",
    "      if kk == 0\n",
    "        continue\n",
    "      end\n",
    "\n",
    "      S[jj, kk] = S[jj, kk] + dj * dk * (1/μr) * Se[jedge, kedge]\n",
    "      T[jj, kk] = T[jj, kk] + dj * dk * (μ0*ε) * Te[jedge, kedge]\n",
    "    end\n",
    "  end\n",
    "end"
   ]
  },
  {
   "cell_type": "code",
   "execution_count": 18,
   "id": "legislative-spencer",
   "metadata": {},
   "outputs": [
    {
     "data": {
      "image/png": "[encoded data removed]",
      "text/plain": [
       "Figure(PyObject <Figure size 500x200 with 2 Axes>)"
      ]
     },
     "metadata": {},
     "output_type": "display_data"
    }
   ],
   "source": [
    "figure(figsize=(5, 2))\n",
    "subplot(1, 2, 1); spy(S); title(\"S\"); xticks([]); yticks([]);\n",
    "subplot(1, 2, 2); spy(T); title(\"T\"); xticks([]); yticks([]);\n",
    "tight_layout()"
   ]
  },
  {
   "cell_type": "code",
   "execution_count": 19,
   "id": "instrumental-consultancy",
   "metadata": {},
   "outputs": [
    {
     "data": {
      "text/plain": [
       "4-element Array{Float64,1}:\n",
       " -6.539907504432563e-16\n",
       "  3.0\n",
       "  3.0000000000000004\n",
       "  5.999999999999999"
      ]
     },
     "execution_count": 19,
     "metadata": {},
     "output_type": "execute_result"
    }
   ],
   "source": [
    "using LinearAlgebra\n",
    "\n",
    "k², e = eigen(S, T)\n",
    "k²"
   ]
  },
  {
   "cell_type": "code",
   "execution_count": 20,
   "id": "portable-wallpaper",
   "metadata": {},
   "outputs": [
    {
     "data": {
      "text/plain": [
       "4×4 Array{Float64,2}:\n",
       " -0.612372   0.866025     -2.71948e-16  -0.612372\n",
       "  0.612372   0.866025      2.71948e-16   0.612372\n",
       " -0.612372  -1.35974e-16   0.866025      0.612372\n",
       "  0.612372   0.0           0.866025     -0.612372"
      ]
     },
     "execution_count": 20,
     "metadata": {},
     "output_type": "execute_result"
    }
   ],
   "source": [
    "e"
   ]
  },
  {
   "cell_type": "markdown",
   "id": "talented-klein",
   "metadata": {},
   "source": [
    "### Better-resolved resonator\n",
    "It is the example presented in **6.5.4.2 Better-Resolved Resonator** describing a $1.3\\ \\text{m} \\times 0.9\\ \\text{m}$ cavity."
   ]
  },
  {
   "cell_type": "code",
   "execution_count": 21,
   "id": "medieval-management",
   "metadata": {},
   "outputs": [],
   "source": [
    "a, b = 1.3, 0.9\n",
    "n, m = 13, 9\n",
    "lx = a / n\n",
    "ly = b / m\n",
    "el2ed, el2edd = quadmesh(a, b, n, m);"
   ]
  },
  {
   "cell_type": "code",
   "execution_count": 22,
   "id": "greatest-stanley",
   "metadata": {},
   "outputs": [],
   "source": [
    "dof = collect(1:NUM_EDGES)\n",
    "\n",
    "Γ = dof_type(el2ed)\n",
    "dof_renumber!(dof, Γ);"
   ]
  },
  {
   "cell_type": "code",
   "execution_count": 23,
   "id": "expressed-ultimate",
   "metadata": {},
   "outputs": [],
   "source": [
    "S = zeros(NUM_DOFS, NUM_DOFS) # 1/μr ∫( ∇Ni × ∇Nj )dΩ\n",
    "T = zeros(NUM_DOFS, NUM_DOFS) # μ0 ε ∫( ∇Ni ⋅ ∇Nj )dΩ\n",
    "stiffness_element(lx, ly) =\n",
    "[lx/ly  1  lx/ly  1\n",
    "   1  ly/lx  1  ly/lx\n",
    " lx/ly  1  lx/ly  1\n",
    "   1  ly/lx  1  ly/lx]\n",
    "\n",
    "mass_element(lx, ly) = (lx * ly) / 6.0 *\n",
    "[ 2  0 -1  0\n",
    "  0  2  0 -1\n",
    " -1  0  2  0\n",
    "  0 -1  0  2]\n",
    "\n",
    "# ASSUMPTION: Waveguide is homogenous\n",
    "for ielem = 1:NUM_ELEMS # Assemble by elements\n",
    "  Se = stiffness_element(lx, ly)\n",
    "  Te = mass_element(lx, ly)\n",
    "  for jedge = 1:4\n",
    "    dj = el2edd[ielem, jedge]\n",
    "    jj = dof[el2ed[ielem, jedge]]\n",
    "    if jj == 0\n",
    "      continue\n",
    "    end\n",
    "    \n",
    "    for kedge = 1:4\n",
    "      dk = el2edd[ielem, kedge]\n",
    "      kk = dof[el2ed[ielem, kedge]]\n",
    "      if kk == 0\n",
    "        continue\n",
    "      end\n",
    "\n",
    "      S[jj, kk] = S[jj, kk] + dj * dk * (1/μr) * Se[jedge, kedge]\n",
    "      T[jj, kk] = T[jj, kk] + dj * dk * (μ0*ε) * Te[jedge, kedge]\n",
    "    end\n",
    "  end\n",
    "end"
   ]
  },
  {
   "cell_type": "code",
   "execution_count": 24,
   "id": "olympic-zoning",
   "metadata": {},
   "outputs": [
    {
     "data": {
      "image/png": "[encoded data removed]",
      "text/plain": [
       "Figure(PyObject <Figure size 500x200 with 2 Axes>)"
      ]
     },
     "metadata": {},
     "output_type": "display_data"
    }
   ],
   "source": [
    "figure(figsize=(5, 2))\n",
    "subplot(1, 2, 1); spy(S); title(\"S\"); xticks([]); yticks([]);\n",
    "subplot(1, 2, 2); spy(T); title(\"T\"); xticks([]); yticks([]);\n",
    "tight_layout()"
   ]
  },
  {
   "cell_type": "code",
   "execution_count": 25,
   "id": "prostate-vehicle",
   "metadata": {},
   "outputs": [
    {
     "data": {
      "text/plain": [
       "116-element Array{Float64,1}:\n",
       "    5.868478959131525\n",
       "   12.308915317405164\n",
       "   18.177394276536873\n",
       "   23.81820550965262\n",
       "   36.127120827057965\n",
       "   50.74876308579057\n",
       "   54.90011316046203\n",
       "   56.61724204492238\n",
       "   67.20902847786735\n",
       "   74.5669685954437\n",
       "  100.91690729028096\n",
       "  105.64887624625281\n",
       "  113.22582260768637\n",
       "    ⋮\n",
       " 1515.7636015844569\n",
       " 1534.7435668398628\n",
       " 1591.5830957352673\n",
       " 1615.0103014597876\n",
       " 1697.0099487531397\n",
       " 1749.172233874786\n",
       " 1754.661007048519\n",
       " 1873.733826762212\n",
       " 1935.9073542172023\n",
       " 2007.8957591772094\n",
       " 2112.631232226274\n",
       " 2246.7931646412717"
      ]
     },
     "execution_count": 25,
     "metadata": {},
     "output_type": "execute_result"
    }
   ],
   "source": [
    "using LinearAlgebra\n",
    "# the first (n-1)(m-1) eigenvalues correspond to E = -∇φ\n",
    "nondc = 1+(n-1)*(m-1) : NUM_DOFS\n",
    "k², e = eigen(S, T)\n",
    "k² = k²[nondc]"
   ]
  },
  {
   "cell_type": "code",
   "execution_count": 26,
   "id": "driving-morocco",
   "metadata": {},
   "outputs": [
    {
     "data": {
      "image/png": "[encoded data removed]",
      "text/plain": [
       "Figure(PyObject <Figure size 640x480 with 1 Axes>)"
      ]
     },
     "metadata": {},
     "output_type": "display_data"
    }
   ],
   "source": [
    "k²ref = sort(reshape([(π*n/1.3)^2 + (π*m/0.9)^2 for n=0:5, m=0:5 if n > 0 || m > 0], :))\n",
    "\n",
    "plot(1:20, k²[1:20], \"o\", mfc=\"w\")\n",
    "plot(1:20, k²ref[1:20], \"kx\"); grid()\n",
    "xticks(0:5:20)\n",
    "yticks(0:50:200)\n",
    "xlabel(\"mode [—]\")\n",
    "ylabel(\"k² [1/m²]\")\n",
    "tight_layout()"
   ]
  },
  {
   "cell_type": "code",
   "execution_count": 27,
   "id": "numerical-basic",
   "metadata": {
    "scrolled": false
   },
   "outputs": [
    {
     "data": {
      "image/png": "[encoded data removed]",
      "text/plain": [
       "Figure(PyObject <Figure size 640x480 with 1 Axes>)"
      ]
     },
     "metadata": {},
     "output_type": "display_data"
    }
   ],
   "source": [
    "elem = WhitneyRectangleElement()\n",
    "x = 0.05:0.1:1.25\n",
    "y = 0.05:0.1:0.85\n",
    "E = evaluate(elem, e[:, first(nondc)], dof, x, y, n, m, lx, ly, el2ed, el2edd)\n",
    "\n",
    "normE  = @. sqrt(E[:, :, 1]^2 + E[:, :, 2]^2)\n",
    "xx, yy = meshgrid(x, y);\n",
    "\n",
    "contourf(xx', yy', normE, levels=20)\n",
    "quiver(xx', yy', E[:, :, 1], E[:, :, 2])\n",
    "axis(\"equal\");\n",
    "xlim([-0.1, +1.4])\n",
    "ylim([-0.1, +1.0]); "
   ]
  },
  {
   "cell_type": "code",
   "execution_count": null,
   "id": "elder-elder",
   "metadata": {},
   "outputs": [],
   "source": []
  }
 ],
 "metadata": {
  "kernelspec": {
   "display_name": "Julia 1.5.3",
   "language": "julia",
   "name": "julia-1.5"
  },
  "language_info": {
   "file_extension": ".jl",
   "mimetype": "application/julia",
   "name": "julia",
   "version": "1.5.3"
  }
 },
 "nbformat": 4,
 "nbformat_minor": 5
}

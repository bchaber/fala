{
 "cells": [
  {
   "cell_type": "code",
   "execution_count": 1,
   "id": "destroyed-carroll",
   "metadata": {},
   "outputs": [],
   "source": [
    "using LinearAlgebra\n",
    "include(\"plotting.jl\")\n",
    "include(\"meshing.jl\")\n",
    "\n",
    "# Generates mesh for a axial rectangular domain using quads\n",
    "function axialquadmesh(a, b, Nx, Ny)\n",
    "    global NUM_NODES\n",
    "    global NUM_ELEMS\n",
    "    global NUM_EDGES\n",
    "    \n",
    "    NUM_EDGES = 2(Nx*Ny) + Nx + Ny\n",
    "    NUM_ELEMS = Nx * Ny\n",
    "    el2edd = repeat([+1 +1 -1 -1], NUM_ELEMS)\n",
    "    el2ed = zeros(Int64, NUM_ELEMS, 4)\n",
    "    el2r = zeros(Float64, NUM_ELEMS)\n",
    "    for jj = 1:Ny\n",
    "        for ii = 1:Nx\n",
    "            kk = (jj-1)Nx + ii\n",
    "            el2ed[kk, :]  .= [ii, ii+Nx+1, ii+Nx+1+Nx, ii+Nx]\n",
    "            el2ed[kk, :] .+= (jj-1) * (Nx + Nx + 1)\n",
    "            el2r[kk] = jj * b / Ny - 0.5b / Ny\n",
    "        end\n",
    "    end\n",
    "   \n",
    "    return el2ed, el2edd, el2r\n",
    "end\n",
    "nothing"
   ]
  },
  {
   "cell_type": "code",
   "execution_count": 2,
   "id": "economic-touch",
   "metadata": {},
   "outputs": [
    {
     "data": {
      "text/plain": [
       "abc (generic function with 1 method)"
      ]
     },
     "execution_count": 2,
     "metadata": {},
     "output_type": "execute_result"
    }
   ],
   "source": [
    "stiffness_element(lx, ly) =\n",
    "[lx/ly  1  lx/ly  1\n",
    "   1  ly/lx  1  ly/lx\n",
    " lx/ly  1  lx/ly  1\n",
    "   1  ly/lx  1  ly/lx]\n",
    "\n",
    "mass_element(lx, ly) = (lx * ly) / 6.0 *\n",
    "[ 2. 0 -1  0\n",
    "  0  2  0 -1\n",
    " -1  0  2  0\n",
    "  0 -1  0  2]\n",
    "\n",
    "volume(r, lx, ly) = (2π * r^2 * ly^2 * lx) / (ly * lx)\n",
    "axarea(r, lx, ly) = (2π * r^2 * ly^2) / ly\n",
    "# WARNING: works ONLY for x̂ normal direction!\n",
    "abc(x̂) = (ly) *\n",
    "[ 0. 0  0  0\n",
    "  0  1  0  0\n",
    "  0  0  0  0\n",
    "  0  0  0  1]"
   ]
  },
  {
   "cell_type": "code",
   "execution_count": 3,
   "id": "north-coast",
   "metadata": {},
   "outputs": [],
   "source": [
    "# Circuit\n",
    "Rs = 166.2402# Ω\n",
    "RL = 8.55e5# Ω\n",
    "CL = 10e-12 # F\n",
    "\n",
    "# Parameters\n",
    "Δt = 0.01e-9\n",
    "ε0 = 8.854e-12\n",
    "μ0 = 4e-7π\n",
    "εr = 1.\n",
    "μr = 1.\n",
    "σ  = 0.\n",
    "ε  = ε0 * εr\n",
    "μ  = μ0 * μr\n",
    "η  = sqrt(μ / ε)\n",
    "\n",
    "n̂  = x̂ = [1.0, 0.0]\n",
    "nothing"
   ]
  },
  {
   "cell_type": "code",
   "execution_count": 4,
   "id": "southeast-combine",
   "metadata": {},
   "outputs": [],
   "source": [
    "a, b = 1.00, 0.02\n",
    "n, m = 100, 4\n",
    "lx = a / n\n",
    "ly = b / m\n",
    "el2ed, el2edd, el2r = axialquadmesh(a, b, n, m)\n",
    "el2r .+= 0.001;"
   ]
  },
  {
   "cell_type": "code",
   "execution_count": 5,
   "id": "worthy-parallel",
   "metadata": {},
   "outputs": [
    {
     "data": {
      "text/plain": [
       "dof_type (generic function with 1 method)"
      ]
     },
     "execution_count": 5,
     "metadata": {},
     "output_type": "execute_result"
    }
   ],
   "source": [
    "DOF_NONE = 0\n",
    "DOF_PEC  = 1\n",
    "DOF_SRC  = 2\n",
    "DOF_ABC  = 3\n",
    "DOF_CIR  = 4\n",
    "\n",
    "function dof_type(n, m)\n",
    "    global NUM_EDGES\n",
    "    dof_flag = zeros(Int64, NUM_EDGES)\n",
    "    \n",
    "    for i_edge = 1:NUM_EDGES\n",
    "        if 1 <= i_edge <= n\n",
    "            dof_flag[i_edge] = DOF_PEC\n",
    "        end\n",
    "        \n",
    "        if 1 <= (NUM_EDGES - i_edge + 1) <= n\n",
    "            dof_flag[i_edge] = DOF_PEC\n",
    "        end\n",
    "    end\n",
    "    for i_edge =  n+1:(2n+1):NUM_EDGES\n",
    "        dof_flag[i_edge] = DOF_SRC\n",
    "        println(\"$i_edge => SRC\")\n",
    "    end\n",
    "    for i_edge = 2n+1:(2n+1):NUM_EDGES\n",
    "        dof_flag[i_edge] = DOF_CIR\n",
    "        println(\"$i_edge => ABC\")\n",
    "    end\n",
    "    for i_edge =  n+1+40:(2n+1):NUM_EDGES\n",
    "        #dof_flag[i_edge] = DOF_CIR\n",
    "        println(\"$i_edge => CIR\")\n",
    "    end\n",
    "    return dof_flag\n",
    "end"
   ]
  },
  {
   "cell_type": "code",
   "execution_count": 6,
   "id": "republican-cyprus",
   "metadata": {},
   "outputs": [
    {
     "name": "stdout",
     "output_type": "stream",
     "text": [
      "101 => SRC\n",
      "302 => SRC\n",
      "503 => SRC\n",
      "704 => SRC\n",
      "201 => ABC\n",
      "402 => ABC\n",
      "603 => ABC\n",
      "804 => ABC\n",
      "141 => CIR\n",
      "342 => CIR\n",
      "543 => CIR\n",
      "744 => CIR\n"
     ]
    }
   ],
   "source": [
    "dof = collect(1:NUM_EDGES)\n",
    "\n",
    "Γ = dof_type(n, m)\n",
    "f = Γ .!= DOF_PEC\n",
    "NUM_DOFS = NUM_EDGES;"
   ]
  },
  {
   "cell_type": "code",
   "execution_count": 7,
   "id": "exciting-alberta",
   "metadata": {},
   "outputs": [],
   "source": [
    "using SparseArrays\n",
    "# ASSUMPTION: Waveguide is homogenous\n",
    "# Assemble stiffness and mass matrices\n",
    "S = spzeros(NUM_DOFS, NUM_DOFS) # 1/μr ∫( ∇Ni × ∇Nj )dΩ\n",
    "R = spzeros(NUM_DOFS, NUM_DOFS) # μ0 σ ∫( ∇Ni ⋅ ∇Nj )dΩ\n",
    "T = spzeros(NUM_DOFS, NUM_DOFS) # μ0 ε ∫( ∇Ni ⋅ ∇Nj )dΩ\n",
    "B = spzeros(NUM_DOFS, NUM_DOFS) # μ0/η ∫(( n̂ × ∇Ni ) ⋅ ( n̂ × ∇Nj ))dΓ\n",
    "\n",
    "# ASSUMPTION: Waveguide is homogenous\n",
    "for ielem = 1:NUM_ELEMS # Assemble by elements\n",
    "  r  = el2r[ielem]\n",
    "  Se = volume(r, lx, ly) .* stiffness_element(lx, ly)\n",
    "  Te = volume(r, lx, ly) .* mass_element(lx, ly)\n",
    "  Be = axarea(r, lx, ly) .* abc(n̂) # works only for x̂ normal direction\n",
    "  \n",
    "  for jedge = 1:4\n",
    "    dj = el2edd[ielem, jedge]\n",
    "    jj = dof[el2ed[ielem, jedge]]\n",
    "    if jj == 0\n",
    "      continue\n",
    "    end\n",
    "    \n",
    "    for kedge = 1:4\n",
    "      dk = el2edd[ielem, kedge]\n",
    "      kk = dof[el2ed[ielem, kedge]]\n",
    "      if kk == 0\n",
    "        continue\n",
    "      end\n",
    "\n",
    "      S[jj, kk] = S[jj, kk] + dj * dk * (1/μr) * Se[jedge, kedge]\n",
    "      T[jj, kk] = T[jj, kk] + dj * dk * (μ0*ε) * Te[jedge, kedge]\n",
    "            \n",
    "    \n",
    "      if Γ[jj] == DOF_ABC\n",
    "        B[jj, kk] = B[jj, kk] + (μ0/η) * dj * dk * Be[jedge, kedge]\n",
    "      end\n",
    "    end\n",
    "  end\n",
    "end"
   ]
  },
  {
   "cell_type": "code",
   "execution_count": 8,
   "id": "interpreted-reporter",
   "metadata": {},
   "outputs": [
    {
     "data": {
      "image/png": "[encoded data removed]",
      "text/plain": [
       "Figure(PyObject <Figure size 500x500 with 4 Axes>)"
      ]
     },
     "metadata": {},
     "output_type": "display_data"
    },
    {
     "name": "stderr",
     "output_type": "stream",
     "text": [
      "┌ Warning: PyPlot is using tkagg backend, which is known to cause crashes on MacOS (#410); use the MPLBACKEND environment variable to request a different backend.\n",
      "└ @ PyPlot /Users/bach/.julia/packages/PyPlot/XHEG0/src/init.jl:192\n"
     ]
    }
   ],
   "source": [
    "using PyPlot\n",
    "figure(figsize=(5, 5))\n",
    "subplot(2, 2, 1); spy(S); title(\"S\"); xticks([]); yticks([]);\n",
    "subplot(2, 2, 2); spy(R); title(\"R\"); xticks([]); yticks([]);\n",
    "subplot(2, 2, 3); spy(T); title(\"T\"); xticks([]); yticks([]);\n",
    "subplot(2, 2, 4); spy(B); title(\"B\"); xticks([]); yticks([]);\n",
    "tight_layout()"
   ]
  },
  {
   "cell_type": "code",
   "execution_count": 9,
   "id": "compatible-identification",
   "metadata": {},
   "outputs": [],
   "source": [
    "P = spzeros(NUM_DOFS, NUM_DOFS) # μ0 / L\n",
    "G = spzeros(NUM_DOFS, NUM_DOFS) # μ0 / R\n",
    "C = spzeros(NUM_DOFS, NUM_DOFS) # μ0 * C\n",
    "for ielem = 1:NUM_ELEMS\n",
    "  r = el2r[ielem]\n",
    "  aii = (2π * r * ly)\n",
    "  A = π * (b + 0.001)^2 - π * (0.001) ^ 2\n",
    "  for ii = el2ed[ielem, :]\n",
    "      if Γ[ii] == DOF_CIR\n",
    "        len = ly\n",
    "        G[dof[ii], dof[ii]] += 0.5μ0 * aii / RL * aii / A\n",
    "      end\n",
    "\n",
    "      if Γ[ii] == DOF_SRC\n",
    "        len = ly\n",
    "        G[dof[ii], dof[ii]] += 0.5μ0 * aii / Rs * aii / A\n",
    "      end\n",
    "    end\n",
    "end\n",
    "S += P\n",
    "R += G\n",
    "T += C\n",
    "nothing"
   ]
  },
  {
   "cell_type": "code",
   "execution_count": 10,
   "id": "featured-bulletin",
   "metadata": {},
   "outputs": [],
   "source": [
    "A  = (+0.25Δt^2 * S +  T + 0.5Δt * B + 0.5Δt * R)\n",
    "for ii = 1:NUM_EDGES\n",
    "  if Γ[ii] == DOF_PEC\n",
    "        A[:,dof[ii]].= 0.0\n",
    "        A[dof[ii],:].= 0.0\n",
    "        A[dof[ii], dof[ii]] = 1.0\n",
    "  end\n",
    "end"
   ]
  },
  {
   "cell_type": "code",
   "execution_count": 11,
   "id": "significant-iceland",
   "metadata": {},
   "outputs": [],
   "source": [
    "x = 0.010:0.050:0.510\n",
    "y = 0.005:0.002:0.015\n",
    "xx, yy = meshgrid(x, y);\n",
    "\n",
    "it  = 1\n",
    "nt  = 400\n",
    "t   = 0.00\n",
    "e   = zeros(NUM_EDGES)\n",
    "ep  = zeros(NUM_EDGES)\n",
    "epp = zeros(NUM_EDGES)\n",
    "res = zeros(nt, 11, 6, 2)\n",
    "vol = zeros(nt)\n",
    "nothing"
   ]
  },
  {
   "cell_type": "code",
   "execution_count": 12,
   "id": "single-disease",
   "metadata": {},
   "outputs": [
    {
     "data": {
      "text/plain": [
       "1.891615524"
      ]
     },
     "execution_count": 12,
     "metadata": {},
     "output_type": "execute_result"
    }
   ],
   "source": [
    "using IterativeSolvers\n",
    "\n",
    "function current(t) \n",
    "    if 0e-9 < t < 0.5e-9 return +1.0 end\n",
    "    if 2e-9 < t < 2.5e-9 return -1.0 end\n",
    "    return 0.0\n",
    "end\n",
    "\n",
    "F = lu(A)\n",
    "@elapsed for _ = it:nt\n",
    "    bi = (-0.25Δt^2 * S -  T + 0.5Δt * B + 0.5Δt * R) * epp +\n",
    "         (-0.50Δt^2 * S + 2T) * ep\n",
    "         \n",
    "    bbi = zeros(NUM_EDGES)\n",
    "    for ii = 1:NUM_EDGES\n",
    "      if Γ[ii] == DOF_SRC\n",
    "            len = ly\n",
    "            bbi[dof[ii]] = len^2 * current(t) / Rs\n",
    "      end\n",
    "    end\n",
    "    \n",
    "    #cg!(e, A, (bi + μ0 * Δt * bbi)) # 0.59\n",
    "    #e   .= A \\ (bi + μ0 * Δt * bbi) # 0.71\n",
    "    e   .= F \\ (bi + μ0 * Δt * bbi) # 0.48\n",
    "    epp .= ep\n",
    "    ep  .= e\n",
    "\n",
    "    res[it, :, :, :] .= evaluate(WhitneyRectangleElement(), e, dof, x, y, n, m, lx, ly, el2ed, el2edd)\n",
    "    vol[it] = sum(e[dof[Γ .== DOF_CIR]])\n",
    "\n",
    "    it += 1\n",
    "    t  += Δt\n",
    "end"
   ]
  },
  {
   "cell_type": "code",
   "execution_count": 13,
   "id": "seventh-poster",
   "metadata": {},
   "outputs": [
    {
     "data": {
      "image/png": "[encoded data removed]",
      "text/plain": [
       "Figure(PyObject <Figure size 640x480 with 1 Axes>)"
      ]
     },
     "metadata": {},
     "output_type": "display_data"
    },
    {
     "data": {
      "text/plain": [
       "PyObject <matplotlib.legend.Legend object at 0x7fd6f48cdc50>"
      ]
     },
     "execution_count": 13,
     "metadata": {},
     "output_type": "execute_result"
    }
   ],
   "source": [
    "using PyPlot\n",
    "\n",
    "ts = 1e9Δt * collect(1:nt)\n",
    "plot(ts, res[:, 3, 1, 1], \"r--\", ts, res[:, 3, 1, 2], \"r-\")\n",
    "plot(ts, res[:, 3, 2, 1], \"r--\", ts, res[:, 3, 2, 2], \"r-\")\n",
    "plot(ts, res[:, 3, 3, 1], \"r--\", ts, res[:, 3, 3, 2], \"r-\")\n",
    "plot(ts, res[:, 9, 1, 1], \"b--\", ts, res[:, 9, 1, 2], \"b-\")\n",
    "plot(ts, res[:, 9, 2, 1], \"b--\", ts, res[:, 9, 2, 2], \"b-\")\n",
    "plot(ts, res[:, 9, 3, 1], \"b--\", ts, res[:, 9, 3, 2], \"b-\")\n",
    "xlabel(\"time (ns)\")\n",
    "ylabel(\"electric field (V/m)\")\n",
    "legend([\"Ex\", \"Ey\"])"
   ]
  },
  {
   "cell_type": "code",
   "execution_count": 14,
   "id": "promotional-waters",
   "metadata": {},
   "outputs": [
    {
     "data": {
      "image/png": "[encoded data removed]",
      "text/plain": [
       "Figure(PyObject <Figure size 640x480 with 1 Axes>)"
      ]
     },
     "metadata": {},
     "output_type": "display_data"
    },
    {
     "data": {
      "text/plain": [
       "PyObject <matplotlib.legend.Legend object at 0x7fd6f68387d0>"
      ]
     },
     "execution_count": 14,
     "metadata": {},
     "output_type": "execute_result"
    }
   ],
   "source": [
    "ts = 1e9Δt * collect(1:nt)\n",
    "grid()\n",
    "plot(ts, vol)\n",
    "xlabel(\"time (ns)\")\n",
    "ylabel(\"voltage (V)\")\n",
    "legend([\"V(ZL)\"])"
   ]
  },
  {
   "cell_type": "code",
   "execution_count": 15,
   "id": "republican-toddler",
   "metadata": {},
   "outputs": [
    {
     "data": {
      "image/png": "[encoded data removed]",
      "text/plain": [
       "Figure(PyObject <Figure size 1000x200 with 1 Axes>)"
      ]
     },
     "metadata": {},
     "output_type": "display_data"
    }
   ],
   "source": [
    "x = lx/2:lx:a\n",
    "y = ly/2:ly:b\n",
    "E = evaluate(WhitneyRectangleElement(), e, dof, x, y, n, m, lx, ly, el2ed, el2edd)\n",
    "normE  = @. sqrt(E[:, :, 1]^2 + E[:, :, 2]^2)\n",
    "xx, yy = meshgrid(x, y);\n",
    "\n",
    "figure(figsize=(10, 2))\n",
    "contourf(xx', yy', E[:, :, 2], cmap=PyPlot.get_cmap(\"bwr\"), levels=20);"
   ]
  },
  {
   "cell_type": "code",
   "execution_count": null,
   "id": "opponent-union",
   "metadata": {},
   "outputs": [],
   "source": []
  }
 ],
 "metadata": {
  "kernelspec": {
   "display_name": "Julia 1.5.3",
   "language": "julia",
   "name": "julia-1.5"
  },
  "language_info": {
   "file_extension": ".jl",
   "mimetype": "application/julia",
   "name": "julia",
   "version": "1.5.3"
  }
 },
 "nbformat": 4,
 "nbformat_minor": 5
}

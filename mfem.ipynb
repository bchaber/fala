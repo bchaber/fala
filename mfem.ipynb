{
 "cells": [
  {
   "cell_type": "markdown",
   "id": "fa4bd86b",
   "metadata": {},
   "source": [
    "## Mixed FEM\n",
    "Flow through a porous medium."
   ]
  },
  {
   "cell_type": "code",
   "execution_count": 1,
   "id": "fa28ba29",
   "metadata": {},
   "outputs": [],
   "source": [
    "using LinearAlgebra\n",
    "using StaticArrays\n",
    "using SparseArrays\n",
    "using PyPlot"
   ]
  },
  {
   "cell_type": "code",
   "execution_count": 2,
   "id": "6e4ad958",
   "metadata": {},
   "outputs": [],
   "source": [
    "abstract type Cell end\n",
    "abstract type Triangle end\n",
    "abstract type Quadrilateral end"
   ]
  },
  {
   "cell_type": "code",
   "execution_count": 3,
   "id": "2c86533c",
   "metadata": {},
   "outputs": [],
   "source": [
    "struct N1curl <: Triangle      end # Nédélec (first kind) on a reference triangle\n",
    "struct Qcurl  <: Quadrilateral end # Nédélec (first kind) on a reference quadrilateral"
   ]
  },
  {
   "cell_type": "code",
   "execution_count": 4,
   "id": "8273e750",
   "metadata": {},
   "outputs": [],
   "source": [
    "struct N1div <: Triangle      end  # Raviart-Thomas on a reference triangle\n",
    "struct Qdiv  <: Quadrilateral end  # Raviart-Thomas on a reference quadrilateral"
   ]
  },
  {
   "cell_type": "code",
   "execution_count": 5,
   "id": "e8f51941",
   "metadata": {},
   "outputs": [],
   "source": [
    "struct P0 <: Cell end # Piecewise-constant"
   ]
  },
  {
   "cell_type": "code",
   "execution_count": 6,
   "id": "86145429",
   "metadata": {},
   "outputs": [
    {
     "data": {
      "text/plain": [
       "deleterepeatedrows (generic function with 1 method)"
      ]
     },
     "execution_count": 6,
     "metadata": {},
     "output_type": "execute_result"
    }
   ],
   "source": [
    "function deleterepeatedrows(vertices)\n",
    "    sorted = sort(vertices, dims=2) # sort in rows\n",
    "    unique = Tuple[] # unique edges\n",
    "    idxs   = Int64[] # indices for original edges\n",
    "    rows   = Int64[] # indices for unique edges\n",
    "    for i in axes(sorted,1)\n",
    "        test = tuple(sorted[i,:]...)\n",
    "        if test ∉ unique\n",
    "            push!(unique, test)\n",
    "            push!(idxs, i)\n",
    "        end\n",
    "    \n",
    "        row = findfirst(==(test), unique)\n",
    "        if row ≠ nothing\n",
    "            push!(rows, row)\n",
    "        end\n",
    "    end\n",
    "    \n",
    "    return rows, idxs\n",
    "end"
   ]
  },
  {
   "cell_type": "code",
   "execution_count": 7,
   "id": "2a8c8677",
   "metadata": {},
   "outputs": [
    {
     "data": {
      "text/plain": [
       "get_edges (generic function with 1 method)"
      ]
     },
     "execution_count": 7,
     "metadata": {},
     "output_type": "execute_result"
    }
   ],
   "source": [
    "function get_edges(element::Triangle, elems2nodes)\n",
    "    nelems = size(elems2nodes, 1)\n",
    "    \n",
    "    # extracts sets of edges\n",
    "    edges1=elems2nodes[:,[2,3]]\n",
    "    edges2=elems2nodes[:,[3,1]]\n",
    "    edges3=elems2nodes[:,[1,2]]\n",
    "    \n",
    "    # as sets of their nodes (vertices)\n",
    "    vertices=zeros(Int64,nelems*3,2)\n",
    "    vertices[1:3:end,:].=edges1\n",
    "    vertices[2:3:end,:].=edges2\n",
    "    vertices[3:3:end,:].=edges3\n",
    "    \n",
    "    # repeated sets of nodes (joint edges) are eliminated \n",
    "    rows, index = deleterepeatedrows(vertices)\n",
    "    elems2edges = copy(transpose(reshape(rows, 3, :)))\n",
    "    edges2nodes = copy(vertices[index,:])\n",
    "    return elems2edges, edges2nodes\n",
    "end"
   ]
  },
  {
   "cell_type": "code",
   "execution_count": 8,
   "id": "9871e846",
   "metadata": {},
   "outputs": [
    {
     "data": {
      "text/plain": [
       "get_edges (generic function with 2 methods)"
      ]
     },
     "execution_count": 8,
     "metadata": {},
     "output_type": "execute_result"
    }
   ],
   "source": [
    "function get_edges(element::Quadrilateral, elems2nodes)\n",
    "    nelems = size(elems2nodes, 1)\n",
    "    \n",
    "    # extracts sets of edges\n",
    "    edges1=elems2nodes[:,[1,2]]\n",
    "    edges2=elems2nodes[:,[2,3]]\n",
    "    edges3=elems2nodes[:,[3,4]]\n",
    "    edges4=elems2nodes[:,[4,1]]\n",
    "    \n",
    "    # as sets of their nodes (vertices)\n",
    "    vertices=zeros(Int64,nelems*4,2)\n",
    "    vertices[1:4:end,:].=edges1\n",
    "    vertices[2:4:end,:].=edges2\n",
    "    vertices[3:4:end,:].=edges3\n",
    "    vertices[4:4:end,:].=edges4\n",
    "    \n",
    "    # repeated sets of nodes (joint edges) are eliminated \n",
    "    rows, index = deleterepeatedrows(vertices)\n",
    "    elems2edges = copy(transpose(reshape(rows, 4, :)))\n",
    "    edges2nodes = copy(vertices[index,:])\n",
    "    return elems2edges, edges2nodes\n",
    "end"
   ]
  },
  {
   "cell_type": "code",
   "execution_count": 9,
   "id": "c60478b3",
   "metadata": {},
   "outputs": [
    {
     "data": {
      "text/plain": [
       "piola_transformation (generic function with 1 method)"
      ]
     },
     "execution_count": 9,
     "metadata": {},
     "output_type": "execute_result"
    }
   ],
   "source": [
    "function piola_transformation(element::Triangle, nodes2coord, elems2nodes)\n",
    "    # initialize\n",
    "    nelems = size(elems2nodes,1)\n",
    "    B_K    = zeros(2, 2, nelems)\n",
    "\n",
    "    # points defining the triangles\n",
    "    A = nodes2coord[elems2nodes[:,1],1:2]\n",
    "    B = nodes2coord[elems2nodes[:,2],1:2]\n",
    "    C = nodes2coord[elems2nodes[:,3],1:2]\n",
    "    \n",
    "    # vectors defining the triangle\n",
    "    a = B - A\n",
    "    b = C - A\n",
    "\n",
    "    # the affine mapping F_K = B_K * x + b_K\n",
    "    B_K[:,1,:].= a'\n",
    "    B_K[:,2,:].= b'\n",
    "\n",
    "    # determinant\n",
    "    B_K_det = @. a[:,1] * b[:,2] - a[:,2] * b[:,1]\n",
    "    \n",
    "    return B_K, B_K_det\n",
    "end"
   ]
  },
  {
   "cell_type": "code",
   "execution_count": 10,
   "id": "615205c9",
   "metadata": {},
   "outputs": [
    {
     "data": {
      "text/plain": [
       "piola_transformation (generic function with 2 methods)"
      ]
     },
     "execution_count": 10,
     "metadata": {},
     "output_type": "execute_result"
    }
   ],
   "source": [
    "function piola_transformation(element::Quadrilateral, nodes2coord, elems2nodes)\n",
    "    # initialize\n",
    "    nelems = size(elems2nodes,1)\n",
    "    B_K    = zeros(2, 2, nelems)\n",
    "\n",
    "    # points defining the quads\n",
    "    A = nodes2coord[elems2nodes[:,1],1:2]\n",
    "    B = nodes2coord[elems2nodes[:,2],1:2]\n",
    "    C = nodes2coord[elems2nodes[:,3],1:2]\n",
    "    D = nodes2coord[elems2nodes[:,4],1:2]\n",
    "    \n",
    "    # vectors defining the quad\n",
    "    a = B - A\n",
    "    b = D - A\n",
    "\n",
    "    # the affine mapping F_K = B_K * x + b_K\n",
    "    B_K[:,1,:].= a'\n",
    "    B_K[:,2,:].= b'\n",
    "\n",
    "    # determinants\n",
    "    B_K_det = @. a[:,1] * b[:,2] - a[:,2] * b[:,1]\n",
    "    \n",
    "    return B_K, B_K_det\n",
    "end"
   ]
  },
  {
   "cell_type": "code",
   "execution_count": 133,
   "id": "39a32988",
   "metadata": {},
   "outputs": [
    {
     "data": {
      "text/plain": [
       "orientation (generic function with 2 methods)"
      ]
     },
     "execution_count": 133,
     "metadata": {},
     "output_type": "execute_result"
    }
   ],
   "source": [
    "function orientation(elems2nodes, edges2nodes, elems2edges)\n",
    "    nelem = size(elems2nodes,1)\n",
    "    nedge = size(elems2nodes,2)\n",
    "    signs = ones(nelem, nedge)\n",
    "    \n",
    "    for k=1:nelem\n",
    "        for j=1:nedge\n",
    "            n1edge = edges2nodes[elems2edges[k,j], 1]\n",
    "            n1elem = elems2nodes[k,j]\n",
    "            signs[k,j] = (n1edge == n1elem) ? +1 : -1\n",
    "        end\n",
    "    end\n",
    "    \n",
    "    return signs\n",
    "end"
   ]
  },
  {
   "cell_type": "code",
   "execution_count": 134,
   "id": "5cb13d15",
   "metadata": {},
   "outputs": [
    {
     "data": {
      "text/plain": [
       "quadrature (generic function with 2 methods)"
      ]
     },
     "execution_count": 134,
     "metadata": {},
     "output_type": "execute_result"
    }
   ],
   "source": [
    "function quadrature(element::Triangle)\n",
    "    ip = [1/6 2/3; 2/3 1/6; 1/6 1/6]\n",
    "    wg = [1/6,1/6,1/6]\n",
    "    \n",
    "    return ip, wg, 3\n",
    "end\n",
    "\n",
    "function quadrature(element::Quadrilateral)\n",
    "    pt = 1/2√3\n",
    "    ip = [-pt -pt; +pt -pt; -pt +pt; +pt +pt] .+ 1/2\n",
    "    wg = [1/4,1/4,1/4,1/4]\n",
    "    \n",
    "    return ip, wg, 4\n",
    "end"
   ]
  },
  {
   "cell_type": "code",
   "execution_count": 135,
   "id": "6f9b7719",
   "metadata": {},
   "outputs": [
    {
     "data": {
      "text/plain": [
       "basis (generic function with 3 methods)"
      ]
     },
     "execution_count": 135,
     "metadata": {},
     "output_type": "execute_result"
    }
   ],
   "source": [
    "function basis(element::N1curl, p)\n",
    "    np  = size(p, 1)\n",
    "    val = zeros(np, 2, 3)\n",
    "    rot = zeros(np, 1, 3)\n",
    "\n",
    "    # calculate basis function values\n",
    "    val[:,:,1] = [-p[:,2]       p[:,1]      ]\n",
    "    val[:,:,2] = [-p[:,2]       p[:,1] .- 1.]\n",
    "    val[:,:,3] = [ 1. .- p[:,2] p[:,1]      ]\n",
    "\n",
    "    # calculate basis function curl values\n",
    "    rot .+= 2.0\n",
    "    \n",
    "    return val, rot, 3\n",
    "end"
   ]
  },
  {
   "cell_type": "code",
   "execution_count": 136,
   "id": "5a45ea0b",
   "metadata": {},
   "outputs": [
    {
     "data": {
      "text/plain": [
       "basis (generic function with 3 methods)"
      ]
     },
     "execution_count": 136,
     "metadata": {},
     "output_type": "execute_result"
    }
   ],
   "source": [
    "function basis(element::N1div, p)\n",
    "    np  = size(p, 1)\n",
    "    val = zeros(np, 2, 3)\n",
    "    div = zeros(np, 1, 3)\n",
    "\n",
    "    # calculate basis function values\n",
    "    val[:,:,1] = [p[:,1]       p[:,2]      ]\n",
    "    val[:,:,2] = [p[:,1] .- 1. p[:,2]      ]\n",
    "    val[:,:,3] = [p[:,1]       p[:,2] .- 1.]\n",
    "\n",
    "    # calculate basis function divergence values\n",
    "    div .+= 2.0\n",
    "    \n",
    "    return val, div, 3\n",
    "end"
   ]
  },
  {
   "cell_type": "code",
   "execution_count": 137,
   "id": "f9ac8d2e",
   "metadata": {},
   "outputs": [
    {
     "data": {
      "text/plain": [
       "basis (generic function with 3 methods)"
      ]
     },
     "execution_count": 137,
     "metadata": {},
     "output_type": "execute_result"
    }
   ],
   "source": [
    "function basis(element::Qdiv, p)\n",
    "    np  = size(p, 1)\n",
    "    val = zeros(np, 2, 4)\n",
    "    div = zeros(np, 1, 4)\n",
    "    \n",
    "    # calculate basis function values\n",
    "    val[:,:,1] = [1.0p[:,1]        0.0p[:,2]]\n",
    "    val[:,:,2] = [0.0p[:,1]        1.0p[:,2]]\n",
    "    val[:,:,3] = [1.0p[:,1] .- 1.0 0.0p[:,2]]\n",
    "    val[:,:,4] = [0.0p[:,1]        1.0p[:,2] .- 1.0]\n",
    "\n",
    "    # calculate basis function divergence values\n",
    "    div .+= 1.0\n",
    "    \n",
    "    return val, div, 4\n",
    "end"
   ]
  },
  {
   "cell_type": "code",
   "execution_count": 16,
   "id": "3cce9b0d",
   "metadata": {},
   "outputs": [],
   "source": [
    "## Matrices assembly procedures"
   ]
  },
  {
   "cell_type": "code",
   "execution_count": 17,
   "id": "41a2867b",
   "metadata": {},
   "outputs": [
    {
     "data": {
      "text/plain": [
       "stiffness_matrix (generic function with 1 method)"
      ]
     },
     "execution_count": 17,
     "metadata": {},
     "output_type": "execute_result"
    }
   ],
   "source": [
    "function stiffness_matrix(element::Union{N1div, Qdiv}, elems2edge, B_K_det, signs, dofs)\n",
    "    nelems = size(elems2edge,1)      # number of elements\n",
    "    nedges = maximum(elems2edge)     # number of edges\n",
    "    ip, w, nip = quadrature(element) # integration points and weights\n",
    "    B_K_invabsdet = [inv(abs(x)) for x in B_K_det]\n",
    "    \n",
    "    # reference basis function div values on integration points,\n",
    "    # and number of basis functions\n",
    "    _, div, nbasis = basis(element, ip)\n",
    "    \n",
    "    # calculate all local stiffness matrices simultaneously\n",
    "    Se = zeros(nbasis,nbasis,nelems)\n",
    "    for i=1:nip\n",
    "        for m=1:nbasis\n",
    "            for k=1:nbasis\n",
    "                for l=1:nelems\n",
    "                    Se[m,k,l] += w[i] * B_K_invabsdet[l] *\n",
    "                                 signs[l,m] * div[i,1,m] *\n",
    "                                 signs[l,k] * div[i,1,k]\n",
    "                end\n",
    "            end\n",
    "        end\n",
    "    end\n",
    "    \n",
    "    # assemble global stiffness matrix\n",
    "    S = spzeros(nedges, nedges)\n",
    "    for l=1:nelems\n",
    "        for m=1:nbasis\n",
    "            e1 = dofs[elems2edge[l,m]]\n",
    "            for k=1:nbasis\n",
    "                e2 = dofs[elems2edge[l,k]]\n",
    "                S[e1,e2] += Se[m,k,l]\n",
    "            end\n",
    "        end\n",
    "    end\n",
    "    \n",
    "    return S\n",
    "end"
   ]
  },
  {
   "cell_type": "code",
   "execution_count": 18,
   "id": "9d7cce79",
   "metadata": {},
   "outputs": [
    {
     "data": {
      "text/plain": [
       "mass_matrix (generic function with 1 method)"
      ]
     },
     "execution_count": 18,
     "metadata": {},
     "output_type": "execute_result"
    }
   ],
   "source": [
    "function mass_matrix(element::Union{N1div, Qdiv}, elems2edge, B_K, B_K_det, signs, dofs)\n",
    "    nelems = size(elems2edge,1);     # number of elements\n",
    "    nedges = maximum(elems2edge)     # number of edges\n",
    "    ip, w, nip = quadrature(element) # integration points and weights\n",
    "    B_K_invabsdet = [inv(abs(x)) for x in B_K_det]\n",
    "\n",
    "    # reference basis function curl values on integration points,\n",
    "    # and number of basis functions\n",
    "    val, _, nbasis = basis(element, ip)\n",
    "\n",
    "    # calculate all local mass matrices simultaneously\n",
    "    Me = zeros(nbasis, nbasis, nelems);\n",
    "\n",
    "    for i=1:nip\n",
    "        for m=1:nbasis\n",
    "            for k=1:nbasis\n",
    "                for l=1:nelems\n",
    "                    Me[m,k,l] += w[i] * B_K_invabsdet[l] *\n",
    "                                 dot(signs[l,m] * B_K[:,:,l] * val[i,:,m],\n",
    "                                     signs[l,k] * B_K[:,:,l] * val[i,:,k])\n",
    "                end\n",
    "            end\n",
    "        end\n",
    "    end\n",
    "\n",
    "    # assemble global mass matrix\n",
    "    M = spzeros(nedges, nedges)\n",
    "    for l=1:nelems\n",
    "        for m=1:nbasis\n",
    "            e1 = dofs[elems2edge[l,m]]\n",
    "            for k=1:nbasis\n",
    "                e2 = dofs[elems2edge[l,k]]\n",
    "                M[e1,e2] += Me[m,k,l]\n",
    "            end\n",
    "        end\n",
    "    end\n",
    "    \n",
    "    return M\n",
    "end"
   ]
  },
  {
   "cell_type": "code",
   "execution_count": 19,
   "id": "10f27763",
   "metadata": {},
   "outputs": [
    {
     "data": {
      "text/plain": [
       "div_matrix (generic function with 1 method)"
      ]
     },
     "execution_count": 19,
     "metadata": {},
     "output_type": "execute_result"
    }
   ],
   "source": [
    "function div_matrix(element::Union{N1div, Qdiv}, elems2edge, B_K, B_K_det, signs, dofs)\n",
    "    nelems = size(elems2edge,1)      # number of elements\n",
    "    nedges = maximum(elems2edge)     # number of edges\n",
    "    ip, w, nip = quadrature(element) # integration points and weights\n",
    "    B_K_invabsdet = [inv(abs(x)) for x in B_K_det]\n",
    "\n",
    "    # reference basis function curl values on integration points,\n",
    "    # and number of basis functions\n",
    "    _, div, nbasis = basis(element, ip)\n",
    "\n",
    "    # calculate all local divergence matrices simultaneously\n",
    "    De = zeros(nbasis,nelems);\n",
    "    for m=1:nbasis\n",
    "        for l=1:nelems\n",
    "            De[m,l] += signs[l,m]\n",
    "        end\n",
    "    end\n",
    "\n",
    "    # assemble global divergence matrix\n",
    "    D = spzeros(nedges,nelems)\n",
    "    for l=1:nelems\n",
    "        for m=1:nbasis\n",
    "            e = dofs[elems2edge[l,m]]\n",
    "            D[e,l] += De[m,l]\n",
    "        end\n",
    "    end\n",
    "    \n",
    "    return D\n",
    "end"
   ]
  },
  {
   "cell_type": "code",
   "execution_count": 183,
   "id": "ee69d63f",
   "metadata": {},
   "outputs": [
    {
     "data": {
      "text/plain": [
       "f (generic function with 1 method)"
      ]
     },
     "execution_count": 183,
     "metadata": {},
     "output_type": "execute_result"
    }
   ],
   "source": [
    "f(x,y) = 1.0\n",
    "#f(x,y) = sin(2π * x) * sin(2π * y) * 8.0 * π^2"
   ]
  },
  {
   "cell_type": "code",
   "execution_count": 184,
   "id": "5843f864",
   "metadata": {},
   "outputs": [
    {
     "data": {
      "text/plain": [
       "rhs_assembly (generic function with 2 methods)"
      ]
     },
     "execution_count": 184,
     "metadata": {},
     "output_type": "execute_result"
    }
   ],
   "source": [
    "function rhs_assembly(element::Triangle, nodes2coord, elems2node, B_K_det)\n",
    "    P =(nodes2coord[elems2node[:,1],1:2] .+\n",
    "        nodes2coord[elems2node[:,2],1:2] .+\n",
    "        nodes2coord[elems2node[:,3],1:2])./ 3.0\n",
    "\n",
    "    return -0.5 * abs.(B_K_det) .* f.(P[:,1], P[:,2])\n",
    "end"
   ]
  },
  {
   "cell_type": "code",
   "execution_count": 185,
   "id": "4701afdb",
   "metadata": {},
   "outputs": [
    {
     "data": {
      "text/plain": [
       "rhs_assembly (generic function with 2 methods)"
      ]
     },
     "execution_count": 185,
     "metadata": {},
     "output_type": "execute_result"
    }
   ],
   "source": [
    "function rhs_assembly(element::Quadrilateral, nodes2coord, elems2node, B_K_det)\n",
    "    P =(nodes2coord[elems2node[:,1],1:2] .+\n",
    "        nodes2coord[elems2node[:,2],1:2] .+\n",
    "        nodes2coord[elems2node[:,3],1:2] .+\n",
    "        nodes2coord[elems2node[:,4],1:2])./ 4.0\n",
    "\n",
    "    return -1.0 * abs.(B_K_det) .* f.(P[:,1], P[:,2])\n",
    "end"
   ]
  },
  {
   "cell_type": "code",
   "execution_count": 205,
   "id": "b9d01643",
   "metadata": {},
   "outputs": [
    {
     "data": {
      "text/plain": [
       "2×3 Matrix{Int64}:\n",
       " 1  2  4\n",
       " 1  3  4"
      ]
     },
     "execution_count": 205,
     "metadata": {},
     "output_type": "execute_result"
    }
   ],
   "source": [
    "# define mesh\n",
    "nodes2coord = [0.0 0.0; 1.0 0.0; 0.0 1.0; 1.0 1.0]\n",
    "elems2nodes = [1 2 4; 1 3 4]"
   ]
  },
  {
   "cell_type": "code",
   "execution_count": 206,
   "id": "9a619b4c",
   "metadata": {},
   "outputs": [],
   "source": [
    "using MAT\n",
    "file = matopen(\"/Users/bach/fala/dpy.mat\")\n",
    "nodes2coord = read(file, \"n2c\")\n",
    "elems2nodes = read(file, \"e2n\") .+ 1\n",
    "solution = read(file, \"x\")\n",
    "close(file)"
   ]
  },
  {
   "cell_type": "code",
   "execution_count": 207,
   "id": "7064760a",
   "metadata": {},
   "outputs": [
    {
     "data": {
      "text/plain": [
       "N1div()"
      ]
     },
     "execution_count": 207,
     "metadata": {},
     "output_type": "execute_result"
    }
   ],
   "source": [
    "if size(elems2nodes, 2) == 3 RT0 = N1div() end\n",
    "if size(elems2nodes, 2) == 4 RT0 = Qdiv()  end\n",
    "RT0"
   ]
  },
  {
   "cell_type": "code",
   "execution_count": 203,
   "id": "7dcec875",
   "metadata": {},
   "outputs": [],
   "source": [
    "elems2edges, edges2nodes = get_edges(RT0, elems2nodes);"
   ]
  },
  {
   "cell_type": "code",
   "execution_count": 189,
   "id": "4f28ac6e",
   "metadata": {},
   "outputs": [],
   "source": [
    "B_K, B_K_det = piola_transformation(RT0, nodes2coord, elems2nodes);"
   ]
  },
  {
   "cell_type": "code",
   "execution_count": 190,
   "id": "898fb5c9",
   "metadata": {},
   "outputs": [
    {
     "data": {
      "text/plain": [
       "8×3 Matrix{Float64}:\n",
       " -1.0  -1.0  -1.0\n",
       " -1.0  -1.0  -1.0\n",
       "  1.0   1.0   1.0\n",
       "  1.0   1.0   1.0\n",
       " -1.0  -1.0  -1.0\n",
       "  1.0   1.0   1.0\n",
       "  1.0   1.0   1.0\n",
       " -1.0  -1.0  -1.0"
      ]
     },
     "execution_count": 190,
     "metadata": {},
     "output_type": "execute_result"
    }
   ],
   "source": [
    "signs = diagm(sign.(B_K_det)) * orientation(elems2nodes, edges2nodes, elems2edges)"
   ]
  },
  {
   "cell_type": "code",
   "execution_count": 191,
   "id": "5cb2e362",
   "metadata": {},
   "outputs": [],
   "source": [
    "dofs = collect(1:maximum(elems2edges));"
   ]
  },
  {
   "cell_type": "code",
   "execution_count": 192,
   "id": "4666eb56",
   "metadata": {},
   "outputs": [
    {
     "data": {
      "text/plain": [
       "16×16 SparseMatrixCSC{Float64, Int64} with 64 stored entries:\n",
       "⡿⢏⣁⡐⠂⠀⠀⠀\n",
       "⢁⠸⠱⢆⣀⡀⠀⠒\n",
       "⠈⠀⠀⠸⢱⢖⡂⠀\n",
       "⠀⠀⢠⠀⠈⠈⠿⣧"
      ]
     },
     "execution_count": 192,
     "metadata": {},
     "output_type": "execute_result"
    }
   ],
   "source": [
    "S = stiffness_matrix(RT0, elems2edges, B_K_det, signs, dofs)"
   ]
  },
  {
   "cell_type": "code",
   "execution_count": 193,
   "id": "fc906c76",
   "metadata": {},
   "outputs": [
    {
     "data": {
      "text/plain": [
       "16×16 SparseMatrixCSC{Float64, Int64} with 32 stored entries:\n",
       "⠕⢅⠁⠀⠀⠀⠀⠀\n",
       "⠁⠀⠱⢆⡀⡀⠀⠐\n",
       "⠀⠀⠀⠨⠑⢄⡀⠀\n",
       "⠀⠀⢀⠀⠀⠈⠛⢄"
      ]
     },
     "execution_count": 193,
     "metadata": {},
     "output_type": "execute_result"
    }
   ],
   "source": [
    "M = mass_matrix(RT0, elems2edges, B_K, B_K_det, signs, dofs)\n",
    "droptol!(M, 1e-15)"
   ]
  },
  {
   "cell_type": "code",
   "execution_count": 194,
   "id": "04072540",
   "metadata": {},
   "outputs": [
    {
     "data": {
      "text/plain": [
       "16×8 SparseMatrixCSC{Float64, Int64} with 24 stored entries:\n",
       "⢏⡐⠀⠀\n",
       "⠈⢆⡀⠐\n",
       "⠀⠈⢖⠀\n",
       "⠀⠀⠈⢧"
      ]
     },
     "execution_count": 194,
     "metadata": {},
     "output_type": "execute_result"
    }
   ],
   "source": [
    "D = div_matrix(RT0, elems2edges, B_K, B_K_det, signs, dofs)"
   ]
  },
  {
   "cell_type": "code",
   "execution_count": 195,
   "id": "05a2ea11",
   "metadata": {},
   "outputs": [],
   "source": [
    "g = rhs_assembly(RT0, nodes2coord, elems2nodes, B_K_det);"
   ]
  },
  {
   "cell_type": "code",
   "execution_count": 196,
   "id": "87828dee",
   "metadata": {},
   "outputs": [
    {
     "data": {
      "text/plain": [
       "24×24 SparseMatrixCSC{Float64, Int64} with 80 stored entries:\n",
       "⠕⢅⠁⠀⠀⠀⠀⠀⢏⡐⠀⠀\n",
       "⠁⠀⠱⢆⡀⡀⠀⠐⠈⢆⡀⠐\n",
       "⠀⠀⠀⠨⠑⢄⡀⠀⠀⠈⢖⠀\n",
       "⠀⠀⢀⠀⠀⠈⠛⢄⠀⠀⠈⢧\n",
       "⢋⠱⠢⢄⡀⠀⠀⠀⠀⠀⠀⠀\n",
       "⠀⠀⢀⠈⠘⠑⠦⣄⠀⠀⠀⠀"
      ]
     },
     "execution_count": 196,
     "metadata": {},
     "output_type": "execute_result"
    }
   ],
   "source": [
    "# prepare rest of vectors/matrices\n",
    "nedges = size(M, 1)\n",
    "nelems = size(elems2edges, 1)\n",
    "\n",
    "# auxiliary vectors/matrices\n",
    "z = zeros(nedges, 1)\n",
    "b = [z; g];\n",
    "# assemble an infinite saddle-point matrix\n",
    "Z = spzeros(nelems, nelems)\n",
    "A = [M D; D' Z]"
   ]
  },
  {
   "cell_type": "code",
   "execution_count": 197,
   "id": "6ab18975",
   "metadata": {},
   "outputs": [
    {
     "data": {
      "text/plain": [
       "24×1 Matrix{Float64}:\n",
       "  0.08333333333333334\n",
       " -0.04166666666666666\n",
       "  0.0833333333333333\n",
       " -0.04166666666666665\n",
       "  0.08333333333333334\n",
       " -1.7293024651143796e-17\n",
       " -0.08333333333333334\n",
       " -1.9949319973733282e-17\n",
       " -0.08333333333333331\n",
       "  0.04166666666666668\n",
       "  0.08333333333333331\n",
       " -0.08333333333333337\n",
       " -0.08333333333333333\n",
       " -0.08333333333333334\n",
       "  0.04166666666666667\n",
       "  0.08333333333333334\n",
       "  0.013888888888888885\n",
       "  0.013888888888888892\n",
       "  0.02777777777777778\n",
       "  0.027777777777777773\n",
       "  0.027777777777777776\n",
       "  0.013888888888888888\n",
       "  0.013888888888888885\n",
       "  0.027777777777777776"
      ]
     },
     "execution_count": 197,
     "metadata": {},
     "output_type": "execute_result"
    }
   ],
   "source": [
    "u = A \\ b"
   ]
  },
  {
   "cell_type": "code",
   "execution_count": 198,
   "id": "09e7bb28",
   "metadata": {},
   "outputs": [
    {
     "data": {
      "text/plain": [
       "show_mesh (generic function with 1 method)"
      ]
     },
     "execution_count": 198,
     "metadata": {},
     "output_type": "execute_result"
    }
   ],
   "source": [
    "function show_mesh(element::Triangle, nodes2coord, elems2nodes)\n",
    "    triplot(nodes2coord[:,1], nodes2coord[:,2], triangles=(elems2nodes .- 1), \"-k\")\n",
    "    return nothing\n",
    "end"
   ]
  },
  {
   "cell_type": "code",
   "execution_count": 199,
   "id": "c9bcc574",
   "metadata": {},
   "outputs": [
    {
     "data": {
      "text/plain": [
       "show_scalar_field (generic function with 1 method)"
      ]
     },
     "execution_count": 199,
     "metadata": {},
     "output_type": "execute_result"
    }
   ],
   "source": [
    "function show_scalar_field(element::P0, nodes2coord, elems2nodes, u)\n",
    "    n = size(elems2nodes,1)\n",
    "    m = size(elems2nodes,2)\n",
    "    \n",
    "    P   = zeros(n,2)\n",
    "    for i=1:m\n",
    "        P .+= nodes2coord[elems2nodes[:,i],1:2]\n",
    "    end\n",
    "    P ./= m\n",
    "    \n",
    "    fig = figure()\n",
    "    ax = fig.add_subplot(projection=\"3d\")\n",
    "    ax.scatter(P[:,1], P[:,2], u, c=u, cmap=\"viridis\")\n",
    "    ax.view_init(35, 35)\n",
    "    \n",
    "    return nothing\n",
    "end"
   ]
  },
  {
   "cell_type": "code",
   "execution_count": 200,
   "id": "ec3b847f",
   "metadata": {},
   "outputs": [
    {
     "data": {
      "text/plain": [
       "show_vector_field (generic function with 1 method)"
      ]
     },
     "execution_count": 200,
     "metadata": {},
     "output_type": "execute_result"
    }
   ],
   "source": [
    "function show_vector_field(element::Union{N1div, Qdiv}, nodes2coord, edges2nodes, u)\n",
    "    n = size(nodes2coord,1)\n",
    "    m = size(edges2nodes,1)\n",
    "    \n",
    "    midpoints = (nodes2coord[edges2nodes[:,1],:] .+ nodes2coord[edges2nodes[:,2],:]) ./ 2.0\n",
    "    vectors   = (nodes2coord[edges2nodes[:,1],:] .- nodes2coord[edges2nodes[:,2],:])\n",
    "    normals   = [+vectors[:,2] -vectors[:,1]]\n",
    "    \n",
    "    scatter(midpoints[:,1], midpoints[:,2], color=\"k\", marker=\".\", s=3)\n",
    "    quiver(midpoints[:,1], midpoints[:,2], normals[:,1] .* u, normals[:,2] .* u, abs.(u),\n",
    "        pivot=\"middle\", headwidth=3, width=0.005, cmap=\"viridis\")\n",
    "end"
   ]
  },
  {
   "cell_type": "code",
   "execution_count": 202,
   "id": "80c123d5",
   "metadata": {},
   "outputs": [
    {
     "data": {
      "image/png": "[encoded data removed]",
      "text/plain": [
       "Figure(PyObject <Figure size 640x480 with 1 Axes>)"
      ]
     },
     "metadata": {},
     "output_type": "display_data"
    },
    {
     "data": {
      "text/plain": [
       "PyObject <matplotlib.quiver.Quiver object at 0x2a8d33e50>"
      ]
     },
     "execution_count": 202,
     "metadata": {},
     "output_type": "execute_result"
    }
   ],
   "source": [
    "show_mesh(RT0, nodes2coord, elems2nodes)\n",
    "show_vector_field(RT0, nodes2coord, edges2nodes, view(u, 1:nedges))"
   ]
  },
  {
   "cell_type": "code",
   "execution_count": 208,
   "id": "d0e9e10c",
   "metadata": {},
   "outputs": [
    {
     "data": {
      "image/png": "[encoded data removed]",
      "text/plain": [
       "Figure(PyObject <Figure size 640x480 with 1 Axes>)"
      ]
     },
     "metadata": {},
     "output_type": "display_data"
    }
   ],
   "source": [
    "show_scalar_field(P0(), nodes2coord, elems2nodes, view(u, nedges+1:nedges+nelems))"
   ]
  },
  {
   "cell_type": "code",
   "execution_count": null,
   "id": "b9a91bb6",
   "metadata": {},
   "outputs": [],
   "source": []
  },
  {
   "cell_type": "code",
   "execution_count": null,
   "id": "6a25aa8e",
   "metadata": {},
   "outputs": [],
   "source": []
  }
 ],
 "metadata": {
  "kernelspec": {
   "display_name": "Julia 1.7.0",
   "language": "julia",
   "name": "julia-1.7"
  },
  "language_info": {
   "file_extension": ".jl",
   "mimetype": "application/julia",
   "name": "julia",
   "version": "1.7.0"
  }
 },
 "nbformat": 4,
 "nbformat_minor": 5
}

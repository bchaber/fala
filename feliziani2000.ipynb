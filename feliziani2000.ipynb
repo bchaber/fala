{
 "cells": [
  {
   "cell_type": "code",
   "execution_count": 1,
   "id": "destroyed-carroll",
   "metadata": {},
   "outputs": [],
   "source": [
    "using LinearAlgebra\n",
    "include(\"plotting.jl\")\n",
    "include(\"meshing.jl\")\n",
    "nothing"
   ]
  },
  {
   "cell_type": "code",
   "execution_count": 2,
   "id": "economic-touch",
   "metadata": {},
   "outputs": [
    {
     "data": {
      "text/plain": [
       "SandT (generic function with 1 method)"
      ]
     },
     "execution_count": 2,
     "metadata": {},
     "output_type": "execute_result"
    }
   ],
   "source": [
    "function SandT(x1, y1, x2, y2, x3, y3)\n",
    "    global LOCALEDGENODES\n",
    "\n",
    "    area = .5abs(det([1. x1 y1\n",
    "                      1. x2 y2\n",
    "                      1. x3 y3]))\n",
    "    temp = inv([x1 x2 x3\n",
    "                y1 y2 y3\n",
    "                1. 1. 1.])\n",
    "    b = temp[:,1]\n",
    "    c = temp[:,2]\n",
    "    a = temp[:,3]\n",
    "    ∇λ = [[b[1], c[1]],\n",
    "          [b[2], c[2]],\n",
    "          [b[3], c[3]]]\n",
    "    φ = zeros(3, 3) # φij = ∇λi ⋅ ∇λj = (bi⋅ci + bj⋅cj)\n",
    "    v = zeros(3, 3) # vij = ∇λi × ∇λj = (bi⋅cj - bj⋅ci)ẑ\n",
    "    for ii = 1:3\n",
    "       for jj = 1:3\n",
    "           φ[ii, jj] = b[ii] * b[jj] + c[ii] * c[jj]\n",
    "           v[ii, jj] = b[ii] * c[jj] - b[jj] * c[ii]\n",
    "       end \n",
    "    end\n",
    "\n",
    "    M = [2. 1. 1.\n",
    "         1. 2. 1.\n",
    "         1. 1. 2.] / 12.0\n",
    "\n",
    "    # Compute S and T\n",
    "    S = zeros(3, 3)\n",
    "    T = zeros(3, 3)\n",
    "    for ii = 1:3\n",
    "       for jj = 1:3\n",
    "         i1 = LOCALEDGENODES[ii,1]\n",
    "         i2 = LOCALEDGENODES[ii,2]\n",
    "         j1 = LOCALEDGENODES[jj,1]\n",
    "         j2 = LOCALEDGENODES[jj,2]\n",
    "         S[ii,jj] = 4area*v[i1, i2] * v[j1, j2]\n",
    "         T[ii,jj] = area*(φ[i2, j2] * M[i1, j1] +\n",
    "                        - φ[i2, j1] * M[i1, j2] +\n",
    "                        - φ[i1, j2] * M[i2, j1] +\n",
    "                        + φ[i1, j1] * M[i2, j2])\n",
    "       end \n",
    "    end\n",
    "    \n",
    "    return S, T\n",
    "end"
   ]
  },
  {
   "cell_type": "code",
   "execution_count": 3,
   "id": "collect-framework",
   "metadata": {},
   "outputs": [
    {
     "data": {
      "text/plain": [
       "ABC (generic function with 1 method)"
      ]
     },
     "execution_count": 3,
     "metadata": {},
     "output_type": "execute_result"
    }
   ],
   "source": [
    "function ABC(x1, y1, x2, y2, x3, y3, n̂)\n",
    "    global LOCALEDGENODES\n",
    "\n",
    "    len  = 0.01 # FIXME!\n",
    "    temp = inv([x1 x2 x3\n",
    "                y1 y2 y3\n",
    "                1. 1. 1.])\n",
    "    b = temp[:,1]\n",
    "    c = temp[:,2]\n",
    "    a = temp[:,3]\n",
    "    λ  = []\n",
    "    ∇λ = [[b[1], c[1]],\n",
    "          [b[2], c[2]],\n",
    "          [b[3], c[3]]]\n",
    "    \n",
    "    n = zeros(3) # ni = (n̂ × ∇λi)ẑ\n",
    "    for ii = 1:3\n",
    "       n[ii] = n̂[1] * ∇λ[ii][2] - n̂[2] * ∇λ[ii][1]\n",
    "    end\n",
    "    \n",
    "    ψ = zeros(3, 3) # ψij = (n̂ × ∇λi) ⋅ (n̂ × ∇λj) = \n",
    "    for ii = 1:3\n",
    "       for jj = 1:3\n",
    "           ψ[ii, jj] = n[ii] * n[jj]\n",
    "       end \n",
    "    end\n",
    "\n",
    "    B = zeros(3, 3)\n",
    "    for ii = 1:3\n",
    "      i1 = LOCALEDGENODES[ii,1]\n",
    "      i2 = LOCALEDGENODES[ii,2]\n",
    "      B[ii,ii] = len * ψ[ii,ii] # FIXME!\n",
    "    end\n",
    "    \n",
    "    return B\n",
    "end"
   ]
  },
  {
   "cell_type": "code",
   "execution_count": 4,
   "id": "designing-newark",
   "metadata": {},
   "outputs": [
    {
     "data": {
      "text/plain": [
       "simplex2D (generic function with 1 method)"
      ]
     },
     "execution_count": 4,
     "metadata": {},
     "output_type": "execute_result"
    }
   ],
   "source": [
    "function simplex2D(elem_num, xp, yp)\n",
    "    global ELEMENTS\n",
    "    global NODE_COORD \n",
    "\n",
    "    trinodes = ELEMENTS[elem_num, :]; \n",
    "    x1 = NODE_COORD[trinodes[1],1];\n",
    "    y1 = NODE_COORD[trinodes[1],2];\n",
    "    x2 = NODE_COORD[trinodes[2],1];\n",
    "    y2 = NODE_COORD[trinodes[2],2];\n",
    "    x3 = NODE_COORD[trinodes[3],1];\n",
    "    y3 = NODE_COORD[trinodes[3],2];\n",
    "\n",
    "    σ0 = det([1. x1 y1; 1. x2 y2; 1. x3 y3]);\n",
    "    σ1 = det([1. xp yp; 1. x2 y2; 1. x3 y3]);\n",
    "    σ2 = det([1. x1 y1; 1. xp yp; 1. x3 y3]);\n",
    "    σ3 = det([1. x1 y1; 1. x2 y2; 1. xp yp]);\n",
    "    λ  = [σ1/σ0, σ2/σ0, σ3/σ0]\n",
    "    return λ\n",
    "end"
   ]
  },
  {
   "cell_type": "code",
   "execution_count": 5,
   "id": "north-coast",
   "metadata": {},
   "outputs": [],
   "source": [
    "# Circuit\n",
    "Rs = 0.001  # Ω\n",
    "RL = 2.000  # Ω\n",
    "CL = 10e-12 # F\n",
    "\n",
    "# Parameters\n",
    "Δt = 0.01e-9 \n",
    "ε0 = 8.854e-12\n",
    "μ0 = 4e-7π\n",
    "εr = 1.\n",
    "μr = 1.\n",
    "σ  = 0.\n",
    "ε  = ε0 * εr\n",
    "μ  = μ0 * μr\n",
    "η  = sqrt(μ / ε)\n",
    "\n",
    "n̂  = x̂ = [1.0, 0.0]\n",
    "# Meshing\n",
    "a = 1.00 # m\n",
    "b = 0.02 # m\n",
    "nothing"
   ]
  },
  {
   "cell_type": "code",
   "execution_count": 6,
   "id": "southeast-combine",
   "metadata": {},
   "outputs": [
    {
     "name": "stderr",
     "output_type": "stream",
     "text": [
      "┌ Warning: PyPlot is using tkagg backend, which is known to cause crashes on MacOS (#410); use the MPLBACKEND environment variable to request a different backend.\n",
      "└ @ PyPlot /Users/bach/.julia/packages/PyPlot/XHEG0/src/init.jl:192\n"
     ]
    },
    {
     "data": {
      "image/png": "[encoded data removed]",
      "text/plain": [
       "Figure(PyObject <Figure size 500x100 with 1 Axes>)"
      ]
     },
     "metadata": {},
     "output_type": "display_data"
    }
   ],
   "source": [
    "using PyPlot\n",
    "\n",
    "LOCALEDGENODES = [1 2; 1 3; 2 3]\n",
    "trimesh(a, b, 50, 2)\n",
    "triedgemake()\n",
    "\n",
    "figure(figsize=(5,1))\n",
    "triplot(NODE_COORD[:,1], NODE_COORD[:,2], triangles=(ELEMENTS .- 1)); # subtract 1 as we go into Python-world\n",
    "axis(\"equal\");"
   ]
  },
  {
   "cell_type": "code",
   "execution_count": 7,
   "id": "worthy-parallel",
   "metadata": {},
   "outputs": [
    {
     "data": {
      "text/plain": [
       "dof_type (generic function with 1 method)"
      ]
     },
     "execution_count": 7,
     "metadata": {},
     "output_type": "execute_result"
    }
   ],
   "source": [
    "DOF_NONE = 0\n",
    "DOF_PEC  = 1\n",
    "DOF_SRC  = 2\n",
    "DOF_ABC  = 3\n",
    "DOF_CIR  = 4\n",
    "\n",
    "function dof_type(a, b)\n",
    "    global NUM_EDGES\n",
    "    global EDGES\n",
    "    global NODE_COORD\n",
    "    dof_flag = zeros(Int64, NUM_EDGES)\n",
    "    \n",
    "    for i_edge = 1:NUM_EDGES\n",
    "       node1 = EDGES[i_edge, 1]\n",
    "       node2 = EDGES[i_edge, 2]\n",
    "       if NODE_COORD[node1, 2] ≈ 0. && NODE_COORD[node2, 2] ≈ 0.\n",
    "           dof_flag[i_edge] = DOF_PEC\n",
    "       end\n",
    "       if NODE_COORD[node1, 2] ≈ b  && NODE_COORD[node2, 2] ≈ b\n",
    "           dof_flag[i_edge] = DOF_PEC\n",
    "       end\n",
    "       if NODE_COORD[node1, 1] ≈ 0. && NODE_COORD[node2, 1] ≈ 0.\n",
    "           dof_flag[i_edge] = DOF_SRC\n",
    "       end\n",
    "       if NODE_COORD[node1, 1] ≈ a  && NODE_COORD[node2, 1] ≈ a\n",
    "           dof_flag[i_edge] = DOF_ABC\n",
    "       end\n",
    "       if NODE_COORD[node1, 1] ≈ .4 && NODE_COORD[node2, 1] ≈ .4\n",
    "           dof_flag[i_edge] = DOF_CIR\n",
    "       end\n",
    "    end\n",
    "    return dof_flag\n",
    "end"
   ]
  },
  {
   "cell_type": "code",
   "execution_count": 8,
   "id": "republican-cyprus",
   "metadata": {},
   "outputs": [],
   "source": [
    "dof = collect(1:NUM_EDGES)\n",
    "\n",
    "Γ = dof_type(a, b);\n",
    "NUM_DOFS = NUM_EDGES;"
   ]
  },
  {
   "cell_type": "code",
   "execution_count": 9,
   "id": "exciting-alberta",
   "metadata": {},
   "outputs": [],
   "source": [
    "using SparseArrays\n",
    "# ASSUMPTION: Waveguide is homogenous\n",
    "# Assemble stiffness and mass matrices\n",
    "S = spzeros(NUM_DOFS, NUM_DOFS) # 1/μr ∫( ∇Ni × ∇Nj )dΩ\n",
    "R = spzeros(NUM_DOFS, NUM_DOFS) # μ0 σ ∫( ∇Ni ⋅ ∇Nj )dΩ\n",
    "T = spzeros(NUM_DOFS, NUM_DOFS) # μ0 ε ∫( ∇Ni ⋅ ∇Nj )dΩ\n",
    "B = spzeros(NUM_DOFS, NUM_DOFS) # μ0/η ∫(( n̂ × ∇Ni ) ⋅ ( n̂ × ∇Nj ))dΓ\n",
    "\n",
    "for ielem = 1:NUM_ELEMS # Assemble by elements\n",
    "  trinodes = ELEMENTS[ielem, :]\n",
    "  Se, Te = SandT(NODE_COORD[trinodes[1],1], NODE_COORD[trinodes[1],2],\n",
    "                 NODE_COORD[trinodes[2],1], NODE_COORD[trinodes[2],2],\n",
    "                 NODE_COORD[trinodes[3],1], NODE_COORD[trinodes[3],2])\n",
    "  Be = ABC(NODE_COORD[trinodes[1],1], NODE_COORD[trinodes[1],2],\n",
    "           NODE_COORD[trinodes[2],1], NODE_COORD[trinodes[2],2],\n",
    "           NODE_COORD[trinodes[3],1], NODE_COORD[trinodes[3],2], n̂)\n",
    "  \n",
    "  for jedge = 1:3\n",
    "    jj = dof[ELEMENT_EDGES[ielem, jedge]]\n",
    "    for kedge = 1:3\n",
    "      kk = dof[ELEMENT_EDGES[ielem, kedge]]\n",
    "      S[jj, kk] = S[jj, kk] + (1/μr) * Se[jedge, kedge]\n",
    "      R[jj, kk] = R[jj, kk] + (μ0*σ) * Te[jedge, kedge]\n",
    "      T[jj, kk] = T[jj, kk] + (μ0*ε) * Te[jedge, kedge]\n",
    "    end\n",
    "    \n",
    "    if Γ[jj] == DOF_ABC\n",
    "      B[jj, jj] = B[jj, jj] + (μ0/η) * Be[1, 1]\n",
    "    end\n",
    "  end\n",
    "end"
   ]
  },
  {
   "cell_type": "raw",
   "id": "operational-photographer",
   "metadata": {},
   "source": [
    "figure(figsize=(10, 10))\n",
    "subplot(2, 2, 1); spy(S); title(\"S\"); xticks([]); yticks([]);\n",
    "subplot(2, 2, 2); spy(R); title(\"R\"); xticks([]); yticks([]);\n",
    "subplot(2, 2, 3); spy(T); title(\"T\"); xticks([]); yticks([]);\n",
    "subplot(2, 2, 4); spy(B); title(\"B\"); xticks([]); yticks([]);\n",
    "tight_layout()"
   ]
  },
  {
   "cell_type": "code",
   "execution_count": 10,
   "id": "compatible-identification",
   "metadata": {},
   "outputs": [],
   "source": [
    "P = spzeros(NUM_DOFS, NUM_DOFS) # μ0 / L\n",
    "G = spzeros(NUM_DOFS, NUM_DOFS) # μ0 / R\n",
    "C = spzeros(NUM_DOFS, NUM_DOFS) # μ0 * C\n",
    "for ii = 1:NUM_EDGES\n",
    "  node1 = EDGES[ii, 1]\n",
    "  node2 = EDGES[ii, 2]\n",
    "\n",
    "  if Γ[ii] == DOF_CIR\n",
    "    len = norm(NODE_COORD[node1,:] - NODE_COORD[node2,:])\n",
    "    G[dof[ii], dof[ii]] += μ0 / RL * (b / len)\n",
    "    C[dof[ii], dof[ii]] += μ0 * CL * (b / len)\n",
    "  end\n",
    "\n",
    "  if Γ[ii] == DOF_SRC\n",
    "    len = norm(NODE_COORD[node1,:] - NODE_COORD[node2,:])\n",
    "    G[dof[ii], dof[ii]] += μ0 / Rs * (b / len)\n",
    "  end\n",
    "\n",
    "end\n",
    "S += P\n",
    "R += G\n",
    "T += C\n",
    "nothing"
   ]
  },
  {
   "cell_type": "code",
   "execution_count": 11,
   "id": "featured-bulletin",
   "metadata": {},
   "outputs": [],
   "source": [
    "A  = (+0.25Δt^2 * S +  T + 0.5Δt * B + 0.5Δt * R)\n",
    "for ii = 1:NUM_EDGES\n",
    "  node1 = EDGES[ii, 1]\n",
    "  node2 = EDGES[ii, 2]\n",
    "\n",
    "  if Γ[ii] == DOF_PEC\n",
    "        A[:,dof[ii]].= 0.0\n",
    "        A[dof[ii],:].= 0.0\n",
    "        A[dof[ii], dof[ii]] = 1.0\n",
    "  end\n",
    "end"
   ]
  },
  {
   "cell_type": "code",
   "execution_count": 12,
   "id": "significant-iceland",
   "metadata": {},
   "outputs": [],
   "source": [
    "it  = 1\n",
    "nt  = 1000\n",
    "t   = 0.0\n",
    "e   = zeros(NUM_EDGES)\n",
    "ep  = zeros(NUM_EDGES)\n",
    "epp = zeros(NUM_EDGES)\n",
    "res = zeros(nt, 11, 3, 2)\n",
    "vol = zeros(nt)\n",
    "nothing"
   ]
  },
  {
   "cell_type": "code",
   "execution_count": 13,
   "id": "single-disease",
   "metadata": {},
   "outputs": [],
   "source": [
    "function current(t) \n",
    "    if 0e-9 < t < 0.5e-9 return +1.0 end\n",
    "    if 2e-9 < t < 2.5e-9 return -1.0 end\n",
    "    return 0.0\n",
    "end\n",
    "\n",
    "for _ = it:nt\n",
    "    bi = (-0.25Δt^2 * S -  T + 0.5Δt * B + 0.5Δt * R) * epp +\n",
    "         (-0.50Δt^2 * S + 2T) * ep\n",
    "         \n",
    "    bbi = zeros(NUM_EDGES)\n",
    "    for ii = 1:NUM_EDGES\n",
    "      node1 = EDGES[ii, 1]\n",
    "      node2 = EDGES[ii, 2]\n",
    "      if Γ[ii] == DOF_SRC\n",
    "            len = norm(NODE_COORD[node1,:] - NODE_COORD[node2,:])\n",
    "            bbi[dof[ii]] = len * current(t) / Rs\n",
    "      end\n",
    "    end\n",
    "    \n",
    "    e   .= A \\ (bi + μ0 * Δt * bbi)\n",
    "    epp .= ep\n",
    "    ep  .= e\n",
    "    \n",
    "    res[it, :, :, :] .= evaluate(WhitneyTriangleElement(), e, dof, 0.01:0.05:0.51, 0.005:0.005:0.015)\n",
    "    vol[it] = sum(e[dof[Γ .== DOF_CIR]])\n",
    "    it += 1\n",
    "    t  += Δt\n",
    "end"
   ]
  },
  {
   "cell_type": "code",
   "execution_count": 14,
   "id": "seventh-poster",
   "metadata": {},
   "outputs": [
    {
     "data": {
      "image/png": "[encoded data removed]",
      "text/plain": [
       "Figure(PyObject <Figure size 640x480 with 1 Axes>)"
      ]
     },
     "metadata": {},
     "output_type": "display_data"
    },
    {
     "data": {
      "text/plain": [
       "PyObject <matplotlib.legend.Legend object at 0x133e12190>"
      ]
     },
     "execution_count": 14,
     "metadata": {},
     "output_type": "execute_result"
    }
   ],
   "source": [
    "using PyPlot\n",
    "\n",
    "ts = 1e9Δt * collect(1:nt)\n",
    "plot(ts, res[:, 3, 1, 1], \"r--\", ts, res[:, 3, 1, 2], \"r-\")\n",
    "plot(ts, res[:, 3, 2, 1], \"r--\", ts, res[:, 3, 2, 2], \"r-\")\n",
    "plot(ts, res[:, 3, 3, 1], \"r--\", ts, res[:, 3, 3, 2], \"r-\")\n",
    "plot(ts, res[:, 9, 1, 1], \"b--\", ts, res[:, 9, 1, 2], \"b-\")\n",
    "plot(ts, res[:, 9, 2, 1], \"b--\", ts, res[:, 9, 2, 2], \"b-\")\n",
    "plot(ts, res[:, 9, 3, 1], \"b--\", ts, res[:, 9, 3, 2], \"b-\")\n",
    "xlabel(\"time (ns)\")\n",
    "ylabel(\"electric field (V/m)\")\n",
    "legend([\"Ex\", \"Ey\"])"
   ]
  },
  {
   "cell_type": "code",
   "execution_count": 15,
   "id": "promotional-waters",
   "metadata": {},
   "outputs": [
    {
     "data": {
      "image/png": "[encoded data removed]",
      "text/plain": [
       "Figure(PyObject <Figure size 640x480 with 1 Axes>)"
      ]
     },
     "metadata": {},
     "output_type": "display_data"
    },
    {
     "data": {
      "text/plain": [
       "PyObject <matplotlib.legend.Legend object at 0x133e12210>"
      ]
     },
     "execution_count": 15,
     "metadata": {},
     "output_type": "execute_result"
    }
   ],
   "source": [
    "ts = 1e9Δt * collect(1:nt)\n",
    "grid()\n",
    "plot(ts, vol)\n",
    "xlabel(\"time (ns)\")\n",
    "ylabel(\"voltage (V)\")\n",
    "legend([\"V(ZL)\"])"
   ]
  },
  {
   "cell_type": "code",
   "execution_count": null,
   "id": "tracked-vampire",
   "metadata": {},
   "outputs": [],
   "source": []
  }
 ],
 "metadata": {
  "kernelspec": {
   "display_name": "Julia 1.5.3",
   "language": "julia",
   "name": "julia-1.5"
  },
  "language_info": {
   "file_extension": ".jl",
   "mimetype": "application/julia",
   "name": "julia",
   "version": "1.5.3"
  }
 },
 "nbformat": 4,
 "nbformat_minor": 5
}

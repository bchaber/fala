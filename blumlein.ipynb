{
 "cells": [
  {
   "cell_type": "code",
   "execution_count": 1,
   "id": "destroyed-carroll",
   "metadata": {},
   "outputs": [],
   "source": [
    "using LinearAlgebra\n",
    "include(\"plotting.jl\")\n",
    "include(\"meshing.jl\")\n",
    "nothing"
   ]
  },
  {
   "cell_type": "code",
   "execution_count": 2,
   "id": "economic-touch",
   "metadata": {},
   "outputs": [
    {
     "data": {
      "text/plain": [
       "abc (generic function with 1 method)"
      ]
     },
     "execution_count": 2,
     "metadata": {},
     "output_type": "execute_result"
    }
   ],
   "source": [
    "stiffness_element(lx, ly) =\n",
    "[lx/ly  1  lx/ly  1\n",
    "   1  ly/lx  1  ly/lx\n",
    " lx/ly  1  lx/ly  1\n",
    "   1  ly/lx  1  ly/lx]\n",
    "\n",
    "mass_element(lx, ly) = (lx * ly) / 6.0 *\n",
    "[ 2. 0 -1  0\n",
    "  0  2  0 -1\n",
    " -1  0  2  0\n",
    "  0 -1  0  2]\n",
    "\n",
    "# WARNING: works ONLY for x̂ normal direction!\n",
    "abc(x̂) = (ly) *\n",
    "[ 0. 0  0  0\n",
    "  0  1  0  0\n",
    "  0  0  0  0\n",
    "  0  0  0  1]\n"
   ]
  },
  {
   "cell_type": "code",
   "execution_count": 3,
   "id": "north-coast",
   "metadata": {},
   "outputs": [],
   "source": [
    "# Circuit\n",
    "Rs =   1e+4 # Ω\n",
    "RL = 2*13.2 # Ω\n",
    "\n",
    "# Parameters\n",
    "Δt = 0.05e-9\n",
    "ε0 = 8.854e-12\n",
    "μ0 = 4e-7π\n",
    "εr = 1.\n",
    "μr = 1.\n",
    "σ  = 0.\n",
    "ε  = ε0 * εr\n",
    "μ  = μ0 * μr\n",
    "η  = sqrt(μ / ε)\n",
    "\n",
    "n̂  = x̂ = [1.0, 0.0]\n",
    "nothing"
   ]
  },
  {
   "cell_type": "code",
   "execution_count": 4,
   "id": "southeast-combine",
   "metadata": {},
   "outputs": [],
   "source": [
    "a, b = 2.00, 0.08\n",
    "n, m = 200, 4\n",
    "lx = a / n\n",
    "ly = b / m\n",
    "el2ed, el2edd = quadmesh(a, b, n, m);"
   ]
  },
  {
   "cell_type": "code",
   "execution_count": 5,
   "id": "worthy-parallel",
   "metadata": {},
   "outputs": [
    {
     "data": {
      "text/plain": [
       "dof_type (generic function with 1 method)"
      ]
     },
     "execution_count": 5,
     "metadata": {},
     "output_type": "execute_result"
    }
   ],
   "source": [
    "DOF_NONE = 0\n",
    "DOF_PEC  = 1\n",
    "DOF_SRC  = 2\n",
    "DOF_ABC  = 3\n",
    "DOF_LOAD = 4\n",
    "DOF_SG   = 5\n",
    "\n",
    "function dof_type(n, m)\n",
    "    global NUM_EDGES\n",
    "    N = NUM_EDGES\n",
    "    h = [  1+(2n+1)i: n+0+(2n+1)i for i=0:m]\n",
    "    v = [n+1+(2n+1)i:2n+1+(2n+1)i for i=0:m-1]\n",
    "    start, stop = extrema(h[3])\n",
    "    h[3] = start:stop - 5\n",
    "    \n",
    "    dof_flag = zeros(Int64, N)\n",
    "    \n",
    "    dof_flag[(h[1])] .= DOF_PEC # BOTTOM\n",
    "    dof_flag[(h[3])] .= DOF_PEC # MIDDLE\n",
    "    dof_flag[(h[5])] .= DOF_PEC # TOP\n",
    "    \n",
    "    dof_flag[first(v[1])] = DOF_SRC\n",
    "    dof_flag[first(v[2])] = DOF_SRC\n",
    "    \n",
    "    dof_flag[first(v[3])] = DOF_SG\n",
    "    dof_flag[first(v[4])] = DOF_SG\n",
    "    \n",
    "    dof_flag[ last(v[1])] = DOF_LOAD\n",
    "    dof_flag[ last(v[2])] = DOF_LOAD\n",
    "    dof_flag[ last(v[3])] = DOF_LOAD\n",
    "    dof_flag[ last(v[4])] = DOF_LOAD\n",
    "    \n",
    "    return dof_flag\n",
    "end"
   ]
  },
  {
   "cell_type": "code",
   "execution_count": 6,
   "id": "republican-cyprus",
   "metadata": {},
   "outputs": [],
   "source": [
    "dof = collect(1:NUM_EDGES)\n",
    "\n",
    "Γ = dof_type(n, m)\n",
    "f = Γ .!= DOF_PEC\n",
    "NUM_DOFS = NUM_EDGES;"
   ]
  },
  {
   "cell_type": "code",
   "execution_count": 7,
   "id": "exciting-alberta",
   "metadata": {},
   "outputs": [],
   "source": [
    "using SparseArrays\n",
    "# ASSUMPTION: Waveguide is homogenous\n",
    "# Assemble stiffness and mass matrices\n",
    "S = spzeros(NUM_DOFS, NUM_DOFS) # 1/μr ∫( ∇Ni × ∇Nj )dΩ\n",
    "R = spzeros(NUM_DOFS, NUM_DOFS) # μ0 σ ∫( ∇Ni ⋅ ∇Nj )dΩ\n",
    "T = spzeros(NUM_DOFS, NUM_DOFS) # μ0 ε ∫( ∇Ni ⋅ ∇Nj )dΩ\n",
    "B = spzeros(NUM_DOFS, NUM_DOFS) # μ0/η ∫(( n̂ × ∇Ni ) ⋅ ( n̂ × ∇Nj ))dΓ\n",
    "\n",
    "# ASSUMPTION: Waveguide is homogenous\n",
    "for ielem = 1:NUM_ELEMS # Assemble by elements\n",
    "  Se = stiffness_element(lx, ly)\n",
    "  Te = mass_element(lx, ly)\n",
    "  Be = abc(n̂) # works only for x̂ normal direction\n",
    "  \n",
    "  for jedge = 1:4\n",
    "    dj = el2edd[ielem, jedge]\n",
    "    jj = dof[el2ed[ielem, jedge]]\n",
    "    if jj == 0\n",
    "      continue\n",
    "    end\n",
    "    \n",
    "    for kedge = 1:4\n",
    "      dk = el2edd[ielem, kedge]\n",
    "      kk = dof[el2ed[ielem, kedge]]\n",
    "      if kk == 0\n",
    "        continue\n",
    "      end\n",
    "\n",
    "      S[jj, kk] = S[jj, kk] + dj * dk * (1/μr) * Se[jedge, kedge]\n",
    "      T[jj, kk] = T[jj, kk] + dj * dk * (μ0*ε) * Te[jedge, kedge]\n",
    "            \n",
    "    \n",
    "      if Γ[jj] == DOF_ABC\n",
    "        B[jj, kk] = B[jj, kk] + (μ0/η) * dj * dk * Be[jedge, kedge]\n",
    "      end\n",
    "    end\n",
    "  end\n",
    "end"
   ]
  },
  {
   "cell_type": "code",
   "execution_count": 8,
   "id": "interpreted-reporter",
   "metadata": {},
   "outputs": [
    {
     "data": {
      "image/png": "[encoded data removed]",
      "text/plain": [
       "Figure(PyObject <Figure size 500x500 with 4 Axes>)"
      ]
     },
     "metadata": {},
     "output_type": "display_data"
    }
   ],
   "source": [
    "using PyPlot\n",
    "figure(figsize=(5, 5))\n",
    "subplot(2, 2, 1); spy(S); title(\"S\"); xticks([]); yticks([]);\n",
    "subplot(2, 2, 2); spy(R); title(\"R\"); xticks([]); yticks([]);\n",
    "subplot(2, 2, 3); spy(T); title(\"T\"); xticks([]); yticks([]);\n",
    "subplot(2, 2, 4); spy(B); title(\"B\"); xticks([]); yticks([]);\n",
    "tight_layout()"
   ]
  },
  {
   "cell_type": "code",
   "execution_count": 9,
   "id": "featured-bulletin",
   "metadata": {},
   "outputs": [],
   "source": [
    "A  = (+0.25Δt^2 * S +  T + 0.5Δt * B + 0.5Δt * R)\n",
    "for ii = 1:NUM_EDGES\n",
    "  if Γ[ii] == DOF_PEC\n",
    "        A[:,dof[ii]].= 0.0\n",
    "        A[dof[ii],:].= 0.0\n",
    "        A[dof[ii], dof[ii]] = 1.0\n",
    "  end\n",
    "end"
   ]
  },
  {
   "cell_type": "code",
   "execution_count": 10,
   "id": "compatible-identification",
   "metadata": {},
   "outputs": [
    {
     "data": {
      "text/plain": [
       "assemble_circuit! (generic function with 1 method)"
      ]
     },
     "execution_count": 10,
     "metadata": {},
     "output_type": "execute_result"
    }
   ],
   "source": [
    "sigmoid(x) = 1.0 / (1.0 + exp(-5x))\n",
    "Rsp(t, tswitch) = 1e15 - 1e15sigmoid(t - tswitch) + 6e-1\n",
    "\n",
    "function assemble_circuit!(P, C, G, t)\n",
    "    for ii = 1:NUM_EDGES\n",
    "      if Γ[ii] == DOF_LOAD\n",
    "        len = ly\n",
    "        G[dof[ii], dof[ii]] = μ0 * len^2 / RL * (b / len)\n",
    "      end\n",
    "\n",
    "      if Γ[ii] == DOF_SG\n",
    "        len = ly\n",
    "        G[dof[ii], dof[ii]] = μ0 * len^2 / Rsp(1e9t, 15_000) * (b / len)\n",
    "      end\n",
    "\n",
    "      if Γ[ii] == DOF_SRC\n",
    "        len = ly\n",
    "        G[dof[ii], dof[ii]] = μ0 * len^2 / Rs * (b / len)\n",
    "      end\n",
    "    end\n",
    "end\n",
    "\n",
    "#ts = 1e9Δt * collect(1:nt)\n",
    "#xlabel(\"time (ns)\")\n",
    "#plot(ts, Rsp.(ts, 15), \"r.-\")\n",
    "#ylabel(\"Resistance (Ω)\")"
   ]
  },
  {
   "cell_type": "code",
   "execution_count": 54,
   "id": "significant-iceland",
   "metadata": {},
   "outputs": [],
   "source": [
    "using JLD2\n",
    "\n",
    "x = 0.010:0.050:0.51\n",
    "y = 0.005:0.012:0.07\n",
    "xx, yy = meshgrid(x, y);\n",
    "\n",
    "it  = 1\n",
    "nt  = 3*500\n",
    "t   = 0.00 + 15000e-9\n",
    "e   = zeros(NUM_EDGES)\n",
    "\n",
    "e0  = zeros(NUM_EDGES)\n",
    "ep  = zeros(NUM_EDGES)\n",
    "epp = zeros(NUM_EDGES)\n",
    "\n",
    "e0 .= load(\"blumlein-e0-$n-$m-$a-$b.jld2\", \"e0\")\n",
    "ep .= e0\n",
    "epp.= e0\n",
    "\n",
    "res = zeros(nt, 11, 6, 2)\n",
    "vRsg = zeros(nt)\n",
    "vRL  = zeros(nt)\n",
    "nothing"
   ]
  },
  {
   "cell_type": "code",
   "execution_count": 55,
   "id": "single-disease",
   "metadata": {},
   "outputs": [
    {
     "data": {
      "text/plain": [
       "1.768587"
      ]
     },
     "execution_count": 55,
     "metadata": {},
     "output_type": "execute_result"
    }
   ],
   "source": [
    "function current(t)\n",
    "    if t < 20e-9\n",
    "        return 1.0\n",
    "    end\n",
    "    return 0.0\n",
    "end\n",
    "\n",
    "P = spzeros(NUM_DOFS, NUM_DOFS) # μ0 / L\n",
    "G = spzeros(NUM_DOFS, NUM_DOFS) # μ0 / R\n",
    "C = spzeros(NUM_DOFS, NUM_DOFS) # μ0 * C\n",
    "\n",
    "assemble_circuit!(P, C, G, 0.0)\n",
    "Ppp, Pp = copy(P), copy(P)\n",
    "Cpp, Cp = copy(C), copy(C)\n",
    "Gpp, Gp = copy(G), copy(G)\n",
    "\n",
    "function shift!(xpp, xp, x)\n",
    "    xpp .= xp; xp .= x\n",
    "end\n",
    "\n",
    "@elapsed for _ = it:nt\n",
    "    #if t ≈ 15_000e-9\n",
    "    # jldsave(\"blumlein-e0-$n-$m-$a-$b.jld2\"; ep)\n",
    "    #end\n",
    "    assemble_circuit!(P, C, G, t)\n",
    "    Ai = (+0.25Δt^2 * P +  C + 0.5Δt * G)\n",
    "    bi = (-0.25Δt^2 * S -  T + 0.5Δt * B + 0.5Δt * R) * epp +\n",
    "         (-0.50Δt^2 * S + 2T) * ep +\n",
    "         (-0.25Δt^2 * Ppp -  Cpp + 0.5Δt * Gpp) * epp +\n",
    "         (-0.50Δt^2 * Pp  + 2Cp) * ep\n",
    "         \n",
    "    bbi = zeros(NUM_EDGES)\n",
    "    for ii = 1:NUM_EDGES\n",
    "      if Γ[ii] == DOF_SRC\n",
    "            len = ly\n",
    "            bbi[dof[ii]] = len^2 * current(t) / Rs\n",
    "      end\n",
    "    end\n",
    "    \n",
    "    e   .= (A + Ai) \\ (bi + μ0 * Δt * bbi)\n",
    "    \n",
    "    shift!(epp, ep, e)\n",
    "    shift!(Ppp, Pp, P)\n",
    "    shift!(Cpp, Cp, C)\n",
    "    shift!(Gpp, Gp, G)\n",
    "\n",
    "    res[it, :, :, :] .= evaluate(WhitneyRectangleElement(), e, dof, x, y, n, m, lx, ly, el2ed, el2edd)\n",
    "    vRsg[it] = sum(e[dof[Γ .== DOF_SG]])\n",
    "    vRL[it]  = sum(e[dof[Γ .== DOF_LOAD]])\n",
    "\n",
    "\n",
    "    it += 1\n",
    "    t  += Δt\n",
    "end"
   ]
  },
  {
   "cell_type": "code",
   "execution_count": 56,
   "id": "republican-toddler",
   "metadata": {},
   "outputs": [
    {
     "data": {
      "image/png": "[encoded data removed]",
      "text/plain": [
       "Figure(PyObject <Figure size 1000x200 with 2 Axes>)"
      ]
     },
     "metadata": {},
     "output_type": "display_data"
    },
    {
     "data": {
      "text/plain": [
       "(-1.0105724482181604, 1.0106605345137798)"
      ]
     },
     "execution_count": 56,
     "metadata": {},
     "output_type": "execute_result"
    }
   ],
   "source": [
    "x = 1.61:0.10:2.00\n",
    "y = 0.01:0.02:0.08\n",
    "E = evaluate(WhitneyRectangleElement(), e0, dof, x, y, n, m, lx, ly, el2ed, el2edd)\n",
    "normE  = @. sqrt(E[:, :, 1]^2 + E[:, :, 2]^2)\n",
    "xx, yy = meshgrid(x, y);\n",
    "\n",
    "figure(figsize=(10, 2))\n",
    "contourf(xx', yy', E[:, :, 2], cmap=PyPlot.get_cmap(\"bwr\"), levels=20)\n",
    "axis(\"equal\"); colorbar();\n",
    "extrema(E[:,:,2])"
   ]
  },
  {
   "cell_type": "code",
   "execution_count": 57,
   "id": "seventh-poster",
   "metadata": {},
   "outputs": [
    {
     "data": {
      "image/png": "[encoded data removed]",
      "text/plain": [
       "Figure(PyObject <Figure size 640x480 with 1 Axes>)"
      ]
     },
     "metadata": {},
     "output_type": "display_data"
    },
    {
     "data": {
      "text/plain": [
       "PyObject Text(24.000000000000007, 0.5, 'electric field (V/m)')"
      ]
     },
     "execution_count": 57,
     "metadata": {},
     "output_type": "execute_result"
    }
   ],
   "source": [
    "using PyPlot\n",
    "\n",
    "ts = 1e9Δt * collect(1:nt)\n",
    "plot(ts, res[:, 3, 1, 2], \"r-\")\n",
    "plot(ts,-res[:, 3, 6, 2], \"r--\")\n",
    "plot(ts, res[:, 9, 1, 2], \"b-\")\n",
    "plot(ts,-res[:, 9, 6, 2], \"b--\")\n",
    "#xlim([14900, 15200])\n",
    "xlabel(\"time (μs)\")\n",
    "ylabel(\"electric field (V/m)\")"
   ]
  },
  {
   "cell_type": "code",
   "execution_count": 58,
   "id": "promotional-waters",
   "metadata": {},
   "outputs": [
    {
     "data": {
      "image/png": "[encoded data removed]",
      "text/plain": [
       "Figure(PyObject <Figure size 640x480 with 1 Axes>)"
      ]
     },
     "metadata": {},
     "output_type": "display_data"
    },
    {
     "data": {
      "text/plain": [
       "PyObject <matplotlib.legend.Legend object at 0x7fd8f1d1e100>"
      ]
     },
     "execution_count": 58,
     "metadata": {},
     "output_type": "execute_result"
    }
   ],
   "source": [
    "ts = 1e9Δt * collect(1:nt)\n",
    "\n",
    "xlabel(\"time (ns)\")\n",
    "grid()\n",
    "plot(ts, vRL, \"b-\")\n",
    "plot(ts,-vRsg, \"r-\")\n",
    "ylabel(\"voltage (V)\")\n",
    "legend([\"RL\", \"Rsg\"])"
   ]
  }
 ],
 "metadata": {
  "kernelspec": {
   "display_name": "Julia 1.6.3",
   "language": "julia",
   "name": "julia-1.6"
  },
  "language_info": {
   "file_extension": ".jl",
   "mimetype": "application/julia",
   "name": "julia",
   "version": "1.6.3"
  }
 },
 "nbformat": 4,
 "nbformat_minor": 5
}

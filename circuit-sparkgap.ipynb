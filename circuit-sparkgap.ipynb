{
 "cells": [
  {
   "cell_type": "raw",
   "id": "7b347c99",
   "metadata": {},
   "source": [
    "* LTSpice model for comparison (https://passive-components.eu/modeling-inductors-with-ltspice/)\n",
    "I1 0 N001 SINE(0 1 1 0)\n",
    "L1 N002 0 Flux= 1e-3 * x + pow(x, 3)\n",
    "R1 N001 N002 1e-3\n",
    ".tran 1\n",
    ".backanno\n",
    ".end"
   ]
  },
  {
   "cell_type": "code",
   "execution_count": 1,
   "id": "bebb5b2f",
   "metadata": {},
   "outputs": [],
   "source": [
    "using StaticArrays\n",
    "using ACME\n",
    "\n",
    "arcchannel(;R0=1e-3, L0=1e-3) =\n",
    "  ACME.Element(mv=[1;1;0;0;0], mi=[0;0;1;0;0], mx=[0 -1;0 0;0 0;1 0;0 1], mxd=[-1 0;0 0;0 0;0 0;0 0],\n",
    "        mq=[0 0 0 0;-1 0 0 0;0 -1 0 0; 0 0 -1 0; 0 0 0 -1], ports=[:1 => :2],\n",
    "        nonlinear_eq = @inline function(q)\n",
    "            v, i, Φ, u = q\n",
    "            Ri = R0 * i\n",
    "            Li = L0 * tanh(5i)\n",
    "            j = @SVector [(Ri - u), (Li - Φ)]\n",
    "            J = @SMatrix [(.0) (R0) (.0) (-1);\n",
    "                          (.0) (5L0 / cosh(5i)^2) (-1) (.0)] \n",
    "            return (j, J)\n",
    "        end)\n",
    "\n",
    "cir = @circuit begin\n",
    "    i = currentsource()\n",
    "    v = voltageprobe()\n",
    "    ⚡ = arcchannel()\n",
    "end\n",
    "\n",
    "connect!(cir, (:i, +), (:v, +), (:⚡, 1))\n",
    "connect!(cir, (:i, -), (:v, -), (:⚡, 2), :gnd)"
   ]
  },
  {
   "cell_type": "code",
   "execution_count": null,
   "id": "e8d3566d",
   "metadata": {},
   "outputs": [],
   "source": [
    "model = DiscreteModel(cir, 1/1000)\n",
    "\n",
    "t = 0:0.001:1.0\n",
    "u = similar(t)\n",
    "y = similar(u)\n",
    "\n",
    "for i=1:length(t)\n",
    "    u[i] = sin(2π * 1 * t[i])\n",
    "    y[i,:,:].= run!(model, u[i,:,:])\n",
    "end"
   ]
  },
  {
   "cell_type": "code",
   "execution_count": null,
   "id": "1a93983a",
   "metadata": {},
   "outputs": [],
   "source": [
    "using PyPlot\n",
    "fig, yleft = subplots()\n",
    "yright = yleft.twinx()\n",
    "\n",
    "yleft.set_ylabel(\"current [A]\", color=\"red\")\n",
    "yleft.tick_params(axis=\"y\", labelcolor=\"red\")\n",
    "yleft.plot(t, u, color=\"red\")\n",
    "\n",
    "yright.set_ylabel(\"voltage [V]\", color=\"blue\")\n",
    "yright.tick_params(axis=\"y\", labelcolor=\"blue\")\n",
    "yright.plot(0.5t[2:2:end] .+ 0.5t[1:2:end-1],\n",
    "            0.5y[2:2:end] .+ 0.5y[1:2:end-1], color=\"blue\")\n",
    "\n",
    "yleft.set_xlabel(\"time [s]\")\n",
    "fig.tight_layout()  # otherwise the right y-label is slightly clipped"
   ]
  },
  {
   "cell_type": "code",
   "execution_count": null,
   "id": "a0c68dd9",
   "metadata": {},
   "outputs": [],
   "source": [
    "pressure = 750.0\n",
    "distance = 0.001\n",
    "tbreak = NaN\n",
    "\n",
    "gasdensity(p) = 1.2p / 760 # at 25 degrees C.\n",
    "electricfield(V, d) = V / d\n",
    "resistance(r, d, ∫i²) = 876.0d * r^(2/5) / ∫i²^(3/5) # Vlastos\n",
    "inductance(r, d) = 2.0d * (log(2d / r) - .75) * 1e-9 # Wire Inductance\n",
    "\n",
    "Braginskii(ρ, i, t) = 9.3e-4 * i^(1/3) * t^(1/2) * ρ^(1/6)\n",
    "THMartin(E, ρ) = 98700 * (E / ρ + 1e-15) ^ (-3.44) / ρ\n",
    "Bruce(p, d) = (24.55 * (d / 760)^(1.0) * (1e2p)^(1.0) +\n",
    "                6.66 * (d / 760)^(0.5) * (1e2p)^(0.5)) * 1000\n",
    "\n",
    "overvoltage(tbreak, Vbreak, t, V) = (V > Vbreak) ? (isnan(tbreak) ? t : tbreak) : (NaN)\n",
    "channel(tbreak, tdelay, t, ich, imin) = (time > tbreak + tdelay) ? (t - tbreak - tdelay) : (0.0)"
   ]
  },
  {
   "cell_type": "code",
   "execution_count": null,
   "id": "6c397c10",
   "metadata": {},
   "outputs": [],
   "source": [
    "Vbreak = [Bruce(p, d) for p in 350:850, d in 0.0001:0.0001:0.01]\n",
    "contourf(0.1:0.1:10, 350:850, 1e-3Vbreak; levels=20)\n",
    "xlabel(\"distance [mm]\")\n",
    "ylabel(\"pressure [torr]\")\n",
    "colorbar(location=\"bottom\").set_label(\"breakdown voltage [kV]\");"
   ]
  },
  {
   "cell_type": "code",
   "execution_count": null,
   "id": "9b014491",
   "metadata": {},
   "outputs": [],
   "source": [
    "tdelay = [THMartin(E, gasdensity(p)) for E in 0.2e6:0.01e6:0.4e6, p in 350:850]\n",
    "contourf(350:850, 0.2:0.01:0.4, 1e12tdelay; levels=20)\n",
    "xlabel(\"pressure [torr]\")\n",
    "ylabel(\"electric field [MV/m]\")\n",
    "colorbar(location=\"bottom\").set_label(\"delay [ps]\");"
   ]
  },
  {
   "cell_type": "code",
   "execution_count": null,
   "id": "3c259227",
   "metadata": {},
   "outputs": [],
   "source": [
    "radius = [Braginskii(gasdensity(p), i, 1e-9) for p in 350:850, i in 0.0:2e-3:1.0]\n",
    "contourf(0.0:2e-3:1.0, 350:850, 1e9radius; levels=20)\n",
    "xlabel(\"current [ampere]\")\n",
    "ylabel(\"pressure [torr]\")\n",
    "title(\"t_arc = 1 ns\")\n",
    "colorbar(location=\"bottom\").set_label(\"radius [nm]\");"
   ]
  },
  {
   "cell_type": "code",
   "execution_count": null,
   "id": "54fb5078",
   "metadata": {},
   "outputs": [],
   "source": [
    "Rch = [resistance(r, d, 10e-6) for r in 1e-9:1e-9:35e-9, d in 0.0001:0.0001:0.01]\n",
    "contourf(0.1:0.1:10, 1:35, Rch; levels=20)\n",
    "xlabel(\"distance [mm]\")\n",
    "ylabel(\"radius [nm]\")\n",
    "title(\"∫i² = ...\")\n",
    "colorbar(location=\"bottom\").set_label(\"resistance [Ω]\");"
   ]
  },
  {
   "cell_type": "code",
   "execution_count": null,
   "id": "4132d11e",
   "metadata": {},
   "outputs": [],
   "source": [
    "Lch = [inductance(r, d) for r in 1e-9:1e-9:35e-9, d in 0.0001:0.0001:0.01]\n",
    "contourf(0.1:0.1:10, 1:35, 1e9Lch; levels=20)\n",
    "xlabel(\"distance [mm]\")\n",
    "ylabel(\"radius [nm]\")\n",
    "colorbar(location=\"bottom\").set_label(\"inductance [nH]\");"
   ]
  }
 ],
 "metadata": {
  "kernelspec": {
   "display_name": "Julia 1.6.3",
   "language": "julia",
   "name": "julia-1.6"
  },
  "language_info": {
   "file_extension": ".jl",
   "mimetype": "application/julia",
   "name": "julia",
   "version": "1.6.3"
  }
 },
 "nbformat": 4,
 "nbformat_minor": 5
}

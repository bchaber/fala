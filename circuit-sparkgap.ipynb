{
 "cells": [
  {
   "cell_type": "raw",
   "id": "c4ec54c0",
   "metadata": {},
   "source": [
    "* LTSpice model for comparison (https://passive-components.eu/modeling-inductors-with-ltspice/)\n",
    "I1 0 N001 SINE(0 1 1 0)\n",
    "L1 N002 0 Flux= 1e-3 * x + pow(x, 3)\n",
    "R1 N001 N002 1e-3\n",
    ".tran 1\n",
    ".backanno\n",
    ".end"
   ]
  },
  {
   "cell_type": "code",
   "execution_count": 1,
   "id": "a0c68dd9",
   "metadata": {},
   "outputs": [
    {
     "data": {
      "text/plain": [
       "Vlastos_SI (generic function with 1 method)"
      ]
     },
     "execution_count": 1,
     "metadata": {},
     "output_type": "execute_result"
    }
   ],
   "source": [
    "gasdensity(p) = 1.2p / 101325 # at 25 degrees C.\n",
    "electricfield(V, d) = V / d\n",
    "resistance(r, d, ∫i²) = 876.0d * r^(2/5) / ∫i²^(3/5) # Vlastos\n",
    "inductance(r, d) = 2.0d * (log(2d / r) - .75) * 1e-9 # Wire Inductance\n",
    "\n",
    "Braginskii(ρ, i, t) = 9.3e-4 * i^(1/3) * t^(1/2) * ρ^(1/6)\n",
    "THMartin(E, ρ) = 98700 * (E / ρ + 1e-15) ^ (-3.44) / ρ\n",
    "Bruce(p, d) = (24.55 * (p / 760)^(1.0) * (1e2d)^(1.0) +\n",
    "                6.66 * (p / 760)^(0.5) * (1e2d)^(0.5)) * 1000\n",
    "\n",
    "# ρ in [kg/m3], i in [A], t in [s], result in [m]\n",
    "Braginskii_SI(ρ, i, t) = 9.3e-4 * (1e-3*i)^(1/3) * (1e6*t)^(1/2) * (1e-3*ρ)^(1/6)   # channel radius\n",
    "\n",
    "# E in [V/m], ρ in [kg/m3], result in [s]\n",
    "THMartin_SI(E, ρ) = 98700 * ((1e-5*E) / (1e-3*ρ)) ^ (-3.44) / (1e-3*ρ)              # breakdown delay\n",
    "\n",
    "# p in [Pa], d in [m], result in [V]\n",
    "Bruce_SI(p, d) = (24.55 * (p / 101325)       * (1e2*d) + \n",
    "                  6.66  * (p / 101325)^(0.5) * (1e2*d)^(0.5)) * 1000                # breakdown voltage\n",
    "\n",
    "# r in [m], d in [m], result in [H] \n",
    "Grover_SI(r, d) = 200.0d * (log(200d / r) - .75) * 1e-9                             # arc (wire) inductance\n",
    "\n",
    "# r in [m], d in [m], i in [A], result in [Ω]\n",
    "Vlastos_SI(r, d, ∫i²) = 876.0d * r^(2/5) / ∫i²^(3/5)                                # arc resistance\n",
    "\n",
    "\n"
   ]
  },
  {
   "cell_type": "code",
   "execution_count": 2,
   "id": "bebb5b2f",
   "metadata": {},
   "outputs": [],
   "source": [
    "using StaticArrays\n",
    "using ACME\n",
    "\n",
    "\n",
    "Δt = 5e-9\n",
    "\n",
    "params = Dict{String, Any}(\n",
    "    \"pressure\" => 101325,\n",
    "    \"distance\" => 0.001,\n",
    "    \"t_arc\" => 0.0,\n",
    "    \"t_over\" => 0.0,\n",
    "    \"∫i²\" => 0.0,\n",
    "    \"Δt\" => Δt,\n",
    "    \"v_break\" => Bruce_SI(101325, 0.001),\n",
    "    \"i_min\" => 5e-5,\n",
    "    \"channel_on\" => false\n",
    "    )\n",
    "\n",
    "\n",
    "nonlinear_eq = @inline function(q, params)\n",
    "    v, i, Φ, u = q\n",
    "    #println(\"v \", v, \" i \", i, \" Φ \", Φ, \" u \", u)\n",
    "    # uzywac tbreak\n",
    "    if params[\"channel_on\"] == false\n",
    "        j = @SVector [(v - u), (i)]\n",
    "        J = @SMatrix [(1) (0.) (.0) (-1);\n",
    "                      (0) (1.) (.0) (.0)] \n",
    "    else\n",
    "        if i ≈ 0.0 i = 1e-12 end\n",
    "        i = abs(i)\n",
    "        ch_rad = Braginskii_SI(gasdensity(params[\"pressure\"]), i, params[\"t_arc\"])\n",
    "        Ri  = Vlastos_SI(ch_rad, params[\"distance\"], params[\"∫i²\"] + (i^2) * params[\"Δt\"]) * i\n",
    "        dRi = -14.2497 * params[\"distance\"] *\n",
    "            (i^(1/3)* gasdensity(params[\"pressure\"])^(1/6) * params[\"t_arc\"]^(1/2)) /\n",
    "                (i^2 * params[\"t_arc\"])^(3/5)\n",
    "\n",
    "        Li  = Grover_SI(ch_rad, params[\"distance\"])*i\n",
    "        dLi = 2.0e-7 * params[\"distance\"] *\n",
    "            (log((215054. * params[\"distance\"]) / \n",
    "                (i^(1/3)* gasdensity(params[\"pressure\"])^(1/6) * params[\"t_arc\"]^(1/2))) -\n",
    "            1.08333) \n",
    "\n",
    "        #println(\"ch_rad \", ch_rad, \" Ri \", Ri, \" dRi \", dRi, \" Li \", Li, \" dLi \", dLi)\n",
    "\n",
    "        j = @SVector [(Ri - u), (Li - Φ)]\n",
    "        J = @SMatrix [(0) (dRi) (.0) (-1);\n",
    "                      (0) (dLi) (-1) (.0)] \n",
    "    end\n",
    "    return (j, J)\n",
    "    end\n",
    "\n",
    "afternewton = @inline function(q, params)\n",
    "    v, i, Φ, u = q\n",
    "    if params[\"channel_on\"]\n",
    "        if i > params[\"i_min\"]\n",
    "            params[\"t_arc\"] += params[\"Δt\"]\n",
    "            params[\"∫i²\"] += i^2 * params[\"Δt\"]\n",
    "        else\n",
    "            params[\"channel_on\"] = false\n",
    "            params[\"∫i²\"] = 0.0\n",
    "            params[\"t_arc\"] = 0.0\n",
    "        end\n",
    "    elseif v > params[\"v_break\"]\n",
    "        t_delay = THMartin_SI(electricfield(v,params[\"distance\"]), gasdensity(params[\"pressure\"]))\n",
    "        params[\"t_over\"] += params[\"Δt\"]\n",
    "        if params[\"t_over\"] > t_delay\n",
    "            params[\"channel_on\"] = true\n",
    "            params[\"∫i²\"] = i^2 * params[\"Δt\"]\n",
    "            params[\"t_arc\"] = params[\"Δt\"]\n",
    "            params[\"t_over\"] = 0.0\n",
    "        end\n",
    "    end\n",
    "end\n",
    "\n",
    "arcchannel() =\n",
    "  ACME.Element(mv=[1;1;0;0;0], mi=[0;0;1;0;0], mx=[0 -1;0 0;0 0;1 0;0 1], mxd=[-1 0;0 0;0 0;0 0;0 0],\n",
    "        mq=[0 0 0 0;-1 0 0 0;0 -1 0 0; 0 0 -1 0; 0 0 0 -1], ports=[:1 => :2],\n",
    "        nonlinear_eq = nonlinear_eq)\n",
    "\n",
    "cir = @circuit begin\n",
    "    i = currentprobe()\n",
    "    v = voltagesource()\n",
    "    R_Ch = resistor(1e6)\n",
    "    C = capacitor(1e-9)\n",
    "    R_L = resistor(150)\n",
    "    ⚡ = arcchannel()\n",
    "end\n",
    "\n",
    "connect!(cir, (:v, +), (:R_Ch, 1))\n",
    "connect!(cir, (:v, -), (:C, 1), (:R_L, 2), :gnd)\n",
    "connect!(cir, (:R_Ch, 2), (:C, 2))\n",
    "connect!(cir, (:C, 2), (:i, -))\n",
    "connect!(cir, (:i, +), (:⚡, 1))\n",
    "connect!(cir, (:R_L, 1), (:⚡, 2))"
   ]
  },
  {
   "cell_type": "raw",
   "id": "bb53f8c2",
   "metadata": {},
   "source": [
    "model = DiscreteModel(cir, 1/1000)\n",
    "\n",
    "t = 0:Δt:1.0\n",
    "u = similar(t)\n",
    "y = similar(u)\n",
    "\n",
    "for i=1:length(t)\n",
    "    u[i] = abs(sin(2π * 2 * t[i]))\n",
    "    y[i,:,:].= run!(model, u[i,:,:])\n",
    "end"
   ]
  },
  {
   "cell_type": "raw",
   "id": "0277c718",
   "metadata": {},
   "source": [
    "using PyPlot\n",
    "fig, yleft = subplots()\n",
    "yright = yleft.twinx()\n",
    "\n",
    "yleft.set_ylabel(\"u\", color=\"blue\")\n",
    "yleft.tick_params(axis=\"y\", labelcolor=\"blue\")\n",
    "yleft.plot(t, u, color=\"blue\")\n",
    "\n",
    "yright.set_ylabel(\"y\", color=\"red\")\n",
    "yright.tick_params(axis=\"y\", labelcolor=\"red\")\n",
    "yright.plot(0.5t[2:2:end] .+ 0.5t[1:2:end-1],\n",
    "            0.5y[2:2:end] .+ 0.5y[1:2:end-1], color=\"red\")\n",
    "\n",
    "yleft.set_xlabel(\"time [s]\")\n",
    "fig.tight_layout()  # otherwise the right y-label is slightly clipped"
   ]
  },
  {
   "cell_type": "code",
   "execution_count": 6,
   "id": "1f01a569",
   "metadata": {},
   "outputs": [
    {
     "data": {
      "text/plain": [
       "(0.0) + [1.0ε]"
      ]
     },
     "execution_count": 6,
     "metadata": {},
     "output_type": "execute_result"
    }
   ],
   "source": [
    "struct Dual{T <:Number} <:Number\n",
    "     v::T\n",
    "    dv::T\n",
    "end\n",
    "\n",
    "import Base: +, -, *, /, ^\n",
    "-(x::Dual)          = Dual(-x.v,       -x.dv)\n",
    "+(x::Dual, y::Dual) = Dual( x.v + y.v,  x.dv + y.dv)\n",
    "-(x::Dual, y::Dual) = Dual( x.v - y.v,  x.dv - y.dv)\n",
    "*(x::Dual, y::Dual) = Dual( x.v * y.v,  x.dv * y.v + x.v * y.dv)\n",
    "/(x::Dual, y::Dual) = Dual( x.v / y.v, (x.dv * y.v - x.v * y.dv)/y.v^2)\n",
    "^(x::Dual, y::Float64) = Dual(x.v^y, !iszero(y)* x.dv * y * x.v^(y-1))\n",
    "\n",
    "import Base: abs, sin, cos, tan, exp, log, sqrt, isless, isapprox\n",
    "abs(x::Dual)  = Dual(abs(x.v),sign(x.v)*x.dv)\n",
    "sin(x::Dual)  = Dual(sin(x.v), cos(x.v)*x.dv)\n",
    "cos(x::Dual)  = Dual(cos(x.v),-sin(x.v)*x.dv)\n",
    "tan(x::Dual)  = Dual(tan(x.v), one(x.v)*x.dv + tan(x.v)^2*x.dv)\n",
    "exp(x::Dual)  = Dual(exp(x.v), exp(x.v)*x.dv)\n",
    "log(x::Dual)  = Dual(log(x.v), x.dv/x.v)\n",
    "sqrt(x::Dual) = Dual(sqrt(x.v),.5/sqrt(x.v) * x.dv)\n",
    "isless(x::Dual, y::Dual) = x.v < y.v\n",
    "isless(x::Float64, y::Dual) = x < y.v\n",
    "isless(x::Dual, y::Float64) = x.v < y\n",
    "isapprox(x::Dual{Float64}, y::Float64) = x.v ≈ y\n",
    "\n",
    "\n",
    "import Base: convert, promote_rule\n",
    "convert(::Type{Dual{T}}, x::Dual) where T = Dual(convert(T, x.v), convert(T, x.dv))\n",
    "convert(::Type{Dual{T}}, x::Number) where T = Dual(convert(T, x), zero(T))\n",
    "promote_rule(::Type{Dual{T}}, ::Type{R}) where {T,R} = Dual{promote_type(T,R)}\n",
    "\n",
    "import Base: show\n",
    "show(io::IO, x::Dual) = print(io, \"(\", x.v, \") + [\", x.dv, \"ε]\");\n",
    "value(x::Dual) = x.v;\n",
    "partials(x::Dual) = x.dv;\n",
    "\n",
    "ε = Dual(0., 1.)"
   ]
  },
  {
   "cell_type": "code",
   "execution_count": 7,
   "id": "983de3c2",
   "metadata": {},
   "outputs": [
    {
     "data": {
      "text/plain": [
       "false"
      ]
     },
     "execution_count": 7,
     "metadata": {},
     "output_type": "execute_result"
    }
   ],
   "source": []
  },
  {
   "cell_type": "code",
   "execution_count": 12,
   "id": "8d7d79e4",
   "metadata": {},
   "outputs": [
    {
     "name": "stderr",
     "output_type": "stream",
     "text": [
      "\r",
      "\u001b[32mProgress: 100%|█████████████████████████████████████████| Time: 0:02:38\u001b[39m\r\n",
      "\u001b[34m  iteration:  700001\u001b[39m\r\n",
      "\u001b[34m  timesteps:  700001\u001b[39m\n"
     ]
    },
    {
     "name": "stdout",
     "output_type": "stream",
     "text": [
      "Finished!\n"
     ]
    }
   ],
   "source": [
    "#import Pkg; Pkg.add(\"ProgressMeter\")\n",
    "using ProgressMeter; \n",
    "ProgressMeter.ijulia_behavior(:clear)\n",
    "\n",
    "include(\"circuit-model.jl\")\n",
    "\n",
    "A, B, C, Di, Ei, Fi, Dv, Ev, Fv, Dq, Eq, Fq = matrices(cir, Δt, 1)\n",
    "x̄, y, ū, q̄, z = states(B, C, Di, Dq, T=Dual{Float64})\n",
    "dmodel = DifferentiableModel(A, B, C, Di, Ei, Fi, Dq, Eq, Fq,\n",
    "    x̄, y, ū, q̄, z, params)\n",
    "\n",
    "t = 0:Δt:3.5e-3\n",
    "\n",
    "const progress = Progress(length(t))\n",
    "\n",
    "u = similar(t)\n",
    "y = similar(u)\n",
    "dy = similar(u)\n",
    "\n",
    "for i=1:length(t)\n",
    "    u[i] = 10e3\n",
    "    step!(dmodel, u[i,:,:] .+ ε, nonlinear_eq, afternewton)\n",
    "    y[i] = value(dmodel.y[1])\n",
    "    dy[i] = partials(dmodel.y[1])\n",
    "    update!(progress, i; showvalues=[(:iteration, i),(:timesteps, length(t))]) # progressbar\n",
    "end\n",
    "println(\"Finished!\")"
   ]
  },
  {
   "cell_type": "code",
   "execution_count": 10,
   "id": "b310e6fe",
   "metadata": {},
   "outputs": [
    {
     "data": {
      "image/png": "[encoded data removed]",
      "text/plain": [
       "Figure(PyObject <Figure size 640x480 with 2 Axes>)"
      ]
     },
     "metadata": {},
     "output_type": "display_data"
    }
   ],
   "source": [
    "using PyPlot\n",
    "fig, yleft = subplots()\n",
    "yright = yleft.twinx()\n",
    "\n",
    "yleft.set_ylabel(\"u\", color=\"blue\")\n",
    "yleft.tick_params(axis=\"y\", labelcolor=\"blue\")\n",
    "yleft.plot(t, u, color=\"blue\")\n",
    "\n",
    "yright.set_ylabel(\"y\", color=\"red\")\n",
    "yright.tick_params(axis=\"y\", labelcolor=\"red\")\n",
    "yright.plot(0.5t[2:2:end] .+ 0.5t[1:2:end-1],\n",
    "            0.5y[2:2:end] .+ 0.5y[1:2:end-1], color=\"red\")\n",
    "xlim([0.000609, 0.0006091])\n",
    "yleft.set_xlabel(\"time [s]\")\n",
    "fig.tight_layout()  # otherwise the right y-label is slightly clipped"
   ]
  },
  {
   "cell_type": "code",
   "execution_count": null,
   "id": "6c397c10",
   "metadata": {},
   "outputs": [],
   "source": [
    "Vbreak = [Bruce(p, d) for p in 350:850, d in 0.0001:0.0001:0.01]\n",
    "contourf(0.1:0.1:10, 350:850, 1e-3Vbreak; levels=20)\n",
    "xlabel(\"distance [mm]\")\n",
    "ylabel(\"pressure [torr]\")\n",
    "colorbar(location=\"bottom\").set_label(\"breakdown voltage [kV]\");"
   ]
  },
  {
   "cell_type": "code",
   "execution_count": null,
   "id": "9b014491",
   "metadata": {},
   "outputs": [],
   "source": [
    "tdelay = [THMartin(E, gasdensity(p)) for E in 0.2e6:0.01e6:0.4e6, p in 350:850]\n",
    "contourf(350:850, 0.2:0.01:0.4, 1e12tdelay; levels=20)\n",
    "xlabel(\"pressure [torr]\")\n",
    "ylabel(\"electric field [MV/m]\")\n",
    "colorbar(location=\"bottom\").set_label(\"delay [ps]\");"
   ]
  },
  {
   "cell_type": "code",
   "execution_count": null,
   "id": "3c259227",
   "metadata": {},
   "outputs": [],
   "source": [
    "radius = [Braginskii(gasdensity(p), i, 1e-9) for p in 350:850, i in 0.0:2e-3:1.0]\n",
    "contourf(0.0:2e-3:1.0, 350:850, 1e9radius; levels=20)\n",
    "xlabel(\"current [ampere]\")\n",
    "ylabel(\"pressure [torr]\")\n",
    "title(\"t_arc = 1 ns\")\n",
    "colorbar(location=\"bottom\").set_label(\"radius [nm]\");"
   ]
  },
  {
   "cell_type": "code",
   "execution_count": null,
   "id": "54fb5078",
   "metadata": {},
   "outputs": [],
   "source": [
    "Rch = [resistance(r, d, 5e-9) for r in 1e-9:1e-9:35e-9, d in 0.0001:0.0001:0.01]\n",
    "contourf(0.1:0.1:10, 1:35, Rch; levels=20)\n",
    "xlabel(\"distance [mm]\")\n",
    "ylabel(\"radius [nm]\")\n",
    "title(\"∫i² = 5 [A²⋅ns]\")\n",
    "colorbar(location=\"bottom\").set_label(\"resistance [Ω]\");"
   ]
  },
  {
   "cell_type": "code",
   "execution_count": null,
   "id": "8dac07a1",
   "metadata": {},
   "outputs": [],
   "source": [
    "Rch = [resistance(r, 0.001, i²) for r in 1e-9:1e-9:35e-9, i² in 0.01e-12:1e-12:5e-9]\n",
    "contourf(0.01e-3:1e-3:5, 1:35, log10.(Rch); levels=20)\n",
    "xlabel(\"squared current integral [A²⋅ns]\")\n",
    "ylabel(\"radius [nm]\")\n",
    "colorbar(location=\"bottom\").set_label(\"log10(resistance) [log10(Ω)]\");"
   ]
  },
  {
   "cell_type": "code",
   "execution_count": null,
   "id": "632eca6b",
   "metadata": {},
   "outputs": [],
   "source": [
    "Rch = [resistance(5e-9, 0.001, i²) for i² in 0.01e-12:100e-12:1500e-9]\n",
    "figure(figsize=(10, 2.5))\n",
    "plot(0.01e-3:100e-3:1500, log10.(Rch))\n",
    "xlabel(\"squared current integral [A²⋅ns]\")\n",
    "ylabel(\"log10(resistance) [log10(Ω)]\")\n",
    "grid();"
   ]
  },
  {
   "cell_type": "code",
   "execution_count": null,
   "id": "4132d11e",
   "metadata": {},
   "outputs": [],
   "source": [
    "Lch = [inductance(r, d) for r in 1e-9:1e-9:35e-9, d in 0.0001:0.0001:0.01]\n",
    "contourf(0.1:0.1:10, 1:35, 1e9Lch; levels=20)\n",
    "xlabel(\"distance [mm]\")\n",
    "ylabel(\"radius [nm]\")\n",
    "colorbar(location=\"bottom\").set_label(\"inductance [nH]\");"
   ]
  }
 ],
 "metadata": {
  "kernelspec": {
   "display_name": "Julia 1.6.1",
   "language": "julia",
   "name": "julia-1.6"
  },
  "language_info": {
   "file_extension": ".jl",
   "mimetype": "application/julia",
   "name": "julia",
   "version": "1.6.1"
  }
 },
 "nbformat": 4,
 "nbformat_minor": 5
}

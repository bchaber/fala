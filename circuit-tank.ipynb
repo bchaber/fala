{
 "cells": [
  {
   "attachments": {
    "schematic.png": {
     "image/png": "[encoded data removed]"
    }
   },
   "cell_type": "raw",
   "id": "8219bbdb",
   "metadata": {},
   "source": [
    "![schematic.png](attachment:schematic.png)"
   ]
  },
  {
   "cell_type": "markdown",
   "id": "7e2c9c33",
   "metadata": {},
   "source": [
    "#### A circuit model of lossless resonant tank\n",
    "Let's figure out how ACME defines ODEs of the underlining circuit by comparing them\n",
    "to a known solution based on [1].\n",
    "\n",
    "[1] David Klaffenbach, _A Quick Comparison of LTSpice and Julia DiffEq_, 2020, URL: https://klaff.github.io/LTSvDEQ_1.jl.html"
   ]
  },
  {
   "cell_type": "code",
   "execution_count": null,
   "id": "7a41d88e",
   "metadata": {},
   "outputs": [],
   "source": [
    "using DifferentialEquations\n",
    "\n",
    "I1(t) = t > 200e-6 ? 0.0 :\n",
    "        t > 100e-6 ? 200e-3 - 200e-3t/200e-6 :\n",
    "                              100e-3t/100e-6\n",
    "\n",
    "function odes(u, p, t)\n",
    "    V, IL = u\n",
    "    C1 = 0.1e-6\n",
    "    L1 = 50e-3\n",
    "    \n",
    "    dV = (1.0 / C1) * (I1(t) - IL)\n",
    "    dIL= (V/L1)\n",
    "    return [dV, dIL]\n",
    "end\n",
    "\n",
    "u0 = [0.0, 0.0]\n",
    "ts = (0.0, 1.0)\n",
    "problem = ODEProblem(odes, u0, ts)\n",
    "solution = solve(problem, abstol=1e-6, reltol=1e-6)\n",
    "nothing"
   ]
  },
  {
   "cell_type": "code",
   "execution_count": null,
   "id": "meaning-methodology",
   "metadata": {},
   "outputs": [],
   "source": [
    "using ACME\n",
    "\n",
    "cir = @circuit begin\n",
    "    i  = currentsource(),  [-] == gnd\n",
    "    v  = voltageprobe(),   [-] == gnd, [+] == i[+]\n",
    "    c1 = capacitor(0.1e-6),[2] == gnd, [1] == v[+]\n",
    "    l1 = inductor(50e-3),  [2] == gnd, [1] == v[+]\n",
    "end\n",
    "nothing\n",
    "\n",
    "Δt = 1e-6\n",
    "model = DiscreteModel(cir, Δt)\n",
    "t = range(0.0, 2e-3, step=Δt)\n",
    "u = I1.(t)\n",
    "y = run!(model, [ui for c in 1:1, ui in u])\n",
    "nothing"
   ]
  },
  {
   "cell_type": "code",
   "execution_count": null,
   "id": "false-minutes",
   "metadata": {},
   "outputs": [],
   "source": [
    "using PyPlot\n",
    "plot(1e3t, y[:])\n",
    "plot(1e3solution.t, solution.u)\n",
    "xlabel(\"t (ms)\")\n",
    "ylabel(\"v (V)\")\n",
    "xlim([0.0, 2.0])\n",
    "grid();"
   ]
  },
  {
   "cell_type": "code",
   "execution_count": null,
   "id": "a04351ec",
   "metadata": {},
   "outputs": [],
   "source": [
    "function freqcount(times, values)\n",
    "    i = 1\n",
    "    ncycles = 0\n",
    "    tlast = 0\n",
    "    t0 = 0\n",
    "    while true\n",
    "        if values[i+1] > 0 && values[i] <= 0\n",
    "            t0 = times[i]\n",
    "            break\n",
    "        end\n",
    "        i += 1\n",
    "    end\n",
    "    \n",
    "    while i < lastindex(times) - 1\n",
    "        i += 1\n",
    "        if values[i+1] > 0 && values[i] <= 0\n",
    "            ncycles += 1\n",
    "            tlast = times[i]\n",
    "        end\n",
    "    end\n",
    "    \n",
    "    ncycles/(tlast-t0)\n",
    "end\n",
    "freqcount(t, y[:])"
   ]
  },
  {
   "cell_type": "code",
   "execution_count": null,
   "id": "cdf8bc36",
   "metadata": {},
   "outputs": [],
   "source": [
    "ACME.nx(cir), ACME.nq(cir)"
   ]
  },
  {
   "cell_type": "code",
   "execution_count": null,
   "id": "4635788d",
   "metadata": {},
   "outputs": [],
   "source": [
    "ACME.mv(cir) .|> float"
   ]
  },
  {
   "cell_type": "code",
   "execution_count": null,
   "id": "931fe229",
   "metadata": {},
   "outputs": [],
   "source": [
    "ACME.mi(cir) .|> float"
   ]
  },
  {
   "cell_type": "code",
   "execution_count": null,
   "id": "377aa309",
   "metadata": {},
   "outputs": [],
   "source": [
    "ACME.mx(cir) .|> float"
   ]
  },
  {
   "cell_type": "code",
   "execution_count": null,
   "id": "9e87f018",
   "metadata": {},
   "outputs": [],
   "source": [
    "ACME.mxd(cir) .|> float"
   ]
  },
  {
   "cell_type": "code",
   "execution_count": null,
   "id": "80bfba09",
   "metadata": {},
   "outputs": [],
   "source": [
    "ACME.mu(cir) .|> float"
   ]
  },
  {
   "cell_type": "code",
   "execution_count": null,
   "id": "411864f5",
   "metadata": {},
   "outputs": [],
   "source": [
    "ACME.mq(cir) .|> float"
   ]
  },
  {
   "cell_type": "code",
   "execution_count": null,
   "id": "7defc833",
   "metadata": {},
   "outputs": [],
   "source": [
    "using SparseArrays\n",
    "Tv, Ti = ACME.topomat(cir)\n",
    "blockdiag(Tv, Ti)"
   ]
  },
  {
   "cell_type": "markdown",
   "id": "aboriginal-briefing",
   "metadata": {},
   "source": [
    "#### Custom and naive dual number implementation\n",
    "We are defining a basic set of operations on dual numbers which allow for easy automatic differentiation."
   ]
  },
  {
   "cell_type": "code",
   "execution_count": null,
   "id": "digital-token",
   "metadata": {},
   "outputs": [],
   "source": [
    "struct Dual{T <:Number} <:Number\n",
    "     v::T\n",
    "    dv::T\n",
    "end\n",
    "\n",
    "import Base: +, -, *, /\n",
    "-(x::Dual)          = Dual(-x.v,       -x.dv)\n",
    "+(x::Dual, y::Dual) = Dual( x.v + y.v,  x.dv + y.dv)\n",
    "-(x::Dual, y::Dual) = Dual( x.v - y.v,  x.dv - y.dv)\n",
    "*(x::Dual, y::Dual) = Dual( x.v * y.v,  x.dv * y.v + x.v * y.dv)\n",
    "/(x::Dual, y::Dual) = Dual( x.v / y.v, (x.dv * y.v - x.v * y.dv)/y.v^2)\n",
    "\n",
    "import Base: abs, sin, cos, tan, exp, log, sqrt, isless\n",
    "abs(x::Dual)  = Dual(abs(x.v),sign(x.v)*x.dv)\n",
    "sin(x::Dual)  = Dual(sin(x.v), cos(x.v)*x.dv)\n",
    "cos(x::Dual)  = Dual(cos(x.v),-sin(x.v)*x.dv)\n",
    "tan(x::Dual)  = Dual(tan(x.v), one(x.v)*x.dv + tan(x.v)^2*x.dv)\n",
    "exp(x::Dual)  = Dual(exp(x.v), exp(x.v)*x.dv)\n",
    "log(x::Dual)  = Dual(log(x.v), x.dv/x.v)\n",
    "sqrt(x::Dual) = Dual(sqrt(x.v),.5/sqrt(x.v) * x.dv)\n",
    "isless(x::Dual, y::Dual) = x.v < y.v;\n",
    "\n",
    "import Base: convert, promote_rule\n",
    "convert(::Type{Dual{T}}, x::Dual) where T = Dual(convert(T, x.v), convert(T, x.dv))\n",
    "convert(::Type{Dual{T}}, x::Number) where T = Dual(convert(T, x), zero(T))\n",
    "promote_rule(::Type{Dual{T}}, ::Type{R}) where {T,R} = Dual{promote_type(T,R)}\n",
    "\n",
    "import Base: show\n",
    "show(io::IO, x::Dual) = print(io, \"(\", x.v, \") + [\", x.dv, \"ε]\");\n",
    "value(x::Dual) = x.v;\n",
    "partials(x::Dual) = x.dv;\n",
    "\n",
    "ε = Dual(0., 1.)"
   ]
  }
 ],
 "metadata": {
  "kernelspec": {
   "display_name": "Julia 1.6.3",
   "language": "julia",
   "name": "julia-1.6"
  },
  "language_info": {
   "file_extension": ".jl",
   "mimetype": "application/julia",
   "name": "julia",
   "version": "1.6.3"
  }
 },
 "nbformat": 4,
 "nbformat_minor": 5
}

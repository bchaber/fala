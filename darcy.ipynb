{
 "cells": [
  {
   "cell_type": "code",
   "execution_count": 1,
   "id": "af947a5b",
   "metadata": {},
   "outputs": [],
   "source": [
    "using LinearAlgebra\n",
    "using StaticArrays\n",
    "using SparseArrays"
   ]
  },
  {
   "cell_type": "code",
   "execution_count": 548,
   "id": "4f1548aa",
   "metadata": {},
   "outputs": [
    {
     "data": {
      "text/plain": [
       "get_edges (generic function with 1 method)"
      ]
     },
     "execution_count": 548,
     "metadata": {},
     "output_type": "execute_result"
    }
   ],
   "source": [
    "function deleterepeatedrows(original)\n",
    "    sorted = sort(original, dims=2) # sort in rows\n",
    "    unique = Tuple[] # unique edges\n",
    "    indxes = Int64[] # unique indices for original edges\n",
    "    for i in axes(sorted,1)\n",
    "        test = tuple(sorted[i,:]...)\n",
    "        if test ∉ unique\n",
    "            push!(unique, test)\n",
    "        end\n",
    "    \n",
    "        indx = findfirst(==(test), unique)\n",
    "        if indx ≠ nothing\n",
    "            push!(indxes, indx)\n",
    "        end\n",
    "    end\n",
    "    \n",
    "    return indxes\n",
    "end\n",
    "\n",
    "function get_edges(elems2nodes)\n",
    "    nelems = size(elems2nodes, 1)\n",
    "    \n",
    "    # extracts sets of edges\n",
    "    edges1=elems2nodes[:,[2,3]]\n",
    "    edges2=elems2nodes[:,[3,1]]\n",
    "    edges3=elems2nodes[:,[1,2]]\n",
    "\n",
    "    # as sets of their nodes (vertices)\n",
    "    vertices=zeros(Int64,nelems*3,2)\n",
    "    vertices[1:3:end,:].=edges1\n",
    "    vertices[2:3:end,:].=edges2\n",
    "    vertices[3:3:end,:].=edges3\n",
    "    \n",
    "    # repeated sets of nodes (joint edges) are eliminated \n",
    "    indices = deleterepeatedrows(vertices)\n",
    "    elems2edges = copy(transpose(reshape(indices, 3, :)))\n",
    "    edges2nodes = unique(indices)#vertices[unique(indices),:]\n",
    "    return elems2edges, edges2nodes\n",
    "end"
   ]
  },
  {
   "cell_type": "code",
   "execution_count": 3,
   "id": "810246cf",
   "metadata": {},
   "outputs": [
    {
     "data": {
      "text/plain": [
       "affine_transformations (generic function with 1 method)"
      ]
     },
     "execution_count": 3,
     "metadata": {},
     "output_type": "execute_result"
    }
   ],
   "source": [
    "function affine_transformations(nodes2coord,elems2nodes)\n",
    "    # initialize\n",
    "    nelems = size(elems2nodes,1);\n",
    "    B_K    = zeros(2,2,nelems);\n",
    "\n",
    "    # points defining the triangles\n",
    "    A = nodes2coord[elems2nodes[:,1],1:2];\n",
    "    B = nodes2coord[elems2nodes[:,2],1:2];\n",
    "    C = nodes2coord[elems2nodes[:,3],1:2];\n",
    "    \n",
    "    # vectors defining the triangle\n",
    "    a = B - A;\n",
    "    b = C - A;\n",
    "\n",
    "    # the affine mapping F_K = B_K * x + b_K\n",
    "    B_K[:,1,:].= a';\n",
    "    B_K[:,2,:].= b';\n",
    "    b_K        = A;\n",
    "\n",
    "    # determinant\n",
    "    B_K_det = @. a[:,1] * b[:,2] - a[:,2] * b[:,1];\n",
    "    \n",
    "    return B_K, b_K, B_K_det\n",
    "end"
   ]
  },
  {
   "cell_type": "code",
   "execution_count": 4,
   "id": "eac71e62",
   "metadata": {},
   "outputs": [
    {
     "data": {
      "text/plain": [
       "signs_edges (generic function with 1 method)"
      ]
     },
     "execution_count": 4,
     "metadata": {},
     "output_type": "execute_result"
    }
   ],
   "source": [
    "function signs_edges(elems2nodes)\n",
    "    tmp = elems2nodes[:,[2,3,1]] .- elems2nodes[:,[3,1,2]]\n",
    "    signs = tmp ./ abs.(tmp)\n",
    "    return signs\n",
    "end"
   ]
  },
  {
   "cell_type": "code",
   "execution_count": 5,
   "id": "c126f11e",
   "metadata": {},
   "outputs": [
    {
     "data": {
      "text/plain": [
       "intquad (generic function with 1 method)"
      ]
     },
     "execution_count": 5,
     "metadata": {},
     "output_type": "execute_result"
    }
   ],
   "source": [
    "function intquad()\n",
    "    ip = [1/6 2/3; 2/3 1/6; 1/6 1/6]\n",
    "    wg = [1/6,1/6,1/6]\n",
    "    \n",
    "    return ip, wg, 3\n",
    "end"
   ]
  },
  {
   "cell_type": "code",
   "execution_count": 6,
   "id": "1880fa28",
   "metadata": {},
   "outputs": [
    {
     "data": {
      "text/plain": [
       "basis_N0 (generic function with 1 method)"
      ]
     },
     "execution_count": 6,
     "metadata": {},
     "output_type": "execute_result"
    }
   ],
   "source": [
    "function basis_N0(p)\n",
    "    # initialize val and cval tensor\n",
    "    np  = size(p, 1)\n",
    "    val = zeros(np, 2, 3)\n",
    "    rot = zeros(np, 1, 3)\n",
    "\n",
    "    # calculate basis function values\n",
    "    val[:,:,1] = [-p[:,2]       p[:,1]      ]\n",
    "    val[:,:,2] = [-p[:,2]       p[:,1] .- 1.]\n",
    "    val[:,:,3] = [ 1. .- p[:,2] p[:,1]      ]\n",
    "\n",
    "    # calculate basis function curl values\n",
    "    rot .+= 2.0\n",
    "    \n",
    "    return val, rot, 3\n",
    "end"
   ]
  },
  {
   "cell_type": "code",
   "execution_count": 7,
   "id": "865e2e3c",
   "metadata": {},
   "outputs": [
    {
     "data": {
      "text/plain": [
       "basis_RT0 (generic function with 1 method)"
      ]
     },
     "execution_count": 7,
     "metadata": {},
     "output_type": "execute_result"
    }
   ],
   "source": [
    "function basis_RT0(p)\n",
    "    # initialize val and cval tensor\n",
    "    np  = size(p, 1)\n",
    "    val = zeros(np, 2, 3)\n",
    "    div = zeros(np, 1, 3)\n",
    "\n",
    "    # calculate basis function values\n",
    "    val[:,:,1] = [p[:,1]       p[:,2]      ]\n",
    "    val[:,:,2] = [p[:,1] .- 1. p[:,2]      ]\n",
    "    val[:,:,3] = [p[:,1]       p[:,2] .- 1.]\n",
    "\n",
    "    # calculate basis function divergence values\n",
    "    div .+= 2.0\n",
    "    \n",
    "    return val, div, 3\n",
    "end"
   ]
  },
  {
   "cell_type": "code",
   "execution_count": 8,
   "id": "4b222a9b",
   "metadata": {},
   "outputs": [
    {
     "data": {
      "text/plain": [
       "stiffness_matrix_RT0 (generic function with 1 method)"
      ]
     },
     "execution_count": 8,
     "metadata": {},
     "output_type": "execute_result"
    }
   ],
   "source": [
    "function stiffness_matrix_RT0(elems, B_K_det, signs, dofs)\n",
    "    dim    = size(elems,2) - 1      # the dimension of the problem\n",
    "    nelems = size(elems,1)          # number of elements\n",
    "    nedges = maximum(elems)         # number of edges\n",
    "    ip, w, nip = intquad()          # integration points and weighs (order 2, dimension 2)\n",
    "    B_K_invabsdet = [inv(abs(x)) for x in B_K_det]\n",
    "    \n",
    "    # reference basis function div values on integration points,\n",
    "    # and number of basis functions\n",
    "    _, div, nbasis = basis_RT0(ip)\n",
    "    \n",
    "    # calculate all local stiffness matrices simultaneously\n",
    "    Se = zeros(nbasis,nbasis,nelems)\n",
    "    for i=1:nip\n",
    "        for m=1:nbasis\n",
    "            for k=1:nbasis\n",
    "                for l=1:nelems\n",
    "                    Se[m,k,l] += w[i] * B_K_invabsdet[l] *\n",
    "                                 signs[l,m] * div[i,1,m] *\n",
    "                                 signs[l,k] * div[i,1,k]\n",
    "                end\n",
    "            end\n",
    "        end\n",
    "    end\n",
    "    \n",
    "    # assemble global stiffness matrix\n",
    "    S = spzeros(nedges, nedges)\n",
    "    for l=1:nelems\n",
    "        for m=1:nbasis\n",
    "            e1 = dofs[elems[l,m]]\n",
    "            for k=1:nbasis\n",
    "                e2 = dofs[elems[l,k]]\n",
    "                S[e1,e2] += Se[m,k,l]\n",
    "            end\n",
    "        end\n",
    "    end\n",
    "    return S\n",
    "end"
   ]
  },
  {
   "cell_type": "code",
   "execution_count": 9,
   "id": "c2f58db7",
   "metadata": {},
   "outputs": [
    {
     "data": {
      "text/plain": [
       "mass_matrix_RT0 (generic function with 1 method)"
      ]
     },
     "execution_count": 9,
     "metadata": {},
     "output_type": "execute_result"
    }
   ],
   "source": [
    "function mass_matrix_RT0(elems, B_K, B_K_det, signs, dofs)\n",
    "    dim    = size(elems,2) - 1;   # the dimension of the problem\n",
    "    nelems = size(elems,1);       # number of elements\n",
    "    nedges = maximum(elems)       # number of edges\n",
    "    ip, w, nip = intquad()        # integration points and weighs (order 2, dimension 2)\n",
    "    B_K_invabsdet = [inv(abs(x)) for x in B_K_det]\n",
    "\n",
    "    # reference basis function curl values on integration points,\n",
    "    # and number of basis functions\n",
    "    val, _, nbasis = basis_RT0(ip)\n",
    "\n",
    "    # calculate all local mass matrices simultaneously\n",
    "    Me = zeros(nbasis, nbasis, nelems);\n",
    "\n",
    "    for i=1:nip\n",
    "        for m=1:nbasis\n",
    "            for k=1:nbasis\n",
    "                for l=1:nelems\n",
    "                    Me[m,k,l] += w[i] * B_K_invabsdet[l] *\n",
    "                                 dot(signs[l,m] * B_K[:,:,l] * val[i,:,m],\n",
    "                                     signs[l,k] * B_K[:,:,l] * val[i,:,k])\n",
    "                end\n",
    "            end\n",
    "        end\n",
    "    end\n",
    "\n",
    "    # assemble global mass matrix\n",
    "    M = spzeros(nedges, nedges)\n",
    "    for l=1:nelems\n",
    "        for m=1:nbasis\n",
    "            e1 = dofs[elems[l,m]]\n",
    "            for k=1:nbasis\n",
    "                e2 = dofs[elems[l,k]]\n",
    "                M[e1,e2] += Me[m,k,l]\n",
    "            end\n",
    "        end\n",
    "    end\n",
    "    return M\n",
    "end"
   ]
  },
  {
   "cell_type": "code",
   "execution_count": 10,
   "id": "f35c5608",
   "metadata": {},
   "outputs": [
    {
     "data": {
      "text/plain": [
       "div_matrix_RT0 (generic function with 1 method)"
      ]
     },
     "execution_count": 10,
     "metadata": {},
     "output_type": "execute_result"
    }
   ],
   "source": [
    "function div_matrix_RT0(elems, B_K, B_K_det, signs, dofs)\n",
    "    dim    = size(elems,2) - 1    # the dimension of the problem\n",
    "    nelems = size(elems,1)        # number of elements\n",
    "    nedges = maximum(elems)       # number of edges\n",
    "    ip, w, nip = intquad()        # integration points and weighs (order 2, dimension 2)\n",
    "    B_K_invabsdet = [inv(abs(x)) for x in B_K_det]\n",
    "\n",
    "    # reference basis function curl values on integration points,\n",
    "    # and number of basis functions\n",
    "    _, div, nbasis = basis_RT0(ip)\n",
    "\n",
    "    # calculate all local divergence matrices simultaneously\n",
    "    De = zeros(nbasis,nelems);\n",
    "    for m=1:nbasis\n",
    "        for l=1:nelems\n",
    "            De[m,l] += signs[l,m]\n",
    "        end\n",
    "    end\n",
    "\n",
    "    # assemble global divergence matrix\n",
    "    D = spzeros(nedges,nelems)\n",
    "    for l=1:nelems\n",
    "        for m=1:nbasis\n",
    "            e = dofs[elems[l,m]]\n",
    "            D[e,l] += De[m,l]\n",
    "        end\n",
    "    end\n",
    "    return D\n",
    "end"
   ]
  },
  {
   "cell_type": "code",
   "execution_count": 400,
   "id": "ce3b3127",
   "metadata": {},
   "outputs": [
    {
     "data": {
      "text/plain": [
       "rhs_assembly (generic function with 1 method)"
      ]
     },
     "execution_count": 400,
     "metadata": {},
     "output_type": "execute_result"
    }
   ],
   "source": [
    "function rhs_assembly(nodes, elems, B_K_det)\n",
    "    f(x, y) =  1.0 #sin(2π * x) * sin(2π * y) * 8.0 * π^2\n",
    "    \n",
    "    # points defining the triangles\n",
    "    P =(nodes[elems[:,1],1:2] .+\n",
    "        nodes[elems[:,2],1:2] .+\n",
    "        nodes[elems[:,3],1:2])./ 3.0;\n",
    "\n",
    "    b = -0.5 * abs.(B_K_det) .* f.(P[:,1], P[:,2])\n",
    "    return b\n",
    "end"
   ]
  },
  {
   "cell_type": "code",
   "execution_count": 545,
   "id": "a140ad60",
   "metadata": {},
   "outputs": [],
   "source": [
    "# define mesh\n",
    "nodes2coord = [0.0 0.0; 1.0 0.0; 0.0 1.0; 1.0 1.0];\n",
    "elems2nodes = [1 2 4; 1 3 4];"
   ]
  },
  {
   "cell_type": "code",
   "execution_count": 484,
   "id": "22a7d0d1",
   "metadata": {},
   "outputs": [],
   "source": [
    "using MAT\n",
    "f = matopen(\"/Users/bach/fala/dpy.mat\")\n",
    "nodes2coord = read(f, \"n2c\")\n",
    "elems2nodes = read(f, \"e2n\") .+ 1\n",
    "solution = read(f, \"x\")\n",
    "close(f)"
   ]
  },
  {
   "cell_type": "code",
   "execution_count": 547,
   "id": "5b7a9ecb",
   "metadata": {},
   "outputs": [
    {
     "data": {
      "text/plain": [
       "5×2 Matrix{Int64}:\n",
       " 2  4\n",
       " 4  1\n",
       " 1  2\n",
       " 3  4\n",
       " 4  1"
      ]
     },
     "execution_count": 547,
     "metadata": {},
     "output_type": "execute_result"
    }
   ],
   "source": [
    "# get elements edgewise\n",
    "tmp = elems2nodes[:,2]\n",
    "elems2nodes[:,2] .= elems2nodes[:,1]\n",
    "elems2nodes[:,1] .= tmp\n",
    "elems2edges, edges2nodes = get_edges(elems2nodes)\n",
    "edges2nodes"
   ]
  },
  {
   "cell_type": "code",
   "execution_count": 526,
   "id": "29470afa",
   "metadata": {},
   "outputs": [],
   "source": [
    "# calculate affine transformations for elements\n",
    "B_K, _, B_K_det = affine_transformations(nodes2coord,elems2nodes);"
   ]
  },
  {
   "cell_type": "code",
   "execution_count": 527,
   "id": "da2f94ca",
   "metadata": {},
   "outputs": [
    {
     "data": {
      "text/plain": [
       "2×3 Matrix{Float64}:\n",
       "  1.0  -1.0  -1.0\n",
       " -1.0   1.0   1.0"
      ]
     },
     "execution_count": 527,
     "metadata": {},
     "output_type": "execute_result"
    }
   ],
   "source": [
    "# signs in 2d for the Nedelec basis functions defined on edges\n",
    "signs = diagm(sign.(B_K_det)) * signs_edges(elems2nodes)"
   ]
  },
  {
   "cell_type": "code",
   "execution_count": 528,
   "id": "472a03f0",
   "metadata": {},
   "outputs": [
    {
     "data": {
      "text/plain": [
       "5-element Vector{Int64}:\n",
       " 1\n",
       " 2\n",
       " 3\n",
       " 4\n",
       " 5"
      ]
     },
     "execution_count": 528,
     "metadata": {},
     "output_type": "execute_result"
    }
   ],
   "source": [
    "# define mapping between degrees-of-freedom and edge identifiers\n",
    "dofs = collect(1:maximum(elems2edges))"
   ]
  },
  {
   "cell_type": "code",
   "execution_count": 529,
   "id": "c442954f",
   "metadata": {},
   "outputs": [
    {
     "data": {
      "text/plain": [
       "5×5 SparseMatrixCSC{Float64, Int64} with 17 stored entries:\n",
       "  4.0  -2.0  -2.0  -2.0  -2.0\n",
       " -2.0   2.0   2.0    ⋅     ⋅ \n",
       " -2.0   2.0   2.0    ⋅     ⋅ \n",
       " -2.0    ⋅     ⋅    2.0   2.0\n",
       " -2.0    ⋅     ⋅    2.0   2.0"
      ]
     },
     "execution_count": 529,
     "metadata": {},
     "output_type": "execute_result"
    }
   ],
   "source": [
    "# stiffness matrix assembly\n",
    "S = stiffness_matrix_RT0(elems2edges, B_K_det, signs, dofs)"
   ]
  },
  {
   "cell_type": "code",
   "execution_count": 530,
   "id": "fe835adc",
   "metadata": {},
   "outputs": [
    {
     "data": {
      "text/plain": [
       "5×5 SparseMatrixCSC{Float64, Int64} with 9 stored entries:\n",
       " 0.333333    ⋅          ⋅          ⋅          ⋅ \n",
       "  ⋅         0.333333  -0.166667    ⋅          ⋅ \n",
       "  ⋅        -0.166667   0.333333    ⋅          ⋅ \n",
       "  ⋅          ⋅          ⋅         0.333333  -0.166667\n",
       "  ⋅          ⋅          ⋅        -0.166667   0.333333"
      ]
     },
     "execution_count": 530,
     "metadata": {},
     "output_type": "execute_result"
    }
   ],
   "source": [
    "# mass matrix assembly\n",
    "M = mass_matrix_RT0(elems2edges,B_K,B_K_det,signs, dofs)\n",
    "droptol!(M, 1e-15)"
   ]
  },
  {
   "cell_type": "code",
   "execution_count": 531,
   "id": "6be05122",
   "metadata": {},
   "outputs": [
    {
     "data": {
      "text/plain": [
       "5×2 SparseMatrixCSC{Float64, Int64} with 6 stored entries:\n",
       "  1.0  -1.0\n",
       " -1.0    ⋅ \n",
       " -1.0    ⋅ \n",
       "   ⋅    1.0\n",
       "   ⋅    1.0"
      ]
     },
     "execution_count": 531,
     "metadata": {},
     "output_type": "execute_result"
    }
   ],
   "source": [
    "# mass matrix assembly\n",
    "D = div_matrix_RT0(elems2edges,B_K,B_K_det,signs, dofs)"
   ]
  },
  {
   "cell_type": "code",
   "execution_count": 532,
   "id": "84aeee2b",
   "metadata": {},
   "outputs": [
    {
     "data": {
      "text/plain": [
       "2-element Vector{Float64}:\n",
       " -0.5\n",
       " -0.5"
      ]
     },
     "execution_count": 532,
     "metadata": {},
     "output_type": "execute_result"
    }
   ],
   "source": [
    "# right-hand side assembly\n",
    "g = rhs_assembly(nodes2coord, elems2nodes, B_K_det)"
   ]
  },
  {
   "cell_type": "code",
   "execution_count": 533,
   "id": "f1d11c03",
   "metadata": {},
   "outputs": [],
   "source": [
    "# prepare rest of vectors/matrices\n",
    "nedges = size(M, 1)\n",
    "nelems = size(elems2edges, 1)\n",
    "\n",
    "# auxiliary vectors/matrices\n",
    "f = zeros(nedges, 1)\n",
    "Z = spzeros(nelems, nelems)\n",
    "b = [f; g];"
   ]
  },
  {
   "cell_type": "code",
   "execution_count": 534,
   "id": "d9263abb",
   "metadata": {},
   "outputs": [
    {
     "data": {
      "text/plain": [
       "7×7 SparseMatrixCSC{Float64, Int64} with 21 stored entries:\n",
       "  0.333333    ⋅          ⋅          ⋅          ⋅         1.0  -1.0\n",
       "   ⋅         0.333333  -0.166667    ⋅          ⋅        -1.0    ⋅ \n",
       "   ⋅        -0.166667   0.333333    ⋅          ⋅        -1.0    ⋅ \n",
       "   ⋅          ⋅          ⋅         0.333333  -0.166667    ⋅    1.0\n",
       "   ⋅          ⋅          ⋅        -0.166667   0.333333    ⋅    1.0\n",
       "  1.0       -1.0       -1.0         ⋅          ⋅          ⋅     ⋅ \n",
       " -1.0         ⋅          ⋅         1.0        1.0         ⋅     ⋅ "
      ]
     },
     "execution_count": 534,
     "metadata": {},
     "output_type": "execute_result"
    }
   ],
   "source": [
    "# assemble an infinite saddle-point matrix\n",
    "A = [M D; D' Z]"
   ]
  },
  {
   "cell_type": "code",
   "execution_count": 535,
   "id": "de81ef70",
   "metadata": {},
   "outputs": [
    {
     "data": {
      "text/plain": [
       "7×1 Matrix{Float64}:\n",
       "  0.0\n",
       "  0.25\n",
       "  0.25\n",
       " -0.24999999999999994\n",
       " -0.25\n",
       "  0.04166666666666667\n",
       "  0.041666666666666664"
      ]
     },
     "execution_count": 535,
     "metadata": {},
     "output_type": "execute_result"
    }
   ],
   "source": [
    "u = A\\b"
   ]
  },
  {
   "cell_type": "code",
   "execution_count": 536,
   "id": "26cee1ef",
   "metadata": {},
   "outputs": [
    {
     "data": {
      "text/plain": [
       "24-element Vector{Float64}:\n",
       " -0.125\n",
       " -0.125\n",
       "  0.0\n",
       " -0.12499999999999999\n",
       " -1.3877787807814457e-17\n",
       "  0.12499999999999997\n",
       " -0.12499999999999999\n",
       " -2.0816681711721685e-17\n",
       " -0.12499999999999997\n",
       " -0.12499999999999999\n",
       "  1.3877787807814457e-17\n",
       "  1.3877787807814457e-17\n",
       "  0.0\n",
       " -0.125\n",
       " -0.12499999999999997\n",
       " -0.12500000000000003\n",
       "  0.04166666666666667\n",
       "  0.020833333333333343\n",
       "  0.06250000000000001\n",
       "  0.04166666666666666\n",
       "  0.04166666666666667\n",
       "  0.0625\n",
       "  0.020833333333333325\n",
       "  0.04166666666666666"
      ]
     },
     "execution_count": 536,
     "metadata": {},
     "output_type": "execute_result"
    }
   ],
   "source": [
    "vec(solution)"
   ]
  },
  {
   "cell_type": "code",
   "execution_count": 537,
   "id": "ede1425e",
   "metadata": {},
   "outputs": [
    {
     "data": {
      "image/png": "[encoded data removed]",
      "text/plain": [
       "Figure(PyObject <Figure size 640x480 with 1 Axes>)"
      ]
     },
     "metadata": {},
     "output_type": "display_data"
    },
    {
     "data": {
      "text/plain": [
       "1-element Vector{PyCall.PyObject}:\n",
       " PyObject <matplotlib.lines.Line2D object at 0x2a171ff70>"
      ]
     },
     "execution_count": 537,
     "metadata": {},
     "output_type": "execute_result"
    }
   ],
   "source": [
    "using PyPlot\n",
    "plot(sort(abs.(vec(solution))))\n",
    "plot(sort(abs.(vec(u))), \".\")"
   ]
  },
  {
   "cell_type": "code",
   "execution_count": 538,
   "id": "27d26900",
   "metadata": {},
   "outputs": [
    {
     "data": {
      "text/plain": [
       "SandT (generic function with 1 method)"
      ]
     },
     "execution_count": 538,
     "metadata": {},
     "output_type": "execute_result"
    }
   ],
   "source": [
    "function stiffness_matrix_N0(elems, B_K_det, signs, dofs)\n",
    "    dim    = size(elems,2) - 1      # the dimension of the problem\n",
    "    nelems = size(elems,1)          # number of elements\n",
    "    nedges = maximum(elems)         # number of edges\n",
    "    ip, w, nip = intquad()          # integration points and weighs (order 2, dimension 2)\n",
    "    B_K_invabsdet = [inv(abs(x)) for x in B_K_det]\n",
    "    \n",
    "    # reference basis function div values on integration points,\n",
    "    # and number of basis functions\n",
    "    _, rot, nbasis = basis_N0(ip)\n",
    "    \n",
    "    # calculate all local stiffness matrices simultaneously\n",
    "    Se = zeros(nbasis,nbasis,nelems)\n",
    "    for i=1:nip\n",
    "        for m=1:nbasis\n",
    "            for k=1:nbasis\n",
    "                for l=1:nelems\n",
    "                    Se[m,k,l] += w[i] * B_K_invabsdet[l] *\n",
    "                                 signs[l,m] * rot[i,1,m] *\n",
    "                                 signs[l,k] * rot[i,1,k]\n",
    "                end\n",
    "            end\n",
    "        end\n",
    "    end\n",
    "    return Se\n",
    "end\n",
    "function mass_matrix_N0(elems, B_K, B_K_det, signs, dofs)\n",
    "    dim    = size(elems,2) - 1;   # the dimension of the problem\n",
    "    nelems = size(elems,1);       # number of elements\n",
    "    nedges = maximum(elems)       # number of edges\n",
    "    ip, w, nip = intquad()        # integration points and weighs (order 2, dimension 2)\n",
    "    B_K_invabsdet = [inv(abs(x)) for x in B_K_det]\n",
    "\n",
    "    # reference basis function curl values on integration points,\n",
    "    # and number of basis functions\n",
    "    val, _, nbasis = basis_N0(ip)\n",
    "\n",
    "    # calculate all local mass matrices simultaneously\n",
    "    Me = zeros(nbasis, nbasis, nelems);\n",
    "\n",
    "    for i=1:nip\n",
    "        for m=1:nbasis\n",
    "            for k=1:nbasis\n",
    "                for l=1:nelems\n",
    "                    Me[m,k,l] += w[i] * B_K_invabsdet[l] *\n",
    "                                 dot(signs[l,m] * B_K[:,:,l] * val[i,:,m],\n",
    "                                     signs[l,k] * B_K[:,:,l] * val[i,:,k])\n",
    "                end\n",
    "            end\n",
    "        end\n",
    "    end\n",
    "    return Me\n",
    "end\n",
    "function SandT(x1, y1, x2, y2, x3, y3)\n",
    "    localedges = [2 3; 1 2; 3 1]#[1 2; 1 3; 2 3]\n",
    "    area = .5abs(det([1. x1 y1\n",
    "                      1. x2 y2\n",
    "                      1. x3 y3]))\n",
    "    temp = inv([x1 x2 x3\n",
    "                y1 y2 y3\n",
    "                1. 1. 1.])\n",
    "    b = temp[:,1]\n",
    "    c = temp[:,2]\n",
    "    a = temp[:,3]\n",
    "    ∇λ = [[b[1], c[1]],\n",
    "          [b[2], c[2]],\n",
    "          [b[3], c[3]]]\n",
    "    φ = zeros(3, 3) # φij = ∇λi ⋅ ∇λj = (bi⋅ci + bj⋅cj)\n",
    "    v = zeros(3, 3) # vij = ∇λi × ∇λj = (bi⋅cj - bj⋅ci)ẑ\n",
    "    for ii = 1:3\n",
    "       for jj = 1:3\n",
    "           φ[ii, jj] = b[ii] * b[jj] + c[ii] * c[jj]\n",
    "           v[ii, jj] = b[ii] * c[jj] - b[jj] * c[ii]\n",
    "       end \n",
    "    end\n",
    "\n",
    "    M = [2. 1. 1.\n",
    "         1. 2. 1.\n",
    "         1. 1. 2.] / 12.0\n",
    "\n",
    "    # Compute S and T\n",
    "    S = zeros(3, 3)\n",
    "    T = zeros(3, 3)\n",
    "    for ii = 1:3\n",
    "       for jj = 1:3\n",
    "         i1 = localedges[ii,1]\n",
    "         i2 = localedges[ii,2]\n",
    "         j1 = localedges[jj,1]\n",
    "         j2 = localedges[jj,2]\n",
    "         S[ii,jj] = 4area*v[i1, i2] * v[j1, j2]\n",
    "         T[ii,jj] = area*(φ[i2, j2] * M[i1, j1] +\n",
    "                        - φ[i2, j1] * M[i1, j2] +\n",
    "                        - φ[i1, j2] * M[i2, j1] +\n",
    "                        + φ[i1, j1] * M[i2, j2])\n",
    "       end \n",
    "    end\n",
    "    \n",
    "    return S, T\n",
    "end"
   ]
  },
  {
   "cell_type": "code",
   "execution_count": 539,
   "id": "57706c5e",
   "metadata": {},
   "outputs": [
    {
     "data": {
      "text/plain": [
       "3×3 SparseMatrixCSC{Float64, Int64} with 9 stored entries:\n",
       "  2.0  -2.0  -2.0\n",
       " -2.0   2.0   2.0\n",
       " -2.0   2.0   2.0"
      ]
     },
     "execution_count": 539,
     "metadata": {},
     "output_type": "execute_result"
    }
   ],
   "source": [
    "let\n",
    "    #signs = [+1.0 +1.0 +1.0; +1.0 -1.0 +1.0]\n",
    "    Se = sparse(stiffness_matrix_N0(elems2edges, B_K_det, signs, nothing)[:,:,1])\n",
    "    droptol!(Se, 1e-15)\n",
    "end"
   ]
  },
  {
   "cell_type": "code",
   "execution_count": 540,
   "id": "e181288d",
   "metadata": {},
   "outputs": [
    {
     "data": {
      "text/plain": [
       "3×3 Matrix{Float64}:\n",
       " 2.0  2.0  2.0\n",
       " 2.0  2.0  2.0\n",
       " 2.0  2.0  2.0"
      ]
     },
     "execution_count": 540,
     "metadata": {},
     "output_type": "execute_result"
    }
   ],
   "source": [
    "let\n",
    "  trinodes = elems2nodes[2, :]\n",
    "  Se, Te = SandT(nodes2coord[trinodes[1],1], nodes2coord[trinodes[1],2],\n",
    "                 nodes2coord[trinodes[2],1], nodes2coord[trinodes[2],2],\n",
    "                 nodes2coord[trinodes[3],1], nodes2coord[trinodes[3],2])\n",
    "  Se\n",
    "end"
   ]
  },
  {
   "cell_type": "code",
   "execution_count": 541,
   "id": "ad498a1f",
   "metadata": {},
   "outputs": [
    {
     "data": {
      "text/plain": [
       "show_vector_fieldRT0 (generic function with 1 method)"
      ]
     },
     "execution_count": 541,
     "metadata": {},
     "output_type": "execute_result"
    }
   ],
   "source": [
    "function show_mesh(nodes, elems)\n",
    "    triplot(nodes[:,1], nodes[:,2], triangles=(elems .- 1), \"-k\")\n",
    "    return nothing\n",
    "end\n",
    "\n",
    "function show_scalar_fieldP0(nodes, elems, u)\n",
    "    n = size(nodes,1)\n",
    "    m = size(elems,1)\n",
    "    nodes = nodes[elems[:],:]\n",
    "    elems = reshape(1:3m,m,3)\n",
    "    field = repeat(u, 3)\n",
    "    fig = figure()\n",
    "    ax = fig.add_subplot(projection=\"3d\")\n",
    "    ax.plot_trisurf(nodes[:,1], nodes[:,2], field, triangles=(elems .- 1),\n",
    "        cmap=\"inferno\", edgecolor=\"k\", antialiased=true)\n",
    "    ax.view_init(65, 35)\n",
    "    return nothing\n",
    "end\n",
    "\n",
    "function show_vector_fieldRT0(nodes, edges, u)\n",
    "    n = size(nodes,1)\n",
    "    m = size(edges,1)\n",
    "    midpoints = (nodes[edges[:,1],:] .+ nodes[edges[:,2],:]) ./ 2.0\n",
    "    vectors   = (nodes[edges[:,1],:] .- nodes[edges[:,2],:])\n",
    "    normals   = [vectors[:,2] -vectors[:,1]]\n",
    "    scatter(midpoints[:,1], midpoints[:,2])\n",
    "    #quiver(midpoints[:,1], midpoints[:,2], normals[:,1] .* u, normals[:,2] .* u,\n",
    "    #    pivot=\"middle\")\n",
    "end"
   ]
  },
  {
   "cell_type": "code",
   "execution_count": 542,
   "id": "b9adc639",
   "metadata": {},
   "outputs": [
    {
     "data": {
      "text/plain": [
       "5×2 Matrix{Int64}:\n",
       " 1  4\n",
       " 4  2\n",
       " 2  1\n",
       " 1  4\n",
       " 4  3"
      ]
     },
     "execution_count": 542,
     "metadata": {},
     "output_type": "execute_result"
    }
   ],
   "source": [
    "edges2nodes"
   ]
  },
  {
   "cell_type": "code",
   "execution_count": 543,
   "id": "8f3f4982",
   "metadata": {},
   "outputs": [
    {
     "data": {
      "image/png": "[encoded data removed]",
      "text/plain": [
       "Figure(PyObject <Figure size 640x480 with 1 Axes>)"
      ]
     },
     "metadata": {},
     "output_type": "display_data"
    },
    {
     "data": {
      "text/plain": [
       "PyObject <matplotlib.collections.PathCollection object at 0x29fb82b50>"
      ]
     },
     "execution_count": 543,
     "metadata": {},
     "output_type": "execute_result"
    }
   ],
   "source": [
    "show_mesh(nodes2coord, elems2nodes)\n",
    "show_vector_fieldRT0(nodes2coord, edges2nodes, view(u, 1:nedges))"
   ]
  },
  {
   "cell_type": "code",
   "execution_count": 505,
   "id": "646498dd",
   "metadata": {},
   "outputs": [
    {
     "data": {
      "image/png": "[encoded data removed]",
      "text/plain": [
       "Figure(PyObject <Figure size 640x480 with 1 Axes>)"
      ]
     },
     "metadata": {},
     "output_type": "display_data"
    }
   ],
   "source": [
    "show_scalar_fieldP0(nodes2coord, elems2nodes, view(u, nedges+1:nedges+nelems))"
   ]
  },
  {
   "cell_type": "code",
   "execution_count": 506,
   "id": "a0f1bf51",
   "metadata": {},
   "outputs": [
    {
     "data": {
      "image/png": "[encoded data removed]",
      "text/plain": [
       "Figure(PyObject <Figure size 640x480 with 1 Axes>)"
      ]
     },
     "metadata": {},
     "output_type": "display_data"
    }
   ],
   "source": [
    "show_mesh(nodes2coord, elems2nodes)"
   ]
  },
  {
   "cell_type": "code",
   "execution_count": null,
   "id": "8ab0a559",
   "metadata": {},
   "outputs": [],
   "source": []
  },
  {
   "cell_type": "code",
   "execution_count": null,
   "id": "67737314",
   "metadata": {},
   "outputs": [],
   "source": []
  }
 ],
 "metadata": {
  "kernelspec": {
   "display_name": "Julia 1.7.0",
   "language": "julia",
   "name": "julia-1.7"
  },
  "language_info": {
   "file_extension": ".jl",
   "mimetype": "application/julia",
   "name": "julia",
   "version": "1.7.0"
  }
 },
 "nbformat": 4,
 "nbformat_minor": 5
}

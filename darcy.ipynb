{
 "cells": [
  {
   "cell_type": "code",
   "execution_count": 1,
   "id": "destroyed-carroll",
   "metadata": {},
   "outputs": [],
   "source": [
    "using LinearAlgebra\n",
    "include(\"plotting.jl\")\n",
    "include(\"meshing.jl\")\n",
    "nothing"
   ]
  },
  {
   "cell_type": "code",
   "execution_count": 2,
   "id": "economic-touch",
   "metadata": {},
   "outputs": [
    {
     "data": {
      "text/plain": [
       "TandD (generic function with 1 method)"
      ]
     },
     "execution_count": 2,
     "metadata": {},
     "output_type": "execute_result"
    }
   ],
   "source": [
    "const qx = [1/6, 2/3, 1/6]\n",
    "const qy = [2/3, 1/6, 1/6]\n",
    "const wg = [1/6, 1/6, 1/6]\n",
    "\n",
    "function basis() # for integration points\n",
    "    x1, x2, x3 = qx[1], qx[2], qx[3]\n",
    "    y1, y2, y3 = qy[1], qy[2], qy[3]\n",
    "    ϕ = zeros(3, 2, 3)\n",
    "    ϕ[:,:,1] .= [ x1    y1;          x2   y2;          x3   y3]\n",
    "    ϕ[:,:,2] .= [ x1   (y1 - 1.0);   x2  (y2 - 1.0);   x3  (y3 - 1.0)]\n",
    "    ϕ[:,:,3] .= [(x1 - 1.0)    y1;  (x2 - 1.0)   y2;  (x3 - 1.0)   y3]\n",
    "    return ϕ\n",
    "end\n",
    "\n",
    "function TandD(x1, y1, x2, y2, x3, y3)\n",
    "    J = [(x2 - x1) (x3 - x1); (y2 - y1) (y3 - y1)]\n",
    "    ϕ = basis()\n",
    "    T = spzeros(3, 3)\n",
    "    D = ones(1, 3)\n",
    "    \n",
    "    for i=1:3\n",
    "        for j=1:3\n",
    "            for k=1:3\n",
    "                T[i, j] += wg[k] / abs(det(J)) * dot(J * ϕ[k,:,i], J * ϕ[k,:,j])\n",
    "            end\n",
    "        end\n",
    "        D[i] = sign(det(J))\n",
    "    end\n",
    "\n",
    "    return T, D\n",
    "end"
   ]
  },
  {
   "cell_type": "code",
   "execution_count": 3,
   "id": "north-coast",
   "metadata": {},
   "outputs": [],
   "source": [
    "ε0 = 1.0 #8.854e-12\n",
    "μ0 = 1.0 #4e-7π\n",
    "εr = 1.\n",
    "μr = 1.\n",
    "σ  = 0.\n",
    "ε  = ε0 * εr\n",
    "μ  = μ0 * μr\n",
    "η  = sqrt(μ / ε)\n",
    "\n",
    "n̂  = x̂ = [1.0, 0.0]\n",
    "# Meshing\n",
    "a = 1.0 # m\n",
    "b = 1.0 # m\n",
    "nothing"
   ]
  },
  {
   "cell_type": "code",
   "execution_count": 4,
   "id": "southeast-combine",
   "metadata": {},
   "outputs": [
    {
     "data": {
      "image/png": "[encoded data removed]",
      "text/plain": [
       "Figure(PyObject <Figure size 500x100 with 1 Axes>)"
      ]
     },
     "metadata": {},
     "output_type": "display_data"
    }
   ],
   "source": [
    "using PyPlot\n",
    "\n",
    "# +-+\n",
    "# +/+\n",
    "# +-+\n",
    "\n",
    "LOCALEDGENODES = [2 3; 1 2; 3 1]\n",
    "NUM_ELEMS = 2\n",
    "ELEMENTS = [1 2 4; 1 3 4]\n",
    "NUM_NODES = 4\n",
    "NODE_COORD = [0.0 0.0; 1.0 0.0; 0.0 1.0; 1.0 1.0]\n",
    "#trimesh(a, b, 55, 55)\n",
    "triedgemake()\n",
    "\n",
    "figure(figsize=(5,1))\n",
    "triplot(NODE_COORD[:,1], NODE_COORD[:,2], triangles=(ELEMENTS .- 1)); # subtract 1 as we go into Python-world\n",
    "axis(\"equal\");"
   ]
  },
  {
   "cell_type": "code",
   "execution_count": 5,
   "id": "worthy-parallel",
   "metadata": {},
   "outputs": [
    {
     "data": {
      "text/plain": [
       "dof_type (generic function with 1 method)"
      ]
     },
     "execution_count": 5,
     "metadata": {},
     "output_type": "execute_result"
    }
   ],
   "source": [
    "DOF_NONE = 0\n",
    "DOF_PEC  = 1\n",
    "function dof_type(a, b)\n",
    "    global NUM_EDGES\n",
    "    global EDGES\n",
    "    global NODE_COORD\n",
    "    dof_flag = zeros(Int64, NUM_EDGES)\n",
    "    \n",
    "    for i_edge = 1:NUM_EDGES\n",
    "       node1 = EDGES[i_edge, 1]\n",
    "       node2 = EDGES[i_edge, 2]\n",
    "       if NODE_COORD[node1, 2] ≈ 0. && NODE_COORD[node2, 2] ≈ 0.\n",
    "           dof_flag[i_edge] = DOF_PEC\n",
    "       end\n",
    "       if NODE_COORD[node1, 2] ≈ b  && NODE_COORD[node2, 2] ≈ b\n",
    "           dof_flag[i_edge] = DOF_PEC\n",
    "       end\n",
    "       if NODE_COORD[node1, 1] ≈ 0. && NODE_COORD[node2, 1] ≈ 0.\n",
    "           dof_flag[i_edge] = DOF_PEC\n",
    "       end\n",
    "       if NODE_COORD[node1, 1] ≈ a  && NODE_COORD[node2, 1] ≈ a\n",
    "           dof_flag[i_edge] = DOF_PEC\n",
    "       end\n",
    "    end\n",
    "    return dof_flag\n",
    "end"
   ]
  },
  {
   "cell_type": "code",
   "execution_count": 6,
   "id": "republican-cyprus",
   "metadata": {},
   "outputs": [],
   "source": [
    "dof = collect(1:NUM_EDGES+NUM_ELEMS)\n",
    "Γ = dof_type(a, b);\n",
    "NUM_DOFS = NUM_EDGES;"
   ]
  },
  {
   "cell_type": "code",
   "execution_count": 7,
   "id": "4a57d385",
   "metadata": {},
   "outputs": [],
   "source": [
    "using SparseArrays\n",
    "\n",
    "T = spzeros(NUM_DOFS, NUM_DOFS) # 1/ε ∫( ∇Ni ⋅ ∇Nj )dΩ\n",
    "D = spzeros(NUM_DOFS, NUM_ELEMS) #    ∫((∇⋅Ni) ⋅ Nk )dΩ\n",
    "\n",
    "for ielem = 1:NUM_ELEMS # Assemble by elements\n",
    "  trinodes = ELEMENTS[ielem, :]\n",
    "  Te, De = TandD(NODE_COORD[trinodes[1],1], NODE_COORD[trinodes[1],2],\n",
    "                 NODE_COORD[trinodes[2],1], NODE_COORD[trinodes[2],2],\n",
    "                 NODE_COORD[trinodes[3],1], NODE_COORD[trinodes[3],2])\n",
    "  droptol!(Te, 1e-15)\n",
    "  \n",
    "  for jedge = 1:3\n",
    "    j1 = ELEMENTS[ielem, LOCALEDGENODES[jedge,1]] \n",
    "    j2 = ELEMENTS[ielem, LOCALEDGENODES[jedge,2]]\n",
    "    je = NODE_EDGES[j1, j2]\n",
    "    jd = sign(je)\n",
    "    jj = dof[abs(je)]\n",
    "    for kedge = 1:3\n",
    "      k1 = ELEMENTS[ielem, LOCALEDGENODES[kedge,1]]\n",
    "      k2 = ELEMENTS[ielem, LOCALEDGENODES[kedge,2]]\n",
    "      ke = NODE_EDGES[k1, k2]\n",
    "      kd = sign(ke)\n",
    "      kk = dof[abs(ke)]\n",
    "      T[jj, kk] = T[jj, kk] + jd * kd * Te[jedge, kedge]\n",
    "    end\n",
    "    D[jj, ielem] = D[jj, ielem] + jd * De[jedge]\n",
    "  end\n",
    "end"
   ]
  },
  {
   "cell_type": "code",
   "execution_count": 8,
   "id": "12657312",
   "metadata": {},
   "outputs": [
    {
     "data": {
      "image/png": "[encoded data removed]",
      "text/plain": [
       "Figure(PyObject <Figure size 200x200 with 3 Axes>)"
      ]
     },
     "metadata": {},
     "output_type": "display_data"
    }
   ],
   "source": [
    "figure(figsize=(2, 2))\n",
    "subplot(2, 2, 1); spy(T);  title(\"T\"); xticks([]); yticks([]);\n",
    "subplot(2, 2, 2); spy(D);  title(\"D\"); xticks([]); yticks([]);\n",
    "subplot(2, 2, 3); spy(D'); title(\"Dᵀ\"); xticks([]); yticks([]);\n",
    "tight_layout()"
   ]
  },
  {
   "cell_type": "code",
   "execution_count": 9,
   "id": "tracked-vampire",
   "metadata": {},
   "outputs": [
    {
     "data": {
      "text/plain": [
       "7×7 SparseMatrixCSC{Float64, Int64} with 21 stored entries:\n",
       "  0.333333    ⋅        -0.166667    ⋅          ⋅         1.0    ⋅ \n",
       "   ⋅         0.333333    ⋅          ⋅          ⋅        -1.0   1.0\n",
       " -0.166667    ⋅         0.333333    ⋅          ⋅         1.0    ⋅ \n",
       "   ⋅          ⋅          ⋅         0.333333  -0.166667    ⋅   -1.0\n",
       "   ⋅          ⋅          ⋅        -0.166667   0.333333    ⋅   -1.0\n",
       "  1.0       -1.0        1.0         ⋅          ⋅          ⋅     ⋅ \n",
       "   ⋅         1.0         ⋅        -1.0       -1.0         ⋅     ⋅ "
      ]
     },
     "execution_count": 9,
     "metadata": {},
     "output_type": "execute_result"
    }
   ],
   "source": [
    "Z = spzeros(NUM_ELEMS, NUM_ELEMS)\n",
    "droptol!(T, 1e-15)\n",
    "A = [T  D\n",
    "     D' Z]"
   ]
  },
  {
   "cell_type": "code",
   "execution_count": 10,
   "id": "0b8453cf",
   "metadata": {},
   "outputs": [
    {
     "data": {
      "text/plain": [
       "7×7 SparseMatrixCSC{Float64, Int64} with 21 stored entries:\n",
       "  0.3333    ⋅        ⋅      -0.1667    ⋅      1.0    ⋅ \n",
       "   ⋅       0.3333    ⋅        ⋅      -0.1667   ⋅    1.0\n",
       "   ⋅        ⋅       0.3333    ⋅        ⋅      1.0  -1.0\n",
       " -0.1667    ⋅        ⋅       0.3333    ⋅      1.0    ⋅ \n",
       "   ⋅      -0.1667    ⋅        ⋅       0.3333   ⋅    1.0\n",
       "  1.0       ⋅       1.0      1.0       ⋅       ⋅     ⋅ \n",
       "   ⋅       1.0     -1.0       ⋅       1.0      ⋅     ⋅ "
      ]
     },
     "execution_count": 10,
     "metadata": {},
     "output_type": "execute_result"
    }
   ],
   "source": [
    "# from darcy.py\n",
    "sparse([\n",
    "    0.3333         0    0.0000   -0.1667         0    1.0000         0\n",
    "         0    0.3333   -0.0000         0   -0.1667         0    1.0000\n",
    "    0.0000   -0.0000    0.3333   -0.0000    0.0000    1.0000   -1.0000\n",
    "   -0.1667         0   -0.0000    0.3333         0    1.0000         0\n",
    "         0   -0.1667    0.0000         0    0.3333         0    1.0000\n",
    "    1.0000         0    1.0000    1.0000         0         0         0\n",
    "         0    1.0000   -1.0000         0    1.0000         0         0])# \\\n",
    "#[0., 0., 0., 0., 0., 4.9348022, 4.9348022]"
   ]
  },
  {
   "cell_type": "code",
   "execution_count": 11,
   "id": "f421e087",
   "metadata": {},
   "outputs": [
    {
     "data": {
      "text/plain": [
       "volumeforce (generic function with 1 method)"
      ]
     },
     "execution_count": 11,
     "metadata": {},
     "output_type": "execute_result"
    }
   ],
   "source": [
    "function f(x, y) sin(2π * x) * sin(2π * y) end\n",
    "function volumeforce(x1, y1, x2, y2, x3, y3)\n",
    "    area = abs(det([1. x1 y1\n",
    "                    1. x2 y2\n",
    "                    1. x3 y3]))\n",
    "    xc = (x1 + x2 + x3) / 3.0\n",
    "    yc = (y1 + y2 + y3) / 3.0\n",
    "    \n",
    "    return - 0.5 * 8.0 * π^2 * area *f(xc, yc)\n",
    "end"
   ]
  },
  {
   "cell_type": "code",
   "execution_count": 12,
   "id": "39b1034a",
   "metadata": {},
   "outputs": [
    {
     "data": {
      "text/plain": [
       "7-element Vector{Float64}:\n",
       "  14.80440660163403\n",
       "   8.881784197001252e-16\n",
       "  14.804406601634033\n",
       " -14.804406601634039\n",
       " -14.804406601634033\n",
       "  -2.467401100272338\n",
       "  -2.4674011002723386"
      ]
     },
     "execution_count": 12,
     "metadata": {},
     "output_type": "execute_result"
    }
   ],
   "source": [
    "rhs = zeros(NUM_EDGES + NUM_ELEMS)\n",
    "for ielem=1:NUM_ELEMS\n",
    "    trinodes = ELEMENTS[ielem, :]\n",
    "    dof = NUM_EDGES + ielem \n",
    "    rhs[dof] = volumeforce(NODE_COORD[trinodes[1],1], NODE_COORD[trinodes[1],2],\n",
    "                           NODE_COORD[trinodes[2],1], NODE_COORD[trinodes[2],2],\n",
    "                           NODE_COORD[trinodes[3],1], NODE_COORD[trinodes[3],2])\n",
    "end\n",
    "\n",
    "u = A \\ rhs\n",
    "E = view(u, 1:NUM_EDGES)\n",
    "V = view(u, NUM_EDGES+1:NUM_EDGES+NUM_ELEMS)\n",
    "nothing\n",
    "u"
   ]
  },
  {
   "cell_type": "code",
   "execution_count": 13,
   "id": "40753c54",
   "metadata": {},
   "outputs": [
    {
     "data": {
      "image/png": "[encoded data removed]",
      "text/plain": [
       "Figure(PyObject <Figure size 640x480 with 2 Axes>)"
      ]
     },
     "metadata": {},
     "output_type": "display_data"
    },
    {
     "data": {
      "text/plain": [
       "(-2.4674011002723386, -2.467401100272338)"
      ]
     },
     "execution_count": 13,
     "metadata": {},
     "output_type": "execute_result"
    }
   ],
   "source": [
    "solution = zeros(NUM_ELEMS, 3)\n",
    "for ielem=1:NUM_ELEMS\n",
    "    trinodes = ELEMENTS[ielem, :]\n",
    "    xc = (NODE_COORD[trinodes[1],1] +\n",
    "          NODE_COORD[trinodes[2],1] +\n",
    "          NODE_COORD[trinodes[3],1]) / 3.0\n",
    "    yc = (NODE_COORD[trinodes[1],2] +\n",
    "          NODE_COORD[trinodes[2],2] +\n",
    "          NODE_COORD[trinodes[3],2]) / 3.0\n",
    "    solution[ielem, 1] = xc\n",
    "    solution[ielem, 2] = yc\n",
    "    solution[ielem, 3] = u[NUM_EDGES + ielem]\n",
    "end\n",
    "\n",
    "scatter(solution[:, 1], solution[:, 2], c=solution[:, 3], s=5.0)\n",
    "axis(\"equal\")\n",
    "colorbar()\n",
    "extrema(solution[:,3])"
   ]
  },
  {
   "cell_type": "code",
   "execution_count": 14,
   "id": "e219bc09",
   "metadata": {},
   "outputs": [
    {
     "data": {
      "image/png": "[encoded data removed]",
      "text/plain": [
       "Figure(PyObject <Figure size 640x480 with 2 Axes>)"
      ]
     },
     "metadata": {},
     "output_type": "display_data"
    },
    {
     "data": {
      "text/plain": [
       "(-14.804406601634039, 14.804406601634033)"
      ]
     },
     "execution_count": 14,
     "metadata": {},
     "output_type": "execute_result"
    }
   ],
   "source": [
    "solution = zeros(NUM_EDGES, 3)\n",
    "for iedge=1:NUM_EDGES\n",
    "    xc = (NODE_COORD[EDGES[iedge,1],1] +\n",
    "          NODE_COORD[EDGES[iedge,2],1]) / 2.0\n",
    "    yc = (NODE_COORD[EDGES[iedge,1],2] +\n",
    "          NODE_COORD[EDGES[iedge,2],2]) / 2.0\n",
    "    solution[iedge, 1] = xc\n",
    "    solution[iedge, 2] = yc\n",
    "    solution[iedge, 3] = u[iedge]\n",
    "end\n",
    "\n",
    "scatter(solution[:, 1], solution[:, 2], c=solution[:, 3], s=15.0)\n",
    "axis(\"equal\")\n",
    "colorbar()\n",
    "extrema(solution[:,3])"
   ]
  }
 ],
 "metadata": {
  "kernelspec": {
   "display_name": "Julia 1.7.0",
   "language": "julia",
   "name": "julia-1.7"
  },
  "language_info": {
   "file_extension": ".jl",
   "mimetype": "application/julia",
   "name": "julia",
   "version": "1.7.0"
  }
 },
 "nbformat": 4,
 "nbformat_minor": 5
}

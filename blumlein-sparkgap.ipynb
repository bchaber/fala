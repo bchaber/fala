{
 "cells": [
  {
   "cell_type": "code",
   "execution_count": 1,
   "id": "destroyed-carroll",
   "metadata": {},
   "outputs": [],
   "source": [
    "using LinearAlgebra\n",
    "include(\"plotting.jl\")\n",
    "include(\"meshing.jl\")\n",
    "nothing"
   ]
  },
  {
   "cell_type": "code",
   "execution_count": 2,
   "id": "economic-touch",
   "metadata": {},
   "outputs": [
    {
     "data": {
      "text/plain": [
       "abc (generic function with 1 method)"
      ]
     },
     "execution_count": 2,
     "metadata": {},
     "output_type": "execute_result"
    }
   ],
   "source": [
    "stiffness_element(lx, ly) =\n",
    "[lx/ly  1  lx/ly  1\n",
    "   1  ly/lx  1  ly/lx\n",
    " lx/ly  1  lx/ly  1\n",
    "   1  ly/lx  1  ly/lx]\n",
    "\n",
    "mass_element(lx, ly) = (lx * ly) / 6.0 *\n",
    "[ 2. 0 -1  0\n",
    "  0  2  0 -1\n",
    " -1  0  2  0\n",
    "  0 -1  0  2]\n",
    "\n",
    "# WARNING: works ONLY for x̂ normal direction!\n",
    "abc(x̂) = (ly) *\n",
    "[ 0. 0  0  0\n",
    "  0  1  0  0\n",
    "  0  0  0  0\n",
    "  0  0  0  1]"
   ]
  },
  {
   "cell_type": "code",
   "execution_count": 3,
   "id": "north-coast",
   "metadata": {},
   "outputs": [],
   "source": [
    "# Circuit\n",
    "Z0 = 13.2\n",
    "Rs = 3000 # Ω\n",
    "RL = 2Z0  # Ω\n",
    "V0 = 5000 # V\n",
    "\n",
    "# Parameters\n",
    "Δt = 0.05e-9\n",
    "ε0 = 8.854e-12\n",
    "μ0 = 4e-7π\n",
    "εr = 1.\n",
    "μr = 1.\n",
    "σ  = 0.\n",
    "ε  = ε0 * εr\n",
    "μ  = μ0 * μr\n",
    "η  = sqrt(μ / ε)\n",
    "\n",
    "n̂  = x̂ = [1.0, 0.0]\n",
    "nothing"
   ]
  },
  {
   "cell_type": "code",
   "execution_count": 4,
   "id": "southeast-combine",
   "metadata": {},
   "outputs": [],
   "source": [
    "a, b = 2.00, 0.08\n",
    "n, m = 100, 4\n",
    "lx = a / n\n",
    "ly = b / m\n",
    "el2ed, el2edd = quadmesh(a, b, n, m);"
   ]
  },
  {
   "cell_type": "code",
   "execution_count": 5,
   "id": "worthy-parallel",
   "metadata": {},
   "outputs": [
    {
     "data": {
      "text/plain": [
       "dof_type (generic function with 1 method)"
      ]
     },
     "execution_count": 5,
     "metadata": {},
     "output_type": "execute_result"
    }
   ],
   "source": [
    "DOF_NONE = 0\n",
    "DOF_PEC  = 1\n",
    "DOF_SRC  = 2\n",
    "DOF_ABC  = 3\n",
    "DOF_LOAD = 4\n",
    "DOF_SG   = 5\n",
    "\n",
    "function dof_type(n, m)\n",
    "    global NUM_EDGES\n",
    "    N = NUM_EDGES\n",
    "    h = [  1+(2n+1)i: n+0+(2n+1)i for i=0:m]\n",
    "    v = [n+1+(2n+1)i:2n+1+(2n+1)i for i=0:m-1]\n",
    "    start, stop = extrema(h[3])\n",
    "    h[3] = start:stop - 5\n",
    "    \n",
    "    dof_flag = zeros(Int64, N)\n",
    "    \n",
    "    dof_flag[(h[1])] .= DOF_PEC # BOTTOM\n",
    "    dof_flag[(h[3])] .= DOF_PEC # MIDDLE\n",
    "    dof_flag[(h[5])] .= DOF_PEC # TOP\n",
    "    \n",
    "    dof_flag[first(v[1])] = DOF_SRC\n",
    "    dof_flag[first(v[2])] = DOF_SRC\n",
    "    \n",
    "    dof_flag[first(v[3])] = DOF_SG\n",
    "    dof_flag[first(v[4])] = DOF_SG\n",
    "    \n",
    "    dof_flag[ last(v[1])] = DOF_LOAD\n",
    "    dof_flag[ last(v[2])] = DOF_LOAD\n",
    "    dof_flag[ last(v[3])] = DOF_LOAD\n",
    "    dof_flag[ last(v[4])] = DOF_LOAD\n",
    "    \n",
    "    return dof_flag\n",
    "end"
   ]
  },
  {
   "cell_type": "code",
   "execution_count": 6,
   "id": "republican-cyprus",
   "metadata": {},
   "outputs": [],
   "source": [
    "dof = collect(1:NUM_EDGES)\n",
    "\n",
    "Γ = dof_type(n, m)\n",
    "f = Γ .!= DOF_PEC\n",
    "NUM_DOFS = NUM_EDGES;"
   ]
  },
  {
   "cell_type": "code",
   "execution_count": 7,
   "id": "exciting-alberta",
   "metadata": {},
   "outputs": [],
   "source": [
    "using SparseArrays\n",
    "# ASSUMPTION: Waveguide is homogenous\n",
    "# Assemble stiffness and mass matrices\n",
    "S = spzeros(NUM_DOFS, NUM_DOFS) # 1/μr ∫( ∇Ni × ∇Nj )dΩ\n",
    "R = spzeros(NUM_DOFS, NUM_DOFS) # μ0 σ ∫( ∇Ni ⋅ ∇Nj )dΩ\n",
    "T = spzeros(NUM_DOFS, NUM_DOFS) # μ0 ε ∫( ∇Ni ⋅ ∇Nj )dΩ\n",
    "B = spzeros(NUM_DOFS, NUM_DOFS) # μ0/η ∫(( n̂ × ∇Ni ) ⋅ ( n̂ × ∇Nj ))dΓ\n",
    "\n",
    "# ASSUMPTION: Waveguide is homogenous\n",
    "for ielem = 1:NUM_ELEMS # Assemble by elements\n",
    "  Se = stiffness_element(lx, ly)\n",
    "  Te = mass_element(lx, ly)\n",
    "  Be = abc(n̂) # works only for x̂ normal direction\n",
    "  \n",
    "  for jedge = 1:4\n",
    "    dj = el2edd[ielem, jedge]\n",
    "    jj = dof[el2ed[ielem, jedge]]\n",
    "    if jj == 0\n",
    "      continue\n",
    "    end\n",
    "    \n",
    "    for kedge = 1:4\n",
    "      dk = el2edd[ielem, kedge]\n",
    "      kk = dof[el2ed[ielem, kedge]]\n",
    "      if kk == 0\n",
    "        continue\n",
    "      end\n",
    "\n",
    "      S[jj, kk] = S[jj, kk] + dj * dk * (1/μr) * Se[jedge, kedge]\n",
    "      T[jj, kk] = T[jj, kk] + dj * dk * (μ0*ε) * Te[jedge, kedge]\n",
    "            \n",
    "    \n",
    "      if Γ[jj] == DOF_ABC\n",
    "        B[jj, kk] = B[jj, kk] + (μ0/η) * dj * dk * Be[jedge, kedge]\n",
    "      end\n",
    "    end\n",
    "  end\n",
    "end"
   ]
  },
  {
   "cell_type": "code",
   "execution_count": 8,
   "id": "interpreted-reporter",
   "metadata": {},
   "outputs": [
    {
     "data": {
      "image/png": "[encoded data removed]",
      "text/plain": [
       "Figure(PyObject <Figure size 500x500 with 4 Axes>)"
      ]
     },
     "metadata": {},
     "output_type": "display_data"
    }
   ],
   "source": [
    "using PyPlot\n",
    "figure(figsize=(5, 5))\n",
    "subplot(2, 2, 1); spy(S); title(\"S\"); xticks([]); yticks([]);\n",
    "subplot(2, 2, 2); spy(R); title(\"R\"); xticks([]); yticks([]);\n",
    "subplot(2, 2, 3); spy(T); title(\"T\"); xticks([]); yticks([]);\n",
    "subplot(2, 2, 4); spy(B); title(\"B\"); xticks([]); yticks([]);\n",
    "tight_layout()"
   ]
  },
  {
   "cell_type": "code",
   "execution_count": 9,
   "id": "featured-bulletin",
   "metadata": {},
   "outputs": [],
   "source": [
    "A  = (+0.25Δt^2 * S +  T + 0.5Δt * B + 0.5Δt * R)\n",
    "for ii = 1:NUM_EDGES\n",
    "  if Γ[ii] == DOF_PEC\n",
    "        A[:,dof[ii]].= 0.0\n",
    "        A[dof[ii],:].= 0.0\n",
    "        A[dof[ii], dof[ii]] = 1.0\n",
    "  end\n",
    "end"
   ]
  },
  {
   "cell_type": "code",
   "execution_count": 10,
   "id": "4cdd9635",
   "metadata": {},
   "outputs": [],
   "source": [
    "mm = 1e-3 # m\n",
    "atm = 101_325.0 # Pa\n",
    "gasdensity(p) = 1.2p/1atm # at 25 degrees C.\n",
    "electricfield(V, d) = V/d\n",
    "\n",
    "# channel radius\n",
    "# ρ in [kg/m3], i in [A], t in [s], result in [m]\n",
    "braginskii(ρ, i, t) = 9.3e-4 * (1e-3*i)^(1/3) *\n",
    "                               (1e+6*t)^(1/2) *\n",
    "                               (1e-3*ρ)^(1/6)\n",
    "# breakdown delay\n",
    "# E in [V/m], ρ in [kg/m3], result in [s]\n",
    "thmartin(E, ρ) = (987e2/1e-3ρ) * (1e-5E/1e-3ρ)^(-3.44)\n",
    "\n",
    "# breakdown voltage\n",
    "# p in [Pa], d in [m], result in [V]\n",
    "bruce(p, d) = 24550 *     (1e2d * p / 1atm) + \n",
    "               6660 * sqrt(1e2d * p / 1atm)\n",
    "\n",
    "# wire inductance\n",
    "# r in [m], d in [m], result in [H] \n",
    "grover(r, d) = 200e-9d * (log(200d / r) - .75)\n",
    "\n",
    "# arc resistance\n",
    "# r in [m], d in [m], i in [A], result in [Ω]\n",
    "vlastos(r, d, ∫i²) = 876d * r^(2/5) / ∫i²^(3/5)\n",
    "nothing"
   ]
  },
  {
   "cell_type": "code",
   "execution_count": 11,
   "id": "45cc5841",
   "metadata": {},
   "outputs": [
    {
     "data": {
      "text/plain": [
       "states (generic function with 1 method)"
      ]
     },
     "execution_count": 11,
     "metadata": {},
     "output_type": "execute_result"
    }
   ],
   "source": [
    "using StaticArrays\n",
    "using ACME\n",
    "\n",
    "nonlinear_eq = @inline function(q, params)\n",
    "    v, i, Φ, u = q\n",
    "    if params[\"channel_on\"] == false\n",
    "        j = @SVector [(v - u), (i)]\n",
    "        J = @SMatrix [(1) (0.) (.0) (-1);\n",
    "                      (0) (1.) (.0) (.0)] \n",
    "    else\n",
    "        if i ≈ 0.0 i = 1e-12 end\n",
    "        i = float(i) + ϵi\n",
    "        ch_rad = braginskii(gasdensity(params[\"pressure\"]), abs(i), params[\"t_arc\"])\n",
    "        R  = vlastos(ch_rad, params[\"distance\"], params[\"∫i²\"] + (i^2) * params[\"Δt\"])\n",
    "        L  = 3.0grover(ch_rad, params[\"distance\"])\n",
    "        Ri = R*i\n",
    "        Li = L*i\n",
    "        params[\"ch_rad\"] = ch_rad.v\n",
    "        params[\"R\"] = R.v\n",
    "        params[\"L\"] = L.v\n",
    "        j = @SVector [(Ri.v - u), (Li.v - Φ)]\n",
    "        J = @SMatrix [(0) (Ri.di) (.0) (-1);\n",
    "                      (0) (Li.di) (-1) (.0)] \n",
    "    end\n",
    "    return (j, J)\n",
    "    end\n",
    "\n",
    "afternewton = @inline function(q, params)\n",
    "    v, i, Φ, u = q\n",
    "    i = float(i)\n",
    "    if params[\"channel_on\"]\n",
    "        if i > params[\"i_min\"]\n",
    "            params[\"t_arc\"] += params[\"Δt\"]\n",
    "            params[\"∫i²\"] += i^2 * params[\"Δt\"]\n",
    "        else\n",
    "            params[\"channel_on\"] = false\n",
    "            params[\"∫i²\"] = 0.0\n",
    "            params[\"t_arc\"] = 0.0\n",
    "            params[\"R\"] = NaN\n",
    "            params[\"L\"] = NaN\n",
    "            params[\"ch_rad\"] = NaN\n",
    "        end\n",
    "    elseif v > params[\"v_break\"]\n",
    "        t_delay = thmartin(electricfield(v,params[\"distance\"]), gasdensity(params[\"pressure\"]))\n",
    "        params[\"t_over\"] += params[\"Δt\"]\n",
    "        if params[\"t_over\"] > t_delay\n",
    "            params[\"channel_on\"] = true\n",
    "            params[\"∫i²\"] = i^2 * params[\"Δt\"]\n",
    "            params[\"t_arc\"] = params[\"Δt\"]\n",
    "            params[\"t_over\"] = 0.0\n",
    "        end\n",
    "    end\n",
    "end\n",
    "\n",
    "arcchannel() =\n",
    "  ACME.Element(mv=[1;1;0;0;0], mi=[0;0;1;0;0], mx=[0 -1;0 0;0 0;1 0;0 1], mxd=[-1 0;0 0;0 0;0 0;0 0],\n",
    "        mq=[0 0 0 0;-1 0 0 0;0 -1 0 0; 0 0 -1 0; 0 0 0 -1], ports=[:1 => :2],\n",
    "        nonlinear_eq = nonlinear_eq)\n",
    "\n",
    "include(\"automatic-differentiation.jl\")\n",
    "include(\"circuit-model.jl\")"
   ]
  },
  {
   "cell_type": "code",
   "execution_count": 12,
   "id": "9c45b3fb",
   "metadata": {},
   "outputs": [],
   "source": [
    "params = Dict{String, Any}(\n",
    "    \"R\" => NaN,\n",
    "    \"L\" => NaN,\n",
    "    \"ch_rad\" => NaN,\n",
    "    \"v_break\" => bruce(1atm, 1mm),\n",
    "    \"pressure\" => 1atm,\n",
    "    \"distance\" => 1mm,\n",
    "    \"channel_on\" => false,\n",
    "    \"i_min\" => 5e-5,\n",
    "    \"Δt\" => Δt,\n",
    "    \"∫i²\" => 0.0,\n",
    "    \"t_arc\" => 0.0,\n",
    "    \"t_over\" => 0.0\n",
    ")\n",
    "\n",
    "sparkgap = let\n",
    "    cir = @circuit begin\n",
    "        i = currentprobe()\n",
    "        v = voltagesource()\n",
    "        ⚡ = arcchannel()\n",
    "    end\n",
    "\n",
    "    connect!(cir, (:v, +), (:i, +))\n",
    "    connect!(cir, (:i, -), (:⚡, 1))\n",
    "    connect!(cir, (:v, -), (:⚡, 2), :gnd)\n",
    "\n",
    "    A, B, C, Di, Ei, Fi, Dv, Ev, Fv, Dq, Eq, Fq = matrices(cir, Δt, 1)\n",
    "    x̄, y, ū, q̄, z = states(B, C, Di, Dq, T=Dual{Float64})\n",
    "    DifferentiableModel(A, B, C, Di, Ei, Fi, Dq, Eq, Fq,\n",
    "        x̄, y, ū, q̄, z, params)\n",
    "end\n",
    "nothing"
   ]
  },
  {
   "cell_type": "code",
   "execution_count": 13,
   "id": "experimental-salmon",
   "metadata": {},
   "outputs": [],
   "source": [
    "voltage = let\n",
    "    cir = @circuit begin\n",
    "        i = currentprobe()\n",
    "        u = voltagesource()\n",
    "        v = voltagesource()\n",
    "        l = inductor(1e-12)\n",
    "        r = resistor(Rs)\n",
    "    end\n",
    "\n",
    "    connect!(cir, (:u, +), (:v, -))\n",
    "    connect!(cir, (:v, +), (:l, 1))\n",
    "    connect!(cir, (:l, 2), (:r, 1))\n",
    "    connect!(cir, (:r, 2), (:i, +))\n",
    "    connect!(cir, (:i, -), :gnd)\n",
    "    connect!(cir, (:u, -), :gnd)\n",
    "\n",
    "\n",
    "    A, B, C, Di, Ei, Fi, Dv, Ev, Fv, Dq, Eq, Fq = matrices(cir, Δt, 1)\n",
    "    x̄, y, ū, q̄, z = states(B, C, Di, Dq, T=Dual{Float64})\n",
    "    DifferentiableModel(A, B, C, Di, Ei, Fi, Dq, Eq, Fq,\n",
    "        x̄, y, ū, q̄, z, Dict{String, Any}())\n",
    "end\n",
    "nothing"
   ]
  },
  {
   "cell_type": "code",
   "execution_count": 14,
   "id": "4626bc48",
   "metadata": {},
   "outputs": [],
   "source": [
    "antenna = let\n",
    "    cir = @circuit begin\n",
    "        i = currentprobe()\n",
    "        u = voltagesource()\n",
    "        r = resistor(2.344e+3)\n",
    "        l = inductor(786.9e-9)\n",
    "        c = capacitor(5.19e-12)\n",
    "        rsh = resistor(1e2)\n",
    "        lsh = inductor(800e-6)\n",
    "    end\n",
    "\n",
    "    connect!(cir, (:lsh, 2), (:rsh, 1))\n",
    "    connect!(cir, (:u, +), (:lsh, 1))\n",
    "    connect!(cir, (:i, +), (:rsh, 2))\n",
    "    connect!(cir, (:u, +), (:c, 1))\n",
    "    connect!(cir, (:c, 2), (:l, 1), (:r, 1))\n",
    "    connect!(cir, (:i, +), (:l, 2), (:r, 2))\n",
    "    connect!(cir, (:i, -), (:u, -), :gnd)\n",
    "\n",
    "    A, B, C, Di, Ei, Fi, Dv, Ev, Fv, Dq, Eq, Fq = matrices(cir, Δt, 1)\n",
    "    x̄, y, ū, q̄, z = states(B, C, Di, Dq, T=Dual{Float64})\n",
    "    DifferentiableModel(A, B, C, Di, Ei, Fi, Dq, Eq, Fq,\n",
    "        x̄, y, ū, q̄, z, Dict{String, Any}())\n",
    "end\n",
    "nothing"
   ]
  },
  {
   "cell_type": "code",
   "execution_count": 15,
   "id": "compatible-identification",
   "metadata": {},
   "outputs": [
    {
     "data": {
      "text/plain": [
       "assemble_circuit! (generic function with 1 method)"
      ]
     },
     "execution_count": 15,
     "metadata": {},
     "output_type": "execute_result"
    }
   ],
   "source": [
    "sigmoid(x) = 1.0 / (1.0 + exp(-10x))\n",
    "Rsp(τ) = sigmoid(τ - 1.0)\n",
    "\n",
    "function assemble_circuit!(i, didv, v, t)\n",
    "    vL = sum(v[dof[Γ .== DOF_LOAD]])\n",
    "    vSG = sum(v[dof[Γ .== DOF_SG]])\n",
    "    vSRC = sum(v[dof[Γ .== DOF_SRC]])\n",
    "    \n",
    "    #x = first(step!(copy(antenna), vL + ϵv))\n",
    "    y = first(step!(copy(sparkgap), vSG + ϵv, nonlinear_eq))\n",
    "    z = first(step!(copy(voltage),[vSRC + ϵv; V0]))\n",
    "    for ii = 1:NUM_EDGES\n",
    "        jj = dof[ii]\n",
    "        if Γ[ii] == DOF_SG # realistic spark-gap (Pouncey&Lehr)\n",
    "            i[jj] = (y.v) * (b / ly)\n",
    "            didv[jj, jj] =  (y.dv) * (b / ly)\n",
    "        end\n",
    "        \n",
    "        if Γ[ii] == DOF_SG # time-triggered primitive, spark-gap\n",
    "            #R = 1e15 - 1e15Rsp(1e9t - 894) + 1e15Rsp(1e9t - 913) + 0.1\n",
    "            #i[jj] = v[jj] * 1.0 / R * (b / ly)\n",
    "            #didv[jj, jj] =  1.0 / R * (b / ly)\n",
    "        end\n",
    "\n",
    "        if Γ[ii] == DOF_SRC\n",
    "            i[jj] = (z.v) * (b / ly)\n",
    "            didv[jj, jj] = (z.dv) * (b / ly)\n",
    "        end\n",
    "\n",
    "        if Γ[ii] == DOF_LOAD\n",
    "            #i[jj] = (x.v) * (b / ly)\n",
    "            #didv[jj, jj] = (x.dv) * (b / ly)\n",
    "            i[jj] = v[jj] * 1.0 / RL * (b / ly)\n",
    "            didv[jj, jj] =  1.0 / RL * (b / ly)\n",
    "        end\n",
    "    end\n",
    "end"
   ]
  },
  {
   "cell_type": "code",
   "execution_count": 16,
   "id": "significant-iceland",
   "metadata": {},
   "outputs": [],
   "source": [
    "using JLD2\n",
    "\n",
    "\n",
    "function calculate_current(h, bnd)\n",
    "    i = 0.0\n",
    "    for ii = 1:NUM_EDGES\n",
    "        jj = dof[ii]\n",
    "        if Γ[ii] == bnd\n",
    "            i += h[jj]\n",
    "        end\n",
    "    end\n",
    "    return i\n",
    "end\n",
    "\n",
    "function calculate_voltage(e, bnd)\n",
    "    v = 0.0\n",
    "    for ii = 1:NUM_EDGES\n",
    "        jj = dof[ii]\n",
    "        if Γ[ii] == bnd\n",
    "            v += e[jj]\n",
    "        end\n",
    "    end\n",
    "    return v\n",
    "end\n",
    "\n",
    "x = 0.010:0.050:0.51\n",
    "y = 0.005:0.012:0.07\n",
    "xx, yy = meshgrid(x, y);\n",
    "\n",
    "nt  = 40_000\n",
    "t   = 0.00\n",
    "e   = zeros(NUM_EDGES)\n",
    "h   = zeros(NUM_EDGES)\n",
    "\n",
    "ep  = zeros(NUM_EDGES)\n",
    "epp = zeros(NUM_EDGES)\n",
    "hp  = zeros(NUM_EDGES)\n",
    "hpp = zeros(NUM_EDGES)\n",
    "\n",
    "dhde = spzeros(NUM_EDGES, NUM_EDGES)\n",
    "v = Dict{Int8, Vector{Float64}}(DOF_SG => zeros(nt), DOF_SRC => zeros(nt), DOF_LOAD => zeros(nt))\n",
    "i = Dict{Int8, Vector{Float64}}(DOF_SG => zeros(nt), DOF_SRC => zeros(nt), DOF_LOAD => zeros(nt))\n",
    "r = [NaN for i=1:nt]\n",
    "l = [NaN for i=1:nt]\n",
    "⚡ = falses(nt)\n",
    "nothing"
   ]
  },
  {
   "cell_type": "code",
   "execution_count": 17,
   "id": "055b596b",
   "metadata": {},
   "outputs": [
    {
     "data": {
      "text/plain": [
       "vin (generic function with 1 method)"
      ]
     },
     "execution_count": 17,
     "metadata": {},
     "output_type": "execute_result"
    }
   ],
   "source": [
    "dexp(t) = -exp(-0.1e9t) + exp(-1e6t)\n",
    "vin(t; A=1.0) = A * dexp(t - 10e-9) * Rsp(5e8t - 4.35)"
   ]
  },
  {
   "cell_type": "code",
   "execution_count": 18,
   "id": "single-disease",
   "metadata": {},
   "outputs": [
    {
     "name": "stderr",
     "output_type": "stream",
     "text": [
      "\r",
      "\u001b[32mProgress: 100%|█████████████████████████████████████████| Time: 0:03:54\u001b[39m\r\n",
      "\u001b[34m  t:          1999.999999998321\u001b[39m\r\n",
      "\u001b[34m  channel:    false\u001b[39m\r\n",
      "\u001b[34m  nonlinear:  5.107495784179104e-13\u001b[39m\r\n",
      "\u001b[34m  sparkgap:   616.8995636177215\u001b[39m\r\n",
      "\u001b[34m  source:     -502.43191622082304\u001b[39m\r\n",
      "\u001b[34m  load:       110.8104665740214\u001b[39m\n"
     ]
    }
   ],
   "source": [
    "using ProgressMeter; \n",
    "ProgressMeter.ijulia_behavior(:clear)\n",
    "progress = Progress(nt)\n",
    "\n",
    "N = 0\n",
    "Δe = similar(e)\n",
    "Fi = zeros(NUM_EDGES)\n",
    "Ji = spzeros(NUM_EDGES, NUM_EDGES)\n",
    "for it=1:nt\n",
    "    bi = (0.50Δt^2 * S - 2T) * ep + (0.25Δt^2 * S +  T - 0.5Δt * B - 0.5Δt * R) * epp\n",
    "    V0 = vin(t; A=10.5e3)\n",
    "    fill!(Δe, Inf)\n",
    "    while norm(Δe) > 1e-12 && N < 10\n",
    "        assemble_circuit!(h, dhde, e, t)\n",
    "        Fi .= A*e + 0.5Δt * ly^2 * μ0 * h - 0.5Δt * ly^2 * μ0 * hpp + bi\n",
    "        Ji .= A   + 0.5Δt * ly^2 * μ0 * dhde\n",
    "        Δe .= Ji\\Fi\n",
    "        e .-= Δe\n",
    "        N += 1\n",
    "    end\n",
    "    \n",
    "    assemble_circuit!(h, dhde, e, t)\n",
    "    #step!(antenna, sum(e[dof[Γ .== DOF_LOAD]]))\n",
    "    step!(sparkgap, sum(e[dof[Γ .== DOF_SG]]), nonlinear_eq)\n",
    "    step!(voltage, [sum(e[dof[Γ .== DOF_SRC]]); V0])\n",
    "    afternewton(sparkgap.q̄, sparkgap.params)\n",
    "    N = 0\n",
    "    \n",
    "    epp .= ep\n",
    "    ep  .= e\n",
    "\n",
    "    hpp .= hp\n",
    "    hp  .= h\n",
    "    \n",
    "    r[it] = params[\"R\"]\n",
    "    l[it] = params[\"L\"]\n",
    "    ⚡[it] = params[\"channel_on\"]\n",
    "    for boundary in [DOF_LOAD, DOF_SG, DOF_SRC]\n",
    "        v[boundary][it] = calculate_voltage(e, boundary)\n",
    "        i[boundary][it] = calculate_current(h, boundary)\n",
    "    end\n",
    "    \n",
    "    t  += Δt\n",
    "    \n",
    "    update!(progress, it; showvalues=[\n",
    "            (:t, 1e9t),\n",
    "            (:channel, ⚡[it]),\n",
    "            (:nonlinear, norm(Δe)),\n",
    "            (:sparkgap, v[DOF_SG][it]),\n",
    "            (:source, v[DOF_SRC][it]),\n",
    "            (:load, v[DOF_LOAD][it])\n",
    "            ])\n",
    "end"
   ]
  },
  {
   "cell_type": "code",
   "execution_count": 19,
   "id": "republican-toddler",
   "metadata": {},
   "outputs": [
    {
     "data": {
      "image/png": "[encoded data removed]",
      "text/plain": [
       "Figure(PyObject <Figure size 1000x200 with 2 Axes>)"
      ]
     },
     "metadata": {},
     "output_type": "display_data"
    }
   ],
   "source": [
    "using PyPlot\n",
    "x = (1:n) .* (a/n) .- 0.5(a/n)\n",
    "y = (1:m) .* (b/m) .- 0.5(b/m)\n",
    "E = evaluate(WhitneyRectangleElement(), e, dof, x, y,\n",
    "    length(x), length(y), a/n, b/m, el2ed, el2edd)\n",
    "normE  = @. sqrt(E[:, :, 1]^2 + E[:, :, 2]^2)\n",
    "xx, yy = meshgrid(x, y);\n",
    "\n",
    "figure(figsize=(10, 2))\n",
    "imshow(E[:,:,2]', cmap=\"bwr\", interpolation=\"none\"); colorbar()\n",
    "quiver(E[:,:,1]',E[:,:,2]')\n",
    "xticks(0.5:n, labels=[])\n",
    "yticks(0.5:m, labels=[])\n",
    "xlim((79.5, 99.5))\n",
    "gca().tick_params(direction=\"in\")\n",
    "gca().grid(color=\"k\", linewidth=1.1)"
   ]
  },
  {
   "cell_type": "code",
   "execution_count": 20,
   "id": "3a0227ac",
   "metadata": {},
   "outputs": [
    {
     "data": {
      "image/png": "[encoded data removed]",
      "text/plain": [
       "Figure(PyObject <Figure size 640x480 with 1 Axes>)"
      ]
     },
     "metadata": {},
     "output_type": "display_data"
    },
    {
     "data": {
      "text/plain": [
       "PyObject <matplotlib.legend.Legend object at 0x7fb61c92d970>"
      ]
     },
     "execution_count": 20,
     "metadata": {},
     "output_type": "execute_result"
    }
   ],
   "source": [
    "ts = 1e9Δt * collect(1:nt)\n",
    "\n",
    "xlabel(\"time (ns)\")\n",
    "grid()\n",
    "plot(ts, v[DOF_LOAD],\"b-\")\n",
    "plot(ts,-v[DOF_SG],  \"r-\")\n",
    "plot(ts, v[DOF_SRC], \"k-\")\n",
    "#xlim([880, 1200])\n",
    "#xlim([1150, 1460])\n",
    "#xlim([1410, 1700])\n",
    "ylabel(\"voltage (V)\")\n",
    "xlim((660, 700))\n",
    "legend([\"load\", \"spark gap\", \"source\"])"
   ]
  },
  {
   "cell_type": "code",
   "execution_count": 21,
   "id": "promotional-waters",
   "metadata": {},
   "outputs": [
    {
     "data": {
      "image/png": "[encoded data removed]",
      "text/plain": [
       "Figure(PyObject <Figure size 1000x400 with 6 Axes>)"
      ]
     },
     "metadata": {},
     "output_type": "display_data"
    }
   ],
   "source": [
    "ts = 1e9Δt * collect(1:nt)\n",
    "\n",
    "figure(figsize=(10,4))\n",
    "#xlabel(\"time (ns)\")\n",
    "subplot(2,3,1); semilogy(ts, r, \"b-\"); xlim([896, 914]); xticks([]); ylabel(\"R (Ω)\")\n",
    "\n",
    "subplot(2,3,4); plot(ts, 1e9l, \"r-\");  xlim([896, 914]); ylabel(\"L (nH)\");\n",
    "gca().xaxis.set_minor_locator(plt.MaxNLocator(20))\n",
    "\n",
    "subplot(2,3,2); semilogy(ts, r, \"b-\"); xlim([1175, 1193]); xticks([]); yticks([])\n",
    "subplot(2,3,5); plot(ts, 1e9l, \"r-\");  xlim([1175, 1193]); yticks([])\n",
    "gca().xaxis.set_minor_locator(plt.MaxNLocator(20))\n",
    "\n",
    "\n",
    "subplot(2,3,3); semilogy(ts, r, \"b-\"); xlim([1432, 1450]); xticks([]); yticks([])\n",
    "subplot(2,3,6); plot(ts, 1e9l, \"r-\");  xlim([1432, 1450]); yticks([]); \n",
    "gca().xaxis.set_minor_locator(plt.MaxNLocator(20))\n",
    "#xlim([880, 930])\n",
    "#xlim([1160, 1210])\n",
    "#xlim([1415, 1465])\n",
    "#ylabel(\"voltage (V)\")\n",
    "#legend([\"R\", \"L\"])"
   ]
  }
 ],
 "metadata": {
  "kernelspec": {
   "display_name": "Julia 1.6.3",
   "language": "julia",
   "name": "julia-1.6"
  },
  "language_info": {
   "file_extension": ".jl",
   "mimetype": "application/julia",
   "name": "julia",
   "version": "1.6.3"
  }
 },
 "nbformat": 4,
 "nbformat_minor": 5
}
